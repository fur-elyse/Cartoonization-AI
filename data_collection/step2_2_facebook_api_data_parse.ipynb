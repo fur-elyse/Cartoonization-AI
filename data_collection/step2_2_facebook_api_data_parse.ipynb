{
  "nbformat": 4,
  "nbformat_minor": 0,
  "metadata": {
    "colab": {
      "name": "step2.2_facebook_api_data_parse.ipynb",
      "provenance": [],
      "collapsed_sections": [],
      "toc_visible": true,
      "include_colab_link": true
    },
    "kernelspec": {
      "name": "python3",
      "display_name": "Python 3"
    }
  },
  "cells": [
    {
      "cell_type": "markdown",
      "metadata": {
        "id": "view-in-github",
        "colab_type": "text"
      },
      "source": [
        "<a href=\"https://colab.research.google.com/github/fur-elyse/Cartoonization-AI/blob/master/data_collection/step2_2_facebook_api_data_parse.ipynb\" target=\"_parent\"><img src=\"https://colab.research.google.com/assets/colab-badge.svg\" alt=\"Open In Colab\"/></a>"
      ]
    },
    {
      "cell_type": "code",
      "metadata": {
        "id": "GFk7tAvCnaS5",
        "colab": {
          "base_uri": "https://localhost:8080/",
          "height": 121
        },
        "outputId": "d0f33224-43b8-4c5f-b3f3-ec64a9583e9e"
      },
      "source": [
        "from google.colab import drive\n",
        "drive.mount('/content/drive')"
      ],
      "execution_count": null,
      "outputs": [
        {
          "output_type": "stream",
          "text": [
            "Go to this URL in a browser: https://accounts.google.com/o/oauth2/auth?client_id=947318989803-6bn6qk8qdgf4n4g3pfee6491hc0brc4i.apps.googleusercontent.com&redirect_uri=urn%3aietf%3awg%3aoauth%3a2.0%3aoob&scope=email%20https%3a%2f%2fwww.googleapis.com%2fauth%2fdocs.test%20https%3a%2f%2fwww.googleapis.com%2fauth%2fdrive%20https%3a%2f%2fwww.googleapis.com%2fauth%2fdrive.photos.readonly%20https%3a%2f%2fwww.googleapis.com%2fauth%2fpeopleapi.readonly&response_type=code\n",
            "\n",
            "Enter your authorization code:\n",
            "··········\n",
            "Mounted at /content/drive\n"
          ],
          "name": "stdout"
        }
      ]
    },
    {
      "cell_type": "markdown",
      "metadata": {
        "id": "aCM7qXlrY5mn"
      },
      "source": [
        "## Import Libraries"
      ]
    },
    {
      "cell_type": "code",
      "metadata": {
        "id": "gNBC562lY4z4"
      },
      "source": [
        "import pandas as pd\n",
        "import numpy as np\n",
        "from datetime import datetime as dt\n",
        "import requests\n",
        "import time\n",
        "import json\n",
        "import re"
      ],
      "execution_count": null,
      "outputs": []
    },
    {
      "cell_type": "markdown",
      "metadata": {
        "id": "TF_vgCY87B5F"
      },
      "source": [
        "### EDA"
      ]
    },
    {
      "cell_type": "code",
      "metadata": {
        "id": "H8TgCvXE9FxP"
      },
      "source": [
        "src_fname_type = \"f1\" \n",
        "src_fname = \"fb_data_json_List_of Accredited AEs-August_8_2020_c$_master_data_w_map_details.csv\"\n",
        "src_fpath = \"/content/drive/My Drive/DOT/consolidated_fb_data_api_pull/\" + src_fname\n",
        "\n",
        "# src_fname_type = \"f2\" \n",
        "# src_fname = \"fb_data_json_List_of Accredited AEs-August_8_2020_c$_master_data_w_map_details.csv\"\n",
        "# src_fpath = \"/content/drive/My Drive/DOT/consolidated_fb_data_api_pull/\" + src_fname\n",
        "\n",
        "src_df = pd.read_csv(src_fpath, encoding='latin1')"
      ],
      "execution_count": null,
      "outputs": []
    },
    {
      "cell_type": "code",
      "metadata": {
        "id": "C-q2ZOFY9H-o",
        "colab": {
          "base_uri": "https://localhost:8080/",
          "height": 484
        },
        "outputId": "7ee004b1-2341-4181-d83f-24b76dba57e9"
      },
      "source": [
        "src_df.head()"
      ],
      "execution_count": null,
      "outputs": [
        {
          "output_type": "execute_result",
          "data": {
            "text/html": [
              "<div>\n",
              "<style scoped>\n",
              "    .dataframe tbody tr th:only-of-type {\n",
              "        vertical-align: middle;\n",
              "    }\n",
              "\n",
              "    .dataframe tbody tr th {\n",
              "        vertical-align: top;\n",
              "    }\n",
              "\n",
              "    .dataframe thead th {\n",
              "        text-align: right;\n",
              "    }\n",
              "</style>\n",
              "<table border=\"1\" class=\"dataframe\">\n",
              "  <thead>\n",
              "    <tr style=\"text-align: right;\">\n",
              "      <th></th>\n",
              "      <th>Province</th>\n",
              "      <th>City/Municipality</th>\n",
              "      <th>Category</th>\n",
              "      <th>Classification</th>\n",
              "      <th>Entity Name</th>\n",
              "      <th>Email Address</th>\n",
              "      <th>Phone/Mobile Number</th>\n",
              "      <th>General Manager</th>\n",
              "      <th>Latitude</th>\n",
              "      <th>Longitude</th>\n",
              "      <th>Facebook Page</th>\n",
              "      <th>Website</th>\n",
              "      <th># of Rooms</th>\n",
              "      <th>business_status</th>\n",
              "      <th>formatted_phone_number</th>\n",
              "      <th>geometry</th>\n",
              "      <th>icon</th>\n",
              "      <th>place_id</th>\n",
              "      <th>open_hours</th>\n",
              "      <th>photos</th>\n",
              "      <th>rating</th>\n",
              "      <th>reviews</th>\n",
              "      <th>place_types</th>\n",
              "      <th>map_url</th>\n",
              "      <th>num_ratings</th>\n",
              "      <th>vicinity</th>\n",
              "      <th>dist_val_10</th>\n",
              "      <th>dist_val_50</th>\n",
              "      <th>place_name_q</th>\n",
              "    </tr>\n",
              "  </thead>\n",
              "  <tbody>\n",
              "    <tr>\n",
              "      <th>0</th>\n",
              "      <td>Ilocos Norte</td>\n",
              "      <td>Bangui</td>\n",
              "      <td>Mabuhay Accommodation</td>\n",
              "      <td>(blank)</td>\n",
              "      <td>Northwind Travellers' Hotel</td>\n",
              "      <td>acobacen@yahoo.com</td>\n",
              "      <td>9071890214</td>\n",
              "      <td>Lawren Vonce M. Acoba</td>\n",
              "      <td>18.535434</td>\n",
              "      <td>120.772104</td>\n",
              "      <td>NaN</td>\n",
              "      <td>NaN</td>\n",
              "      <td>NaN</td>\n",
              "      <td>OPERATIONAL</td>\n",
              "      <td>0907 189 0214</td>\n",
              "      <td>{'location': {'lat': Decimal('18.5354336'), 'l...</td>\n",
              "      <td>https://maps.gstatic.com/mapfiles/place_api/ic...</td>\n",
              "      <td>ChIJV9dpwbgliTMRE_-zDM0P02M</td>\n",
              "      <td>{'open_now': True, 'periods': [{'open': {'day'...</td>\n",
              "      <td>[{'height': 1960, 'html_attributions': ['&lt;a hr...</td>\n",
              "      <td>3.1</td>\n",
              "      <td>[{'author_name': 'Yvanna May Fernandez', 'auth...</td>\n",
              "      <td>['lodging', 'point_of_interest', 'establishment']</td>\n",
              "      <td>https://maps.google.com/?cid=7193110403196649235</td>\n",
              "      <td>23.0</td>\n",
              "      <td>Nagbalagan Norte, Bangui</td>\n",
              "      <td>{'data': [{'id': '508763849155335', 'category_...</td>\n",
              "      <td>NaN</td>\n",
              "      <td>{'data': [{'id': '937923869738268', 'category_...</td>\n",
              "    </tr>\n",
              "    <tr>\n",
              "      <th>1</th>\n",
              "      <td>Ilocos Norte</td>\n",
              "      <td>Batac</td>\n",
              "      <td>Mabuhay Accommodation</td>\n",
              "      <td>Mabuhay Accommodation</td>\n",
              "      <td>North Stellar Hotel and Events-Place</td>\n",
              "      <td>northstellarhotel@gmail.com</td>\n",
              "      <td>9553800386</td>\n",
              "      <td>Freya Anne R. Yapo</td>\n",
              "      <td>18.051044</td>\n",
              "      <td>120.555237</td>\n",
              "      <td>NaN</td>\n",
              "      <td>NaN</td>\n",
              "      <td>NaN</td>\n",
              "      <td>OPERATIONAL</td>\n",
              "      <td>0955 380 0386</td>\n",
              "      <td>{'location': {'lat': Decimal('18.0510438'), 'l...</td>\n",
              "      <td>https://maps.gstatic.com/mapfiles/place_api/ic...</td>\n",
              "      <td>ChIJ_W-DIjzAjjMRCYzmTpMzoxk</td>\n",
              "      <td>NaN</td>\n",
              "      <td>[{'height': 1860, 'html_attributions': ['&lt;a hr...</td>\n",
              "      <td>3.4</td>\n",
              "      <td>[{'author_name': 'Lito Flojo', 'author_url': '...</td>\n",
              "      <td>['lodging', 'point_of_interest', 'establishment']</td>\n",
              "      <td>https://maps.google.com/?cid=1847376979928976393</td>\n",
              "      <td>77.0</td>\n",
              "      <td>Batac</td>\n",
              "      <td>{'data': [], 'paging': {'cursors': {'after': '...</td>\n",
              "      <td>NaN</td>\n",
              "      <td>{'data': [{'id': '110686590442234', 'category_...</td>\n",
              "    </tr>\n",
              "    <tr>\n",
              "      <th>2</th>\n",
              "      <td>Ilocos Norte</td>\n",
              "      <td>Batac</td>\n",
              "      <td>Mabuhay Accommodation</td>\n",
              "      <td>Mabuhay Accommodation</td>\n",
              "      <td>Sikatel Bed and Breakfast</td>\n",
              "      <td>sikatelhotel@gmail.com</td>\n",
              "      <td>9175439898</td>\n",
              "      <td>Wilfelma Q. Velasquez</td>\n",
              "      <td>18.055448</td>\n",
              "      <td>120.559624</td>\n",
              "      <td>NaN</td>\n",
              "      <td>NaN</td>\n",
              "      <td>NaN</td>\n",
              "      <td>OPERATIONAL</td>\n",
              "      <td>0917 543 9898</td>\n",
              "      <td>{'location': {'lat': Decimal('18.0554481'), 'l...</td>\n",
              "      <td>https://maps.gstatic.com/mapfiles/place_api/ic...</td>\n",
              "      <td>ChIJcYoUfTjAjjMRSiZUf4jT2IM</td>\n",
              "      <td>{'open_now': True, 'periods': [{'open': {'day'...</td>\n",
              "      <td>[{'height': 1440, 'html_attributions': ['&lt;a hr...</td>\n",
              "      <td>3.6</td>\n",
              "      <td>[{'author_name': 'Neil Jasper Antalan', 'autho...</td>\n",
              "      <td>['lodging', 'point_of_interest', 'establishment']</td>\n",
              "      <td>https://maps.google.com/?cid=9500575997143295562</td>\n",
              "      <td>52.0</td>\n",
              "      <td>Marcos Avenue, Batac</td>\n",
              "      <td>{'data': [], 'paging': {'cursors': {'after': '...</td>\n",
              "      <td>NaN</td>\n",
              "      <td>{'data': [{'id': '1548336445467437', 'category...</td>\n",
              "    </tr>\n",
              "    <tr>\n",
              "      <th>3</th>\n",
              "      <td>Ilocos Norte</td>\n",
              "      <td>Burgos</td>\n",
              "      <td>Mabuhay Accommodation</td>\n",
              "      <td>Mabuhay Accommodation</td>\n",
              "      <td>CampaÃ±ano's Space Rental</td>\n",
              "      <td>flor150764@gmail.com</td>\n",
              "      <td>09175231675/09171699916</td>\n",
              "      <td>Florentino A. CampaÃ±ano</td>\n",
              "      <td>18.465994</td>\n",
              "      <td>120.642999</td>\n",
              "      <td>NaN</td>\n",
              "      <td>NaN</td>\n",
              "      <td>NaN</td>\n",
              "      <td>NaN</td>\n",
              "      <td>NaN</td>\n",
              "      <td>NaN</td>\n",
              "      <td>NaN</td>\n",
              "      <td>NaN</td>\n",
              "      <td>NaN</td>\n",
              "      <td>NaN</td>\n",
              "      <td>NaN</td>\n",
              "      <td>NaN</td>\n",
              "      <td>NaN</td>\n",
              "      <td>NaN</td>\n",
              "      <td>NaN</td>\n",
              "      <td>NaN</td>\n",
              "      <td>{'data': []}</td>\n",
              "      <td>NaN</td>\n",
              "      <td>NaN</td>\n",
              "    </tr>\n",
              "    <tr>\n",
              "      <th>4</th>\n",
              "      <td>Ilocos Norte</td>\n",
              "      <td>Burgos</td>\n",
              "      <td>Mabuhay Accommodation</td>\n",
              "      <td>Mabuhay Accommodation</td>\n",
              "      <td>Palalay Hotel Burgos</td>\n",
              "      <td>palalayhotelburgos@gmail.com</td>\n",
              "      <td>09356005659/09484668429</td>\n",
              "      <td>Joseph A. Ocampo</td>\n",
              "      <td>18.509530</td>\n",
              "      <td>120.590475</td>\n",
              "      <td>NaN</td>\n",
              "      <td>NaN</td>\n",
              "      <td>NaN</td>\n",
              "      <td>OPERATIONAL</td>\n",
              "      <td>947 43 10 41</td>\n",
              "      <td>{'location': {'lat': Decimal('42.3813387999999...</td>\n",
              "      <td>https://maps.gstatic.com/mapfiles/place_api/ic...</td>\n",
              "      <td>ChIJ_QjGz376RQ0RChfBMtHgV6A</td>\n",
              "      <td>{'open_now': True, 'periods': [{'close': {'day...</td>\n",
              "      <td>[{'height': 2988, 'html_attributions': ['&lt;a hr...</td>\n",
              "      <td>4.2</td>\n",
              "      <td>[{'author_name': 'Grant Bremner', 'author_url'...</td>\n",
              "      <td>['lodging', 'point_of_interest', 'establishment']</td>\n",
              "      <td>https://maps.google.com/?cid=11553950558146598666</td>\n",
              "      <td>1513.0</td>\n",
              "      <td>N-I, km 249, Rubena</td>\n",
              "      <td>{'data': [{'id': '556652894386586', 'about': \"...</td>\n",
              "      <td>NaN</td>\n",
              "      <td>'category_list': [{'id': '110321355709642'</td>\n",
              "    </tr>\n",
              "  </tbody>\n",
              "</table>\n",
              "</div>"
            ],
            "text/plain": [
              "       Province  ...                                       place_name_q\n",
              "0  Ilocos Norte  ...  {'data': [{'id': '937923869738268', 'category_...\n",
              "1  Ilocos Norte  ...  {'data': [{'id': '110686590442234', 'category_...\n",
              "2  Ilocos Norte  ...  {'data': [{'id': '1548336445467437', 'category...\n",
              "3  Ilocos Norte  ...                                                NaN\n",
              "4  Ilocos Norte  ...         'category_list': [{'id': '110321355709642'\n",
              "\n",
              "[5 rows x 29 columns]"
            ]
          },
          "metadata": {
            "tags": []
          },
          "execution_count": 5
        }
      ]
    },
    {
      "cell_type": "code",
      "metadata": {
        "id": "3YEQKGor9QDX"
      },
      "source": [
        "src_df.info()"
      ],
      "execution_count": null,
      "outputs": []
    },
    {
      "cell_type": "code",
      "metadata": {
        "id": "YJwoJGE19MBI"
      },
      "source": [
        "list(src_df.columns)"
      ],
      "execution_count": null,
      "outputs": []
    },
    {
      "cell_type": "code",
      "metadata": {
        "id": "BEsbX_mBJdQf",
        "colab": {
          "base_uri": "https://localhost:8080/",
          "height": 303
        },
        "outputId": "94bf4fed-85de-4ba1-a825-46c1f32c2ad5"
      },
      "source": [
        "aaa = pd.read_json(src_df[\"place_name_q\"][0], orient=\"records\")"
      ],
      "execution_count": null,
      "outputs": [
        {
          "output_type": "error",
          "ename": "ValueError",
          "evalue": "ignored",
          "traceback": [
            "\u001b[0;31m---------------------------------------------------------------------------\u001b[0m",
            "\u001b[0;31mValueError\u001b[0m                                Traceback (most recent call last)",
            "\u001b[0;32m<ipython-input-77-7e98d833af3d>\u001b[0m in \u001b[0;36m<module>\u001b[0;34m()\u001b[0m\n\u001b[0;32m----> 1\u001b[0;31m \u001b[0maaa\u001b[0m \u001b[0;34m=\u001b[0m \u001b[0mpd\u001b[0m\u001b[0;34m.\u001b[0m\u001b[0mread_json\u001b[0m\u001b[0;34m(\u001b[0m\u001b[0msrc_df\u001b[0m\u001b[0;34m[\u001b[0m\u001b[0;34m\"place_name_q\"\u001b[0m\u001b[0;34m]\u001b[0m\u001b[0;34m[\u001b[0m\u001b[0;36m0\u001b[0m\u001b[0;34m]\u001b[0m\u001b[0;34m,\u001b[0m \u001b[0morient\u001b[0m\u001b[0;34m=\u001b[0m\u001b[0;34m\"records\"\u001b[0m\u001b[0;34m)\u001b[0m\u001b[0;34m\u001b[0m\u001b[0;34m\u001b[0m\u001b[0m\n\u001b[0m",
            "\u001b[0;32m/usr/local/lib/python3.6/dist-packages/pandas/util/_decorators.py\u001b[0m in \u001b[0;36mwrapper\u001b[0;34m(*args, **kwargs)\u001b[0m\n\u001b[1;32m    212\u001b[0m                 \u001b[0;32melse\u001b[0m\u001b[0;34m:\u001b[0m\u001b[0;34m\u001b[0m\u001b[0;34m\u001b[0m\u001b[0m\n\u001b[1;32m    213\u001b[0m                     \u001b[0mkwargs\u001b[0m\u001b[0;34m[\u001b[0m\u001b[0mnew_arg_name\u001b[0m\u001b[0;34m]\u001b[0m \u001b[0;34m=\u001b[0m \u001b[0mnew_arg_value\u001b[0m\u001b[0;34m\u001b[0m\u001b[0;34m\u001b[0m\u001b[0m\n\u001b[0;32m--> 214\u001b[0;31m             \u001b[0;32mreturn\u001b[0m \u001b[0mfunc\u001b[0m\u001b[0;34m(\u001b[0m\u001b[0;34m*\u001b[0m\u001b[0margs\u001b[0m\u001b[0;34m,\u001b[0m \u001b[0;34m**\u001b[0m\u001b[0mkwargs\u001b[0m\u001b[0;34m)\u001b[0m\u001b[0;34m\u001b[0m\u001b[0;34m\u001b[0m\u001b[0m\n\u001b[0m\u001b[1;32m    215\u001b[0m \u001b[0;34m\u001b[0m\u001b[0m\n\u001b[1;32m    216\u001b[0m         \u001b[0;32mreturn\u001b[0m \u001b[0mcast\u001b[0m\u001b[0;34m(\u001b[0m\u001b[0mF\u001b[0m\u001b[0;34m,\u001b[0m \u001b[0mwrapper\u001b[0m\u001b[0;34m)\u001b[0m\u001b[0;34m\u001b[0m\u001b[0;34m\u001b[0m\u001b[0m\n",
            "\u001b[0;32m/usr/local/lib/python3.6/dist-packages/pandas/io/json/_json.py\u001b[0m in \u001b[0;36mread_json\u001b[0;34m(path_or_buf, orient, typ, dtype, convert_axes, convert_dates, keep_default_dates, numpy, precise_float, date_unit, encoding, lines, chunksize, compression)\u001b[0m\n\u001b[1;32m    606\u001b[0m         \u001b[0;32mreturn\u001b[0m \u001b[0mjson_reader\u001b[0m\u001b[0;34m\u001b[0m\u001b[0;34m\u001b[0m\u001b[0m\n\u001b[1;32m    607\u001b[0m \u001b[0;34m\u001b[0m\u001b[0m\n\u001b[0;32m--> 608\u001b[0;31m     \u001b[0mresult\u001b[0m \u001b[0;34m=\u001b[0m \u001b[0mjson_reader\u001b[0m\u001b[0;34m.\u001b[0m\u001b[0mread\u001b[0m\u001b[0;34m(\u001b[0m\u001b[0;34m)\u001b[0m\u001b[0;34m\u001b[0m\u001b[0;34m\u001b[0m\u001b[0m\n\u001b[0m\u001b[1;32m    609\u001b[0m     \u001b[0;32mif\u001b[0m \u001b[0mshould_close\u001b[0m\u001b[0;34m:\u001b[0m\u001b[0;34m\u001b[0m\u001b[0;34m\u001b[0m\u001b[0m\n\u001b[1;32m    610\u001b[0m         \u001b[0mfilepath_or_buffer\u001b[0m\u001b[0;34m.\u001b[0m\u001b[0mclose\u001b[0m\u001b[0;34m(\u001b[0m\u001b[0;34m)\u001b[0m\u001b[0;34m\u001b[0m\u001b[0;34m\u001b[0m\u001b[0m\n",
            "\u001b[0;32m/usr/local/lib/python3.6/dist-packages/pandas/io/json/_json.py\u001b[0m in \u001b[0;36mread\u001b[0;34m(self)\u001b[0m\n\u001b[1;32m    729\u001b[0m             \u001b[0mobj\u001b[0m \u001b[0;34m=\u001b[0m \u001b[0mself\u001b[0m\u001b[0;34m.\u001b[0m\u001b[0m_get_object_parser\u001b[0m\u001b[0;34m(\u001b[0m\u001b[0mself\u001b[0m\u001b[0;34m.\u001b[0m\u001b[0m_combine_lines\u001b[0m\u001b[0;34m(\u001b[0m\u001b[0mdata\u001b[0m\u001b[0;34m.\u001b[0m\u001b[0msplit\u001b[0m\u001b[0;34m(\u001b[0m\u001b[0;34m\"\\n\"\u001b[0m\u001b[0;34m)\u001b[0m\u001b[0;34m)\u001b[0m\u001b[0;34m)\u001b[0m\u001b[0;34m\u001b[0m\u001b[0;34m\u001b[0m\u001b[0m\n\u001b[1;32m    730\u001b[0m         \u001b[0;32melse\u001b[0m\u001b[0;34m:\u001b[0m\u001b[0;34m\u001b[0m\u001b[0;34m\u001b[0m\u001b[0m\n\u001b[0;32m--> 731\u001b[0;31m             \u001b[0mobj\u001b[0m \u001b[0;34m=\u001b[0m \u001b[0mself\u001b[0m\u001b[0;34m.\u001b[0m\u001b[0m_get_object_parser\u001b[0m\u001b[0;34m(\u001b[0m\u001b[0mself\u001b[0m\u001b[0;34m.\u001b[0m\u001b[0mdata\u001b[0m\u001b[0;34m)\u001b[0m\u001b[0;34m\u001b[0m\u001b[0;34m\u001b[0m\u001b[0m\n\u001b[0m\u001b[1;32m    732\u001b[0m         \u001b[0mself\u001b[0m\u001b[0;34m.\u001b[0m\u001b[0mclose\u001b[0m\u001b[0;34m(\u001b[0m\u001b[0;34m)\u001b[0m\u001b[0;34m\u001b[0m\u001b[0;34m\u001b[0m\u001b[0m\n\u001b[1;32m    733\u001b[0m         \u001b[0;32mreturn\u001b[0m \u001b[0mobj\u001b[0m\u001b[0;34m\u001b[0m\u001b[0;34m\u001b[0m\u001b[0m\n",
            "\u001b[0;32m/usr/local/lib/python3.6/dist-packages/pandas/io/json/_json.py\u001b[0m in \u001b[0;36m_get_object_parser\u001b[0;34m(self, json)\u001b[0m\n\u001b[1;32m    751\u001b[0m         \u001b[0mobj\u001b[0m \u001b[0;34m=\u001b[0m \u001b[0;32mNone\u001b[0m\u001b[0;34m\u001b[0m\u001b[0;34m\u001b[0m\u001b[0m\n\u001b[1;32m    752\u001b[0m         \u001b[0;32mif\u001b[0m \u001b[0mtyp\u001b[0m \u001b[0;34m==\u001b[0m \u001b[0;34m\"frame\"\u001b[0m\u001b[0;34m:\u001b[0m\u001b[0;34m\u001b[0m\u001b[0;34m\u001b[0m\u001b[0m\n\u001b[0;32m--> 753\u001b[0;31m             \u001b[0mobj\u001b[0m \u001b[0;34m=\u001b[0m \u001b[0mFrameParser\u001b[0m\u001b[0;34m(\u001b[0m\u001b[0mjson\u001b[0m\u001b[0;34m,\u001b[0m \u001b[0;34m**\u001b[0m\u001b[0mkwargs\u001b[0m\u001b[0;34m)\u001b[0m\u001b[0;34m.\u001b[0m\u001b[0mparse\u001b[0m\u001b[0;34m(\u001b[0m\u001b[0;34m)\u001b[0m\u001b[0;34m\u001b[0m\u001b[0;34m\u001b[0m\u001b[0m\n\u001b[0m\u001b[1;32m    754\u001b[0m \u001b[0;34m\u001b[0m\u001b[0m\n\u001b[1;32m    755\u001b[0m         \u001b[0;32mif\u001b[0m \u001b[0mtyp\u001b[0m \u001b[0;34m==\u001b[0m \u001b[0;34m\"series\"\u001b[0m \u001b[0;32mor\u001b[0m \u001b[0mobj\u001b[0m \u001b[0;32mis\u001b[0m \u001b[0;32mNone\u001b[0m\u001b[0;34m:\u001b[0m\u001b[0;34m\u001b[0m\u001b[0;34m\u001b[0m\u001b[0m\n",
            "\u001b[0;32m/usr/local/lib/python3.6/dist-packages/pandas/io/json/_json.py\u001b[0m in \u001b[0;36mparse\u001b[0;34m(self)\u001b[0m\n\u001b[1;32m    855\u001b[0m \u001b[0;34m\u001b[0m\u001b[0m\n\u001b[1;32m    856\u001b[0m         \u001b[0;32melse\u001b[0m\u001b[0;34m:\u001b[0m\u001b[0;34m\u001b[0m\u001b[0;34m\u001b[0m\u001b[0m\n\u001b[0;32m--> 857\u001b[0;31m             \u001b[0mself\u001b[0m\u001b[0;34m.\u001b[0m\u001b[0m_parse_no_numpy\u001b[0m\u001b[0;34m(\u001b[0m\u001b[0;34m)\u001b[0m\u001b[0;34m\u001b[0m\u001b[0;34m\u001b[0m\u001b[0m\n\u001b[0m\u001b[1;32m    858\u001b[0m \u001b[0;34m\u001b[0m\u001b[0m\n\u001b[1;32m    859\u001b[0m         \u001b[0;32mif\u001b[0m \u001b[0mself\u001b[0m\u001b[0;34m.\u001b[0m\u001b[0mobj\u001b[0m \u001b[0;32mis\u001b[0m \u001b[0;32mNone\u001b[0m\u001b[0;34m:\u001b[0m\u001b[0;34m\u001b[0m\u001b[0;34m\u001b[0m\u001b[0m\n",
            "\u001b[0;32m/usr/local/lib/python3.6/dist-packages/pandas/io/json/_json.py\u001b[0m in \u001b[0;36m_parse_no_numpy\u001b[0;34m(self)\u001b[0m\n\u001b[1;32m   1106\u001b[0m         \u001b[0;32melse\u001b[0m\u001b[0;34m:\u001b[0m\u001b[0;34m\u001b[0m\u001b[0;34m\u001b[0m\u001b[0m\n\u001b[1;32m   1107\u001b[0m             self.obj = DataFrame(\n\u001b[0;32m-> 1108\u001b[0;31m                 \u001b[0mloads\u001b[0m\u001b[0;34m(\u001b[0m\u001b[0mjson\u001b[0m\u001b[0;34m,\u001b[0m \u001b[0mprecise_float\u001b[0m\u001b[0;34m=\u001b[0m\u001b[0mself\u001b[0m\u001b[0;34m.\u001b[0m\u001b[0mprecise_float\u001b[0m\u001b[0;34m)\u001b[0m\u001b[0;34m,\u001b[0m \u001b[0mdtype\u001b[0m\u001b[0;34m=\u001b[0m\u001b[0;32mNone\u001b[0m\u001b[0;34m\u001b[0m\u001b[0;34m\u001b[0m\u001b[0m\n\u001b[0m\u001b[1;32m   1109\u001b[0m             )\n\u001b[1;32m   1110\u001b[0m \u001b[0;34m\u001b[0m\u001b[0m\n",
            "\u001b[0;31mValueError\u001b[0m: Expected object or value"
          ]
        }
      ]
    },
    {
      "cell_type": "code",
      "metadata": {
        "id": "-uebygYrIogU"
      },
      "source": [
        "src_df[\"place_name_q\"].json(orient=\"records\")"
      ],
      "execution_count": null,
      "outputs": []
    },
    {
      "cell_type": "markdown",
      "metadata": {
        "id": "wF19DwNTD06H"
      },
      "source": [
        "### JSON Normalize"
      ]
    },
    {
      "cell_type": "code",
      "metadata": {
        "id": "goEGg3OfEljY",
        "colab": {
          "base_uri": "https://localhost:8080/",
          "height": 137
        },
        "outputId": "f6d2e369-ed88-47a2-fb8b-f340a70d7ed2"
      },
      "source": [
        "what = json.dumps(src_df[\"place_name_q\"][0], indent=4)\n",
        "what"
      ],
      "execution_count": null,
      "outputs": [
        {
          "output_type": "execute_result",
          "data": {
            "application/vnd.google.colaboratory.intrinsic+json": {
              "type": "string"
            },
            "text/plain": [
              "'\"{\\'data\\': [{\\'id\\': \\'937923869738268\\', \\'category_list\\': [{\\'id\\': \\'164243073639257\\', \\'name\\': \\'Hotel\\'}], \\'checkins\\': 74, \\'engagement\\': {\\'count\\': 9, \\'social_sentence\\': \\'9 people like this.\\'}, \\'link\\': \\'https://www.facebook.com/937923866404935\\', \\'location\\': {\\'city\\': \\'Bangui\\', \\'country\\': \\'Philippines\\', \\'latitude\\': 18.535397, \\'longitude\\': 120.771814}, \\'name\\': \\'Northwind Travellers Hotel\\', \\'rating_count\\': 0, \\'temporary_status\\': \\'no_data\\'}, {\\'id\\': \\'1648000865440411\\', \\'about\\': \\'Cebu Northwinds Hotel believe that our guests deserve only the highest standard of services. When you are with us; you surely feel \\\\\"A HOME AWAY FROM HOME\\\\\".\\', \\'category_list\\': [{\\'id\\': \\'164243073639257\\', \\'name\\': \\'Hotel\\'}], \\'checkins\\': 21095, \\'cover\\': {\\'cover_id\\': \\'2576549059252249\\', \\'offset_x\\': 49, \\'offset_y\\': 50, \\'source\\': \\'https://scontent.flux1-1.fna.fbcdn.net/v/t1.0-9/s720x720/83929541_2576549065918915_5959512632120573952_o.jpg?_nc_cat=110&_nc_sid=dd9801&_nc_ohc=Ec07AsQgZfoAX_8wz_K&_nc_ht=scontent.flux1-1.fna&tp=-7&oh=df128b97446a66642a60e9cbad1566ac&oe=5F6386FF\\', \\'id\\': \\'2576549059252249\\'}, \\'engagement\\': {\\'count\\': 3021, \\'social_sentence\\': \\'3K people like this.\\'}, \\'link\\': \\'https://www.facebook.com/1643831249190706\\', \\'location\\': {\\'city\\': \\'Cebu City\\', \\'country\\': \\'Philippines\\', \\'latitude\\': 10.328958386136, \\'longitude\\': 123.90230351733, \\'street\\': \\'Salinas Drive Lahug\\', \\'zip\\': \\'6000\\'}, \\'name\\': \\'Cebu Northwinds Hotel\\', \\'price_range\\': \\'$$\\', \\'rating_count\\': 31, \\'temporary_status\\': \\'operating_as_usual\\', \\'website\\': \\'http://www.cebunorthwinds.com\\'}, {\\'id\\': \\'370720949615395\\', \\'category_list\\': [{\\'id\\': \\'164243073639257\\', \\'name\\': \\'Hotel\\'}, {\\'id\\': \\'181803978524025\\', \\'name\\': \\'Inn\\'}], \\'checkins\\': 3729, \\'engagement\\': {\\'count\\': 588, \\'social_sentence\\': \\'588 people like this.\\'}, \\'link\\': \\'https://www.facebook.com/370720932948730\\', \\'location\\': {\\'city\\': \\'Batangas City\\', \\'country\\': \\'Philippines\\', \\'latitude\\': 13.757489864916, \\'longitude\\': 121.0517472373, \\'street\\': \\'New Access Road, Brgy. Sta Clara\\', \\'zip\\': \\'4200\\'}, \\'name\\': \\\\\"Travellers\\' Hotel Batangas\\\\\", \\'parking\\': {\\'lot\\': 0, \\'street\\': 0, \\'valet\\': 0}, \\'rating_count\\': 6, \\'temporary_status\\': \\'no_data\\'}, {\\'id\\': \\'1690076671280994\\', \\'category_list\\': [{\\'id\\': \\'164243073639257\\', \\'name\\': \\'Hotel\\'}], \\'checkins\\': 2, \\'engagement\\': {\\'count\\': 0, \\'social_sentence\\': \\'Be the first of your friends to like this.\\'}, \\'link\\': \\'https://www.facebook.com/1690076644614330\\', \\'location\\': {\\'city\\': \\'Ladysmith\\', \\'country\\': \\'Canada\\', \\'latitude\\': 48.992901, \\'longitude\\': -123.816585, \\'state\\': \\'BC\\', \\'street\\': \\'422 1st Ave\\', \\'zip\\': \\'V9G 1A9\\'}, \\'name\\': \\'Travellers Hotel\\', \\'price_range\\': \\'$$\\', \\'rating_count\\': 0, \\'temporary_status\\': \\'no_data\\'}, {\\'id\\': \\'178703922140374\\', \\'category_list\\': [{\\'id\\': \\'187686707929197\\', \\'name\\': \\'Hotel Resort\\'}], \\'checkins\\': 11822, \\'engagement\\': {\\'count\\': 184, \\'social_sentence\\': \\'184 people like this.\\'}, \\'link\\': \\'https://www.facebook.com/178703908807042\\', \\'location\\': {\\'city\\': \\'Bangkok\\', \\'country\\': \\'Thailand\\', \\'latitude\\': 13.797306576586, \\'longitude\\': 100.57430273755, \\'zip\\': \\'10400\\'}, \\'name\\': \\'The Travellers Hotel\\', \\'parking\\': {\\'lot\\': 0, \\'street\\': 0, \\'valet\\': 0}, \\'price_range\\': \\'$$\\', \\'rating_count\\': 22, \\'temporary_status\\': \\'no_data\\', \\'website\\': \\'http://www.travellerinnhotel.net/\\'}, {\\'id\\': \\'148144922011459\\', \\'category_list\\': [{\\'id\\': \\'2500\\', \\'name\\': \\'Local Business\\'}], \\'checkins\\': 195, \\'engagement\\': {\\'count\\': 2, \\'social_sentence\\': \\'2 people like this.\\'}, \\'link\\': \\'https://www.facebook.com/148144908678127\\', \\'location\\': {\\'city\\': \\'Olongapo\\', \\'country\\': \\'Philippines\\', \\'latitude\\': 14.821662704, \\'longitude\\': 120.274043965}, \\'name\\': \\'Travellers Hotel\\', \\'parking\\': {\\'lot\\': 0, \\'street\\': 0, \\'valet\\': 0}, \\'rating_count\\': 0, \\'temporary_status\\': \\'operating_as_usual\\'}, {\\'id\\': \\'645694045521758\\', \\'about\\': \\' Hotel Northwinds is located in the centre of Labasa town. The hotel has 12 spacious well equipped rooms that are fully air condition TV, Bar Fridge,\\', \\'category_list\\': [{\\'id\\': \\'164243073639257\\', \\'name\\': \\'Hotel\\'}], \\'checkins\\': 594, \\'cover\\': {\\'cover_id\\': \\'665284996895996\\', \\'offset_x\\': 51, \\'offset_y\\': 50, \\'source\\': \\'https://scontent.flux1-1.fna.fbcdn.net/v/t31.0-8/s720x720/10522374_665284996895996_1777591725987789979_o.jpg?_nc_cat=102&_nc_sid=dd9801&_nc_ohc=kyJJcAcuyo0AX_xDpZZ&_nc_ht=scontent.flux1-1.fna&tp=-7&oh=ac75ded58e0b48f2c2fb9d6f751ac077&oe=5F63B937\\', \\'id\\': \\'665284996895996\\'}, \\'engagement\\': {\\'count\\': 2928, \\'social_sentence\\': \\'2.9K people like this.\\'}, \\'link\\': \\'https://www.facebook.com/645693918855104\\', \\'location\\': {\\'city\\': \\'Labasa\\', \\'country\\': \\'Fiji\\', \\'latitude\\': -16.429187760398, \\'longitude\\': 179.37561575433, \\'street\\': \\'Main Street Labasa\\', \\'zip\\': \\'+679\\'}, \\'name\\': \\'Hotel Northwinds\\', \\'parking\\': {\\'lot\\': 0, \\'street\\': 0, \\'valet\\': 0}, \\'price_range\\': \\'$$$\\', \\'rating_count\\': 2, \\'temporary_status\\': \\'operating_as_usual\\'}, {\\'id\\': \\'529935650376143\\', \\'category_list\\': [{\\'id\\': \\'162914327091136\\', \\'name\\': \\'Travel Agency\\'}, {\\'id\\': \\'164243073639257\\', \\'name\\': \\'Hotel\\'}], \\'checkins\\': 3, \\'engagement\\': {\\'count\\': 0, \\'social_sentence\\': \\'Be the first of your friends to like this.\\'}, \\'link\\': \\'https://www.facebook.com/529935637042811\\', \\'location\\': {\\'city\\': \\'Cebu City\\', \\'country\\': \\'Philippines\\', \\'latitude\\': 10.3289804, \\'longitude\\': 123.9025189, \\'street\\': \\'Salinas Drive\\'}, \\'name\\': \\'Northwind Hotel\\', \\'parking\\': {\\'lot\\': 0, \\'street\\': 0, \\'valet\\': 0}, \\'rating_count\\': 0, \\'temporary_status\\': \\'no_data\\'}, {\\'id\\': \\'533272100063285\\', \\'category_list\\': [{\\'id\\': \\'162914327091136\\', \\'name\\': \\'Travel Agency\\'}, {\\'id\\': \\'164243073639257\\', \\'name\\': \\'Hotel\\'}], \\'checkins\\': 4, \\'engagement\\': {\\'count\\': 0, \\'social_sentence\\': \\'Be the first of your friends to like this.\\'}, \\'link\\': \\'https://www.facebook.com/533272086729953\\', \\'location\\': {\\'city\\': \\'Cebu City\\', \\'country\\': \\'Philippines\\', \\'latitude\\': 10.323565350649, \\'longitude\\': 123.90265298701}, \\'name\\': \\'Northwind Hotel\\', \\'parking\\': {\\'lot\\': 0, \\'street\\': 0, \\'valet\\': 0}, \\'rating_count\\': 0, \\'temporary_status\\': \\'operating_as_usual\\'}, {\\'id\\': \\'1400356910180773\\', \\'category_list\\': [{\\'id\\': \\'1562965077339698\\', \\'name\\': \\'Food & Beverage\\'}, {\\'id\\': \\'164243073639257\\', \\'name\\': \\'Hotel\\'}], \\'checkins\\': 1, \\'engagement\\': {\\'count\\': 0, \\'social_sentence\\': \\'Be the first of your friends to like this.\\'}, \\'link\\': \\'https://www.facebook.com/1400356896847441\\', \\'location\\': {\\'city\\': \\'Cebu City\\', \\'country\\': \\'Philippines\\', \\'latitude\\': 10.328938385, \\'longitude\\': 123.902280182, \\'street\\': \\'Salinas Drive\\'}, \\'name\\': \\'Northwind Hotel\\', \\'parking\\': {\\'lot\\': 0, \\'street\\': 0, \\'valet\\': 0}, \\'rating_count\\': 0, \\'temporary_status\\': \\'no_data\\'}, {\\'id\\': \\'926370511086937\\', \\'category_list\\': [{\\'id\\': \\'164243073639257\\', \\'name\\': \\'Hotel\\'}], \\'checkins\\': 32, \\'engagement\\': {\\'count\\': 0, \\'social_sentence\\': \\'Be the first of your friends to like this.\\'}, \\'link\\': \\'https://www.facebook.com/926370497753605\\', \\'location\\': {\\'city\\': \\'Ijebu Igbo\\', \\'country\\': \\'Nigeria\\', \\'latitude\\': 6.95909, \\'longitude\\': 4.00382}, \\'name\\': \\\\\"Traveller\\'s Hotel\\\\\", \\'rating_count\\': 0, \\'temporary_status\\': \\'no_data\\'}, {\\'id\\': \\'503389453163832\\', \\'about\\': \\'Is the luxurious International business Hotel in Makassar city, South sulawesi Island from Core Hotels \\', \\'category_list\\': [{\\'id\\': \\'164243073639257\\', \\'name\\': \\'Hotel\\'}], \\'checkins\\': 24154, \\'cover\\': {\\'cover_id\\': \\'517459398423504\\', \\'offset_x\\': 50, \\'offset_y\\': 29, \\'source\\': \\'https://scontent.flux1-1.fna.fbcdn.net/v/t31.0-0/p480x480/12308127_517459398423504_2257327276484059438_o.jpg?_nc_cat=111&_nc_sid=dd9801&_nc_ohc=J92MDT_3PUEAX_jRngM&_nc_ht=scontent.flux1-1.fna&_nc_tp=6&oh=416caa266247159ef6f03192637ca202&oe=5F63D420\\', \\'id\\': \\'517459398423504\\'}, \\'description\\': \\'TRAVELLERS HOTEL PHINISI is an International business Hotel in Makassar, South Sulawesi, managed by Core Hotels, offering unique adventure and unbelievable experience at Customer\\\\u00e2\\\\u0080\\\\u0099s choice. The Hotel is facilitated with comfortable room, affordable price and irresistible facilities, while \\\\u00e2\\\\u0080\\\\u009cIt\\\\u00e2\\\\u0080\\\\u0099s The Extra Thought That Makes All The Difference\\\\u00e2\\\\u0080\\\\u009d is our mission in serving the guests.\\', \\'engagement\\': {\\'count\\': 1116, \\'social_sentence\\': \\'1.1K people like this.\\'}, \\'link\\': \\'https://www.facebook.com/503389423163835\\', \\'location\\': {\\'city\\': \\'Makassar\\', \\'country\\': \\'Indonesia\\', \\'latitude\\': -5.1493716, \\'longitude\\': 119.41100233571, \\'street\\': \\'Jl. Lamadukelleng Buntu No 59 Kelurahan Kunjung Mae Kecamatan Mariso Makassar\\', \\'zip\\': \\'90125\\'}, \\'name\\': \\'Travellers Hotel Phinisi\\', \\'parking\\': {\\'lot\\': 1, \\'street\\': 1, \\'valet\\': 0}, \\'price_range\\': \\'$\\', \\'rating_count\\': 60, \\'temporary_status\\': \\'operating_as_usual\\', \\'website\\': \\'http://www.travellersphinisi.com\\'}, {\\'id\\': \\'1563818160508527\\', \\'category_list\\': [{\\'id\\': \\'2500\\', \\'name\\': \\'Local Business\\'}], \\'checkins\\': 12, \\'description\\': \\'ToT \\\\\"Beban atau Biaya\\\\\" Huppssss....\\', \\'engagement\\': {\\'count\\': 5, \\'social_sentence\\': \\'5 people like this.\\'}, \\'link\\': \\'https://www.facebook.com/1563818127175197\\', \\'location\\': {\\'city\\': \\'Jakarta\\', \\'country\\': \\'Indonesia\\', \\'latitude\\': -6.1468374652518, \\'longitude\\': 106.83168711713}, \\'name\\': \\'Travellers Hotel\\', \\'rating_count\\': 0}, {\\'id\\': \\'109650900485193\\', \\'about\\': \\'BdBooking is one of the largest online hotel and resort booking engines in Bangladesh. Sign up and book hotel, motel, resorts by BdBooking.com\\', \\'category_list\\': [{\\'id\\': \\'187686707929197\\', \\'name\\': \\'Hotel Resort\\'}], \\'checkins\\': 0, \\'cover\\': {\\'cover_id\\': \\'272698310847117\\', \\'offset_x\\': 50, \\'offset_y\\': 50, \\'source\\': \\'https://scontent.flux1-1.fna.fbcdn.net/v/t1.0-9/s720x720/106777925_272698317513783_8223466405062670790_o.jpg?_nc_cat=105&_nc_sid=dd9801&_nc_ohc=zXHbqn62PvsAX-boZdR&_nc_ht=scontent.flux1-1.fna&tp=-7&oh=84e4c2574507e87dcd5f902d024f87c7&oe=5F64E33E\\', \\'id\\': \\'272698310847117\\'}, \\'engagement\\': {\\'count\\': 167, \\'social_sentence\\': \\'167 people like this.\\'}, \\'link\\': \\'https://www.facebook.com/109650690485214\\', \\'location\\': {\\'city\\': \\'Gazipur\\', \\'country\\': \\'Bangladesh\\', \\'latitude\\': 23.99709, \\'longitude\\': 90.41771, \\'street\\': \\'gazipur\\'}, \\'name\\': \\'Travellers Hotels at Gazipur, Dhaka\\', \\'price_range\\': \\'$$\\', \\'rating_count\\': 0, \\'temporary_status\\': \\'operating_as_usual\\', \\'website\\': \\'https://www.bdbooking.com\\'}, {\\'id\\': \\'119943151355719\\', \\'category_list\\': [{\\'id\\': \\'152050108191372\\', \\'name\\': \\'Motel\\'}, {\\'id\\': \\'199734546726648\\', \\'name\\': \\'Beach Resort\\'}], \\'checkins\\': 4471, \\'cover\\': {\\'cover_id\\': \\'1731633530186665\\', \\'offset_x\\': 50, \\'offset_y\\': 52, \\'source\\': \\'https://scontent.flux1-1.fna.fbcdn.net/v/t1.0-9/p720x720/19225121_1731633530186665_2934204586991618016_n.jpg?_nc_cat=104&_nc_sid=dd9801&_nc_ohc=CCMYzpMgZ9QAX-ELGHo&_nc_ht=scontent.flux1-1.fna&_nc_tp=6&oh=5bcd2fed7c65acfa6c1d598c0db91688&oe=5F64D532\\', \\'id\\': \\'1731633530186665\\'}, \\'engagement\\': {\\'count\\': 3177, \\'social_sentence\\': \\'3.1K people like this.\\'}, \\'link\\': \\'https://www.facebook.com/119943141355720\\', \\'location\\': {\\'city\\': \\'North Wildwood\\', \\'country\\': \\'United States\\', \\'latitude\\': 39.00135, \\'longitude\\': -74.78961, \\'state\\': \\'NJ\\', \\'street\\': \\'401 Ocean Ave\\', \\'zip\\': \\'08260-5858\\'}, \\'name\\': \\'Northwind Motel\\', \\'parking\\': {\\'lot\\': 0, \\'street\\': 0, \\'valet\\': 0}, \\'price_range\\': \\'$$\\', \\'rating_count\\': 89, \\'temporary_status\\': \\'operating_as_usual\\', \\'website\\': \\'http://www.northwindmotel.net\\'}, {\\'id\\': \\'204802423351913\\', \\'category_list\\': [{\\'id\\': \\'2500\\', \\'name\\': \\'Local Business\\'}], \\'checkins\\': 89, \\'engagement\\': {\\'count\\': 21, \\'social_sentence\\': \\'21 people like this.\\'}, \\'link\\': \\'https://www.facebook.com/204802416685247\\', \\'location\\': {\\'city\\': \\'Daet\\', \\'country\\': \\'Philippines\\', \\'latitude\\': 14.13288339, \\'longitude\\': 122.9813607}, \\'name\\': \\\\\"Traveller\\'s Hotel\\\\\", \\'rating_count\\': 0, \\'temporary_status\\': \\'operating_as_usual\\'}, {\\'id\\': \\'354084627961194\\', \\'category_list\\': [{\\'id\\': \\'2500\\', \\'name\\': \\'Local Business\\'}], \\'checkins\\': 45, \\'engagement\\': {\\'count\\': 4, \\'social_sentence\\': \\'4 people like this.\\'}, \\'link\\': \\'https://www.facebook.com/354084614627862\\', \\'location\\': {\\'city\\': \\'Quezon City\\', \\'country\\': \\'Philippines\\', \\'latitude\\': 14.632198278613, \\'longitude\\': 121.06913993374}, \\'name\\': \\'Travellers Hotel\\', \\'parking\\': {\\'lot\\': 0, \\'street\\': 0, \\'valet\\': 0}, \\'rating_count\\': 0, \\'temporary_status\\': \\'operating_as_usual\\'}, {\\'id\\': \\'618865091636209\\', \\'category_list\\': [{\\'id\\': \\'164243073639257\\', \\'name\\': \\'Hotel\\'}], \\'checkins\\': 104, \\'engagement\\': {\\'count\\': 20, \\'social_sentence\\': \\'20 people like this.\\'}, \\'link\\': \\'https://www.facebook.com/618865078302877\\', \\'location\\': {\\'city\\': \\'Mamburao\\', \\'country\\': \\'Philippines\\', \\'latitude\\': 13.219656830482, \\'longitude\\': 120.60078351452, \\'street\\': \\'National Rd.\\', \\'zip\\': \\'5106\\'}, \\'name\\': \\\\\"Traveller\\'s Hotel And Restaurant in Misamis Occidental\\\\\", \\'price_range\\': \\'$$\\', \\'rating_count\\': 0, \\'temporary_status\\': \\'no_data\\'}, {\\'id\\': \\'1655255001447173\\', \\'category_list\\': [{\\'id\\': \\'164243073639257\\', \\'name\\': \\'Hotel\\'}], \\'checkins\\': 12, \\'engagement\\': {\\'count\\': 1, \\'social_sentence\\': \\'One person likes this.\\'}, \\'link\\': \\'https://www.facebook.com/1655254994780507\\', \\'location\\': {\\'city\\': \\'Mamburao\\', \\'country\\': \\'Philippines\\', \\'latitude\\': 13.21954, \\'longitude\\': 120.60083, \\'street\\': \\'Mindoro West Coastal Rd\\', \\'zip\\': \\'5106\\'}, \\'name\\': \\'Travellers Hotel\\', \\'rating_count\\': 0, \\'temporary_status\\': \\'no_data\\'}, {\\'id\\': \\'211817745830927\\', \\'category_list\\': [{\\'id\\': \\'164243073639257\\', \\'name\\': \\'Hotel\\'}, {\\'id\\': \\'181216025249367\\', \\'name\\': \\'Apartment & Condo Building\\'}], \\'checkins\\': 474, \\'engagement\\': {\\'count\\': 58, \\'social_sentence\\': \\'58 people like this.\\'}, \\'link\\': \\'https://www.facebook.com/211817729164262\\', \\'location\\': {\\'city\\': \\'Dubai\\', \\'country\\': \\'United Arab Emirates\\', \\'latitude\\': 25.1101619, \\'longitude\\': 55.2031486, \\'street\\': \\'Travellers Hotel Apartment, Al Barsha 1\\'}, \\'name\\': \\'Travellers Hotel Apartment\\', \\'price_range\\': \\'$$$\\', \\'rating_count\\': 0, \\'temporary_status\\': \\'no_data\\'}, {\\'id\\': \\'232978153466057\\', \\'category_list\\': [{\\'id\\': \\'2500\\', \\'name\\': \\'Local Business\\'}], \\'checkins\\': 1, \\'engagement\\': {\\'count\\': 0, \\'social_sentence\\': \\'Be the first of your friends to like this.\\'}, \\'link\\': \\'https://www.facebook.com/232978136799392\\', \\'location\\': {\\'city\\': \\'Bangkok\\', \\'country\\': \\'Thailand\\', \\'latitude\\': 13.7970924, \\'longitude\\': 100.574243078}, \\'name\\': \\'Travellers Hotel\\', \\'parking\\': {\\'lot\\': 0, \\'street\\': 0, \\'valet\\': 0}, \\'rating_count\\': 0, \\'temporary_status\\': \\'operating_as_usual\\'}, {\\'id\\': \\'236588773114054\\', \\'category_list\\': [{\\'id\\': \\'2500\\', \\'name\\': \\'Local Business\\'}], \\'checkins\\': 2, \\'engagement\\': {\\'count\\': 0, \\'social_sentence\\': \\'Be the first of your friends to like this.\\'}, \\'link\\': \\'https://www.facebook.com/236588746447390\\', \\'location\\': {\\'city\\': \\'Mombasa\\', \\'country\\': \\'Kenya\\', \\'latitude\\': -3.99341237, \\'longitude\\': 39.735035}, \\'name\\': \\'Travellers Hotel\\', \\'parking\\': {\\'lot\\': 0, \\'street\\': 0, \\'valet\\': 0}, \\'rating_count\\': 0, \\'temporary_status\\': \\'operating_as_usual\\'}, {\\'id\\': \\'819064254831310\\', \\'about\\': \\'Fone 067 99978-0911 nando\\\\\\\\n\\\\\\\\nTel 67 34419319\\\\\\\\nCompra \\\\\\\\nVenda\\\\\\\\nTroca\\\\\\\\nConsigna\\\\u00c3\\\\u00a7\\\\u00c3\\\\u00a3o\\\\\\\\n\\\\\\\\nDeus acima de tudo!!! \\', \\'category_list\\': [{\\'id\\': \\'131962450204676\\', \\'name\\': \\'Car Dealership\\'}], \\'checkins\\': 12671, \\'cover\\': {\\'cover_id\\': \\'3925266410877730\\', \\'offset_x\\': 50, \\'offset_y\\': 0, \\'source\\': \\'https://scontent.flux1-1.fna.fbcdn.net/v/t1.0-9/s720x720/101743648_3925266414211063_1371622760459315195_o.jpg?_nc_cat=101&_nc_sid=dd9801&_nc_ohc=958LKbz-WA4AX8biyPg&_nc_ht=scontent.flux1-1.fna&tp=-7&oh=e99155a68a5c5fdb6c6e92cd0f37b83b&oe=5F62E1BB\\', \\'id\\': \\'3925266410877730\\'}, \\'engagement\\': {\\'count\\': 1927, \\'social_sentence\\': \\'1.9K people like this.\\'}, \\'link\\': \\'https://www.facebook.com/819064228164646\\', \\'location\\': {\\'city\\': \\'Nova Andradina\\', \\'country\\': \\'Brazil\\', \\'latitude\\': -22.24602884, \\'longitude\\': -53.346317750333, \\'state\\': \\'MS\\', \\'street\\': \\'av Ant\\\\u00c3\\\\u00b3nio Joaquim de Moura Andrade n991\\', \\'zip\\': \\'79750000\\'}, \\'name\\': \\'MultiCar Ve\\\\u00c3\\\\u00adculos\\', \\'parking\\': {\\'lot\\': 1, \\'street\\': 1, \\'valet\\': 0}, \\'price_range\\': \\'$$$\\', \\'rating_count\\': 4, \\'temporary_status\\': \\'operating_as_usual\\', \\'website\\': \\'www.multcarveiculos.net.br\\'}, {\\'id\\': \\'135241089835779\\', \\'category_list\\': [{\\'id\\': \\'164243073639257\\', \\'name\\': \\'Hotel\\'}, {\\'id\\': \\'152050108191372\\', \\'name\\': \\'Motel\\'}], \\'checkins\\': 242, \\'engagement\\': {\\'count\\': 7, \\'social_sentence\\': \\'7 people like this.\\'}, \\'link\\': \\'https://www.facebook.com/135241083169113\\', \\'location\\': {\\'city\\': \\'Parry Sound\\', \\'country\\': \\'Canada\\', \\'latitude\\': 45.34543, \\'longitude\\': -80.03618, \\'state\\': \\'ON\\', \\'street\\': \\'36 Mary St\\', \\'zip\\': \\'P2A 1E4\\'}, \\'name\\': \\\\\"Traveller\\'s Motor Hotel\\\\\", \\'parking\\': {\\'lot\\': 0, \\'street\\': 0, \\'valet\\': 0}, \\'price_range\\': \\'$\\', \\'rating_count\\': 2, \\'temporary_status\\': \\'no_data\\', \\'website\\': \\'http://travellershotel.org/\\'}, {\\'id\\': \\'428785617237469\\', \\'about\\': \\'Urban Travellers Hotel in Pasay City, Philippines offers cozy  guestrooms equipped with modern amenities. \\', \\'category_list\\': [{\\'id\\': \\'164243073639257\\', \\'name\\': \\'Hotel\\'}], \\'checkins\\': 25545, \\'cover\\': {\\'cover_id\\': \\'2039392026176812\\', \\'offset_x\\': 50, \\'offset_y\\': 52, \\'source\\': \\'https://scontent.flux1-1.fna.fbcdn.net/v/t1.0-0/p235x350/53026463_2039392032843478_3960587633691721728_o.jpg?_nc_cat=101&_nc_sid=dd9801&_nc_ohc=ZzdmVvtao7wAX8GHpJn&_nc_ht=scontent.flux1-1.fna&_nc_tp=6&oh=abe0781866089769122e8d013e1c673f&oe=5F636864\\', \\'id\\': \\'2039392026176812\\'}, \\'description\\': \\'Ideally located in the heart of the city, our hotel offers affordable accommodation for business and leisure travelers. Guests can enjoy staying in our uniquely designed rooms, equipped with a phone, Internet access, and private toilet and bath. They can also enjoy the fact that they are near business districts, commercial centers, and historical sites while here. Indeed, guests will say our hotel is the perfect accommodation choice in the metropolis. \\\\\\\\n\\\\\\\\n\\\\\\\\n3-5 minutes walk to MRT and LRT EDSA Stations\\\\\\\\n2 minute walk to Metropoint Mall\\\\\\\\n5-10 minute walk to Major City and Provincial Terminals (Victory Liner, Partas, Genesis, Five Star, Philtranco\\\\\\\\n10-15 minute drive to DFA, OWWA, Senate\\\\\\\\n10-15 minute drive to SM Mall of Asia, SMX World Trade Center, PICC, Star City, \\\\\\\\nAccessible to Public Transportation (Bus, Taxi, Jeeps)\\\\\\\\n15-20 minute drive to the Airport\\', \\'engagement\\': {\\'count\\': 8042, \\'social_sentence\\': \\'8K people like this.\\'}, \\'link\\': \\'https://www.facebook.com/101387896643911\\', \\'location\\': {\\'city\\': \\'Pasay City\\', \\'country\\': \\'Philippines\\', \\'latitude\\': 14.538182256522, \\'longitude\\': 121.00125934792, \\'street\\': \\'2867 Zamora Street\\', \\'zip\\': \\'1300\\'}, \\'name\\': \\'Urban Travellers Hotel\\', \\'parking\\': {\\'lot\\': 1, \\'street\\': 1, \\'valet\\': 0}, \\'price_range\\': \\'$$\\', \\'rating_count\\': 125, \\'temporary_status\\': \\'operating_as_usual\\', \\'website\\': \\'https://www.urbantravellershotel.com\\'}], \\'paging\\': {\\'cursors\\': {\\'after\\': \\'MjQZD\\'}, \\'next\\': \\'https://graph.facebook.com/v7.0/search?access_token=EAAQpDd2jJNIBAP3b8wvST5izVG482aTnBpIKwuzpwjHBrq1CZAADI3aeZCUt4kKYR02TZCgZBQZB1thmuW9FQ5XYyZB0a0F6osddFTDTqAKCuIOxoLZCokGeUBXU9omfdozgXIDDMfoZC754nSpIsZATIztanTBdBHMzsztqmSCv7qDF14QLhNuP0pExzxwlPoQh9vDWgIiMZBOZCPc8x0kTl5O&fields=id%2C+about%2C+category_list%2C+checkins%2C+cover%2C+description%2C+differently_open_offerings%2C+engagement%2C+link%2C+location%2C+name%2C+parking%2C+payment_options%2C+price_range%2C+rating_count%2C+restaurant_services%2C+restaurant_specialties%2C+temporary_status%2C+website&q=Northwind+Travellers%27+Hotel&type=place&limit=25&after=MjQZD\\'}}\"'"
            ]
          },
          "metadata": {
            "tags": []
          },
          "execution_count": 53
        }
      ]
    },
    {
      "cell_type": "code",
      "metadata": {
        "id": "xFxDm-YUFeGG"
      },
      "source": [
        "# wiwz = src_df[\"place_name_q\"].to_json()\n",
        "# wiwz\n",
        "\n",
        "fpath = \"/content/drive/My Drive/DOT/fb_data_api/\"\n",
        "fname = \"json_trial\"\n",
        "# src_df[\"place_name_q\"].to_json(fpath+fname+\".json\")"
      ],
      "execution_count": null,
      "outputs": []
    },
    {
      "cell_type": "code",
      "metadata": {
        "id": "JZhumlkkH1Vz"
      },
      "source": [
        "waasd = json.loads(wiwz)\n",
        "waasd"
      ],
      "execution_count": null,
      "outputs": []
    },
    {
      "cell_type": "code",
      "metadata": {
        "id": "qMtqJsn-IA15",
        "colab": {
          "base_uri": "https://localhost:8080/",
          "height": 34
        },
        "outputId": "ba267d92-a4a3-43c2-cf84-9c7af3842719"
      },
      "source": [
        "type(waasd['0'])"
      ],
      "execution_count": null,
      "outputs": [
        {
          "output_type": "execute_result",
          "data": {
            "text/plain": [
              "str"
            ]
          },
          "metadata": {
            "tags": []
          },
          "execution_count": 66
        }
      ]
    },
    {
      "cell_type": "code",
      "metadata": {
        "id": "gu5KnHgSHUBY",
        "colab": {
          "base_uri": "https://localhost:8080/",
          "height": 320
        },
        "outputId": "68cce0ef-728e-4175-d7ee-5922eab50e84"
      },
      "source": [
        "asyo = pd.read_json(fpath+fname+\".json\")\n",
        "asyo"
      ],
      "execution_count": null,
      "outputs": [
        {
          "output_type": "error",
          "ename": "ValueError",
          "evalue": "ignored",
          "traceback": [
            "\u001b[0;31m---------------------------------------------------------------------------\u001b[0m",
            "\u001b[0;31mValueError\u001b[0m                                Traceback (most recent call last)",
            "\u001b[0;32m<ipython-input-61-8a2faccddbd7>\u001b[0m in \u001b[0;36m<module>\u001b[0;34m()\u001b[0m\n\u001b[0;32m----> 1\u001b[0;31m \u001b[0masyo\u001b[0m \u001b[0;34m=\u001b[0m \u001b[0mpd\u001b[0m\u001b[0;34m.\u001b[0m\u001b[0mread_json\u001b[0m\u001b[0;34m(\u001b[0m\u001b[0mfpath\u001b[0m\u001b[0;34m+\u001b[0m\u001b[0mfname\u001b[0m\u001b[0;34m+\u001b[0m\u001b[0;34m\".json\"\u001b[0m\u001b[0;34m)\u001b[0m\u001b[0;34m\u001b[0m\u001b[0;34m\u001b[0m\u001b[0m\n\u001b[0m\u001b[1;32m      2\u001b[0m \u001b[0masyo\u001b[0m\u001b[0;34m\u001b[0m\u001b[0;34m\u001b[0m\u001b[0m\n",
            "\u001b[0;32m/usr/local/lib/python3.6/dist-packages/pandas/util/_decorators.py\u001b[0m in \u001b[0;36mwrapper\u001b[0;34m(*args, **kwargs)\u001b[0m\n\u001b[1;32m    212\u001b[0m                 \u001b[0;32melse\u001b[0m\u001b[0;34m:\u001b[0m\u001b[0;34m\u001b[0m\u001b[0;34m\u001b[0m\u001b[0m\n\u001b[1;32m    213\u001b[0m                     \u001b[0mkwargs\u001b[0m\u001b[0;34m[\u001b[0m\u001b[0mnew_arg_name\u001b[0m\u001b[0;34m]\u001b[0m \u001b[0;34m=\u001b[0m \u001b[0mnew_arg_value\u001b[0m\u001b[0;34m\u001b[0m\u001b[0;34m\u001b[0m\u001b[0m\n\u001b[0;32m--> 214\u001b[0;31m             \u001b[0;32mreturn\u001b[0m \u001b[0mfunc\u001b[0m\u001b[0;34m(\u001b[0m\u001b[0;34m*\u001b[0m\u001b[0margs\u001b[0m\u001b[0;34m,\u001b[0m \u001b[0;34m**\u001b[0m\u001b[0mkwargs\u001b[0m\u001b[0;34m)\u001b[0m\u001b[0;34m\u001b[0m\u001b[0;34m\u001b[0m\u001b[0m\n\u001b[0m\u001b[1;32m    215\u001b[0m \u001b[0;34m\u001b[0m\u001b[0m\n\u001b[1;32m    216\u001b[0m         \u001b[0;32mreturn\u001b[0m \u001b[0mcast\u001b[0m\u001b[0;34m(\u001b[0m\u001b[0mF\u001b[0m\u001b[0;34m,\u001b[0m \u001b[0mwrapper\u001b[0m\u001b[0;34m)\u001b[0m\u001b[0;34m\u001b[0m\u001b[0;34m\u001b[0m\u001b[0m\n",
            "\u001b[0;32m/usr/local/lib/python3.6/dist-packages/pandas/io/json/_json.py\u001b[0m in \u001b[0;36mread_json\u001b[0;34m(path_or_buf, orient, typ, dtype, convert_axes, convert_dates, keep_default_dates, numpy, precise_float, date_unit, encoding, lines, chunksize, compression)\u001b[0m\n\u001b[1;32m    606\u001b[0m         \u001b[0;32mreturn\u001b[0m \u001b[0mjson_reader\u001b[0m\u001b[0;34m\u001b[0m\u001b[0;34m\u001b[0m\u001b[0m\n\u001b[1;32m    607\u001b[0m \u001b[0;34m\u001b[0m\u001b[0m\n\u001b[0;32m--> 608\u001b[0;31m     \u001b[0mresult\u001b[0m \u001b[0;34m=\u001b[0m \u001b[0mjson_reader\u001b[0m\u001b[0;34m.\u001b[0m\u001b[0mread\u001b[0m\u001b[0;34m(\u001b[0m\u001b[0;34m)\u001b[0m\u001b[0;34m\u001b[0m\u001b[0;34m\u001b[0m\u001b[0m\n\u001b[0m\u001b[1;32m    609\u001b[0m     \u001b[0;32mif\u001b[0m \u001b[0mshould_close\u001b[0m\u001b[0;34m:\u001b[0m\u001b[0;34m\u001b[0m\u001b[0;34m\u001b[0m\u001b[0m\n\u001b[1;32m    610\u001b[0m         \u001b[0mfilepath_or_buffer\u001b[0m\u001b[0;34m.\u001b[0m\u001b[0mclose\u001b[0m\u001b[0;34m(\u001b[0m\u001b[0;34m)\u001b[0m\u001b[0;34m\u001b[0m\u001b[0;34m\u001b[0m\u001b[0m\n",
            "\u001b[0;32m/usr/local/lib/python3.6/dist-packages/pandas/io/json/_json.py\u001b[0m in \u001b[0;36mread\u001b[0;34m(self)\u001b[0m\n\u001b[1;32m    729\u001b[0m             \u001b[0mobj\u001b[0m \u001b[0;34m=\u001b[0m \u001b[0mself\u001b[0m\u001b[0;34m.\u001b[0m\u001b[0m_get_object_parser\u001b[0m\u001b[0;34m(\u001b[0m\u001b[0mself\u001b[0m\u001b[0;34m.\u001b[0m\u001b[0m_combine_lines\u001b[0m\u001b[0;34m(\u001b[0m\u001b[0mdata\u001b[0m\u001b[0;34m.\u001b[0m\u001b[0msplit\u001b[0m\u001b[0;34m(\u001b[0m\u001b[0;34m\"\\n\"\u001b[0m\u001b[0;34m)\u001b[0m\u001b[0;34m)\u001b[0m\u001b[0;34m)\u001b[0m\u001b[0;34m\u001b[0m\u001b[0;34m\u001b[0m\u001b[0m\n\u001b[1;32m    730\u001b[0m         \u001b[0;32melse\u001b[0m\u001b[0;34m:\u001b[0m\u001b[0;34m\u001b[0m\u001b[0;34m\u001b[0m\u001b[0m\n\u001b[0;32m--> 731\u001b[0;31m             \u001b[0mobj\u001b[0m \u001b[0;34m=\u001b[0m \u001b[0mself\u001b[0m\u001b[0;34m.\u001b[0m\u001b[0m_get_object_parser\u001b[0m\u001b[0;34m(\u001b[0m\u001b[0mself\u001b[0m\u001b[0;34m.\u001b[0m\u001b[0mdata\u001b[0m\u001b[0;34m)\u001b[0m\u001b[0;34m\u001b[0m\u001b[0;34m\u001b[0m\u001b[0m\n\u001b[0m\u001b[1;32m    732\u001b[0m         \u001b[0mself\u001b[0m\u001b[0;34m.\u001b[0m\u001b[0mclose\u001b[0m\u001b[0;34m(\u001b[0m\u001b[0;34m)\u001b[0m\u001b[0;34m\u001b[0m\u001b[0;34m\u001b[0m\u001b[0m\n\u001b[1;32m    733\u001b[0m         \u001b[0;32mreturn\u001b[0m \u001b[0mobj\u001b[0m\u001b[0;34m\u001b[0m\u001b[0;34m\u001b[0m\u001b[0m\n",
            "\u001b[0;32m/usr/local/lib/python3.6/dist-packages/pandas/io/json/_json.py\u001b[0m in \u001b[0;36m_get_object_parser\u001b[0;34m(self, json)\u001b[0m\n\u001b[1;32m    751\u001b[0m         \u001b[0mobj\u001b[0m \u001b[0;34m=\u001b[0m \u001b[0;32mNone\u001b[0m\u001b[0;34m\u001b[0m\u001b[0;34m\u001b[0m\u001b[0m\n\u001b[1;32m    752\u001b[0m         \u001b[0;32mif\u001b[0m \u001b[0mtyp\u001b[0m \u001b[0;34m==\u001b[0m \u001b[0;34m\"frame\"\u001b[0m\u001b[0;34m:\u001b[0m\u001b[0;34m\u001b[0m\u001b[0;34m\u001b[0m\u001b[0m\n\u001b[0;32m--> 753\u001b[0;31m             \u001b[0mobj\u001b[0m \u001b[0;34m=\u001b[0m \u001b[0mFrameParser\u001b[0m\u001b[0;34m(\u001b[0m\u001b[0mjson\u001b[0m\u001b[0;34m,\u001b[0m \u001b[0;34m**\u001b[0m\u001b[0mkwargs\u001b[0m\u001b[0;34m)\u001b[0m\u001b[0;34m.\u001b[0m\u001b[0mparse\u001b[0m\u001b[0;34m(\u001b[0m\u001b[0;34m)\u001b[0m\u001b[0;34m\u001b[0m\u001b[0;34m\u001b[0m\u001b[0m\n\u001b[0m\u001b[1;32m    754\u001b[0m \u001b[0;34m\u001b[0m\u001b[0m\n\u001b[1;32m    755\u001b[0m         \u001b[0;32mif\u001b[0m \u001b[0mtyp\u001b[0m \u001b[0;34m==\u001b[0m \u001b[0;34m\"series\"\u001b[0m \u001b[0;32mor\u001b[0m \u001b[0mobj\u001b[0m \u001b[0;32mis\u001b[0m \u001b[0;32mNone\u001b[0m\u001b[0;34m:\u001b[0m\u001b[0;34m\u001b[0m\u001b[0;34m\u001b[0m\u001b[0m\n",
            "\u001b[0;32m/usr/local/lib/python3.6/dist-packages/pandas/io/json/_json.py\u001b[0m in \u001b[0;36mparse\u001b[0;34m(self)\u001b[0m\n\u001b[1;32m    855\u001b[0m \u001b[0;34m\u001b[0m\u001b[0m\n\u001b[1;32m    856\u001b[0m         \u001b[0;32melse\u001b[0m\u001b[0;34m:\u001b[0m\u001b[0;34m\u001b[0m\u001b[0;34m\u001b[0m\u001b[0m\n\u001b[0;32m--> 857\u001b[0;31m             \u001b[0mself\u001b[0m\u001b[0;34m.\u001b[0m\u001b[0m_parse_no_numpy\u001b[0m\u001b[0;34m(\u001b[0m\u001b[0;34m)\u001b[0m\u001b[0;34m\u001b[0m\u001b[0;34m\u001b[0m\u001b[0m\n\u001b[0m\u001b[1;32m    858\u001b[0m \u001b[0;34m\u001b[0m\u001b[0m\n\u001b[1;32m    859\u001b[0m         \u001b[0;32mif\u001b[0m \u001b[0mself\u001b[0m\u001b[0;34m.\u001b[0m\u001b[0mobj\u001b[0m \u001b[0;32mis\u001b[0m \u001b[0;32mNone\u001b[0m\u001b[0;34m:\u001b[0m\u001b[0;34m\u001b[0m\u001b[0;34m\u001b[0m\u001b[0m\n",
            "\u001b[0;32m/usr/local/lib/python3.6/dist-packages/pandas/io/json/_json.py\u001b[0m in \u001b[0;36m_parse_no_numpy\u001b[0;34m(self)\u001b[0m\n\u001b[1;32m   1087\u001b[0m         \u001b[0;32mif\u001b[0m \u001b[0morient\u001b[0m \u001b[0;34m==\u001b[0m \u001b[0;34m\"columns\"\u001b[0m\u001b[0;34m:\u001b[0m\u001b[0;34m\u001b[0m\u001b[0;34m\u001b[0m\u001b[0m\n\u001b[1;32m   1088\u001b[0m             self.obj = DataFrame(\n\u001b[0;32m-> 1089\u001b[0;31m                 \u001b[0mloads\u001b[0m\u001b[0;34m(\u001b[0m\u001b[0mjson\u001b[0m\u001b[0;34m,\u001b[0m \u001b[0mprecise_float\u001b[0m\u001b[0;34m=\u001b[0m\u001b[0mself\u001b[0m\u001b[0;34m.\u001b[0m\u001b[0mprecise_float\u001b[0m\u001b[0;34m)\u001b[0m\u001b[0;34m,\u001b[0m \u001b[0mdtype\u001b[0m\u001b[0;34m=\u001b[0m\u001b[0;32mNone\u001b[0m\u001b[0;34m\u001b[0m\u001b[0;34m\u001b[0m\u001b[0m\n\u001b[0m\u001b[1;32m   1090\u001b[0m             )\n\u001b[1;32m   1091\u001b[0m         \u001b[0;32melif\u001b[0m \u001b[0morient\u001b[0m \u001b[0;34m==\u001b[0m \u001b[0;34m\"split\"\u001b[0m\u001b[0;34m:\u001b[0m\u001b[0;34m\u001b[0m\u001b[0;34m\u001b[0m\u001b[0m\n",
            "\u001b[0;32m/usr/local/lib/python3.6/dist-packages/pandas/core/frame.py\u001b[0m in \u001b[0;36m__init__\u001b[0;34m(self, data, index, columns, dtype, copy)\u001b[0m\n\u001b[1;32m    433\u001b[0m             )\n\u001b[1;32m    434\u001b[0m         \u001b[0;32melif\u001b[0m \u001b[0misinstance\u001b[0m\u001b[0;34m(\u001b[0m\u001b[0mdata\u001b[0m\u001b[0;34m,\u001b[0m \u001b[0mdict\u001b[0m\u001b[0;34m)\u001b[0m\u001b[0;34m:\u001b[0m\u001b[0;34m\u001b[0m\u001b[0;34m\u001b[0m\u001b[0m\n\u001b[0;32m--> 435\u001b[0;31m             \u001b[0mmgr\u001b[0m \u001b[0;34m=\u001b[0m \u001b[0minit_dict\u001b[0m\u001b[0;34m(\u001b[0m\u001b[0mdata\u001b[0m\u001b[0;34m,\u001b[0m \u001b[0mindex\u001b[0m\u001b[0;34m,\u001b[0m \u001b[0mcolumns\u001b[0m\u001b[0;34m,\u001b[0m \u001b[0mdtype\u001b[0m\u001b[0;34m=\u001b[0m\u001b[0mdtype\u001b[0m\u001b[0;34m)\u001b[0m\u001b[0;34m\u001b[0m\u001b[0;34m\u001b[0m\u001b[0m\n\u001b[0m\u001b[1;32m    436\u001b[0m         \u001b[0;32melif\u001b[0m \u001b[0misinstance\u001b[0m\u001b[0;34m(\u001b[0m\u001b[0mdata\u001b[0m\u001b[0;34m,\u001b[0m \u001b[0mma\u001b[0m\u001b[0;34m.\u001b[0m\u001b[0mMaskedArray\u001b[0m\u001b[0;34m)\u001b[0m\u001b[0;34m:\u001b[0m\u001b[0;34m\u001b[0m\u001b[0;34m\u001b[0m\u001b[0m\n\u001b[1;32m    437\u001b[0m             \u001b[0;32mimport\u001b[0m \u001b[0mnumpy\u001b[0m\u001b[0;34m.\u001b[0m\u001b[0mma\u001b[0m\u001b[0;34m.\u001b[0m\u001b[0mmrecords\u001b[0m \u001b[0;32mas\u001b[0m \u001b[0mmrecords\u001b[0m\u001b[0;34m\u001b[0m\u001b[0;34m\u001b[0m\u001b[0m\n",
            "\u001b[0;32m/usr/local/lib/python3.6/dist-packages/pandas/core/internals/construction.py\u001b[0m in \u001b[0;36minit_dict\u001b[0;34m(data, index, columns, dtype)\u001b[0m\n\u001b[1;32m    252\u001b[0m             \u001b[0marr\u001b[0m \u001b[0;32mif\u001b[0m \u001b[0;32mnot\u001b[0m \u001b[0mis_datetime64tz_dtype\u001b[0m\u001b[0;34m(\u001b[0m\u001b[0marr\u001b[0m\u001b[0;34m)\u001b[0m \u001b[0;32melse\u001b[0m \u001b[0marr\u001b[0m\u001b[0;34m.\u001b[0m\u001b[0mcopy\u001b[0m\u001b[0;34m(\u001b[0m\u001b[0;34m)\u001b[0m \u001b[0;32mfor\u001b[0m \u001b[0marr\u001b[0m \u001b[0;32min\u001b[0m \u001b[0marrays\u001b[0m\u001b[0;34m\u001b[0m\u001b[0;34m\u001b[0m\u001b[0m\n\u001b[1;32m    253\u001b[0m         ]\n\u001b[0;32m--> 254\u001b[0;31m     \u001b[0;32mreturn\u001b[0m \u001b[0marrays_to_mgr\u001b[0m\u001b[0;34m(\u001b[0m\u001b[0marrays\u001b[0m\u001b[0;34m,\u001b[0m \u001b[0mdata_names\u001b[0m\u001b[0;34m,\u001b[0m \u001b[0mindex\u001b[0m\u001b[0;34m,\u001b[0m \u001b[0mcolumns\u001b[0m\u001b[0;34m,\u001b[0m \u001b[0mdtype\u001b[0m\u001b[0;34m=\u001b[0m\u001b[0mdtype\u001b[0m\u001b[0;34m)\u001b[0m\u001b[0;34m\u001b[0m\u001b[0;34m\u001b[0m\u001b[0m\n\u001b[0m\u001b[1;32m    255\u001b[0m \u001b[0;34m\u001b[0m\u001b[0m\n\u001b[1;32m    256\u001b[0m \u001b[0;34m\u001b[0m\u001b[0m\n",
            "\u001b[0;32m/usr/local/lib/python3.6/dist-packages/pandas/core/internals/construction.py\u001b[0m in \u001b[0;36marrays_to_mgr\u001b[0;34m(arrays, arr_names, index, columns, dtype)\u001b[0m\n\u001b[1;32m     62\u001b[0m     \u001b[0;31m# figure out the index, if necessary\u001b[0m\u001b[0;34m\u001b[0m\u001b[0;34m\u001b[0m\u001b[0;34m\u001b[0m\u001b[0m\n\u001b[1;32m     63\u001b[0m     \u001b[0;32mif\u001b[0m \u001b[0mindex\u001b[0m \u001b[0;32mis\u001b[0m \u001b[0;32mNone\u001b[0m\u001b[0;34m:\u001b[0m\u001b[0;34m\u001b[0m\u001b[0;34m\u001b[0m\u001b[0m\n\u001b[0;32m---> 64\u001b[0;31m         \u001b[0mindex\u001b[0m \u001b[0;34m=\u001b[0m \u001b[0mextract_index\u001b[0m\u001b[0;34m(\u001b[0m\u001b[0marrays\u001b[0m\u001b[0;34m)\u001b[0m\u001b[0;34m\u001b[0m\u001b[0;34m\u001b[0m\u001b[0m\n\u001b[0m\u001b[1;32m     65\u001b[0m     \u001b[0;32melse\u001b[0m\u001b[0;34m:\u001b[0m\u001b[0;34m\u001b[0m\u001b[0;34m\u001b[0m\u001b[0m\n\u001b[1;32m     66\u001b[0m         \u001b[0mindex\u001b[0m \u001b[0;34m=\u001b[0m \u001b[0mensure_index\u001b[0m\u001b[0;34m(\u001b[0m\u001b[0mindex\u001b[0m\u001b[0;34m)\u001b[0m\u001b[0;34m\u001b[0m\u001b[0;34m\u001b[0m\u001b[0m\n",
            "\u001b[0;32m/usr/local/lib/python3.6/dist-packages/pandas/core/internals/construction.py\u001b[0m in \u001b[0;36mextract_index\u001b[0;34m(data)\u001b[0m\n\u001b[1;32m    353\u001b[0m \u001b[0;34m\u001b[0m\u001b[0m\n\u001b[1;32m    354\u001b[0m         \u001b[0;32mif\u001b[0m \u001b[0;32mnot\u001b[0m \u001b[0mindexes\u001b[0m \u001b[0;32mand\u001b[0m \u001b[0;32mnot\u001b[0m \u001b[0mraw_lengths\u001b[0m\u001b[0;34m:\u001b[0m\u001b[0;34m\u001b[0m\u001b[0;34m\u001b[0m\u001b[0m\n\u001b[0;32m--> 355\u001b[0;31m             \u001b[0;32mraise\u001b[0m \u001b[0mValueError\u001b[0m\u001b[0;34m(\u001b[0m\u001b[0;34m\"If using all scalar values, you must pass an index\"\u001b[0m\u001b[0;34m)\u001b[0m\u001b[0;34m\u001b[0m\u001b[0;34m\u001b[0m\u001b[0m\n\u001b[0m\u001b[1;32m    356\u001b[0m \u001b[0;34m\u001b[0m\u001b[0m\n\u001b[1;32m    357\u001b[0m         \u001b[0;32mif\u001b[0m \u001b[0mhave_series\u001b[0m\u001b[0;34m:\u001b[0m\u001b[0;34m\u001b[0m\u001b[0;34m\u001b[0m\u001b[0m\n",
            "\u001b[0;31mValueError\u001b[0m: If using all scalar values, you must pass an index"
          ]
        }
      ]
    },
    {
      "cell_type": "code",
      "metadata": {
        "id": "SofEuQcUF1kR",
        "colab": {
          "base_uri": "https://localhost:8080/",
          "height": 162
        },
        "outputId": "4bf6a101-acb6-499d-f84c-90f60b898dad"
      },
      "source": [
        "wiwz[\"0\"]"
      ],
      "execution_count": null,
      "outputs": [
        {
          "output_type": "error",
          "ename": "TypeError",
          "evalue": "ignored",
          "traceback": [
            "\u001b[0;31m---------------------------------------------------------------------------\u001b[0m",
            "\u001b[0;31mTypeError\u001b[0m                                 Traceback (most recent call last)",
            "\u001b[0;32m<ipython-input-58-57d90c9d2d83>\u001b[0m in \u001b[0;36m<module>\u001b[0;34m()\u001b[0m\n\u001b[0;32m----> 1\u001b[0;31m \u001b[0mwiwz\u001b[0m\u001b[0;34m[\u001b[0m\u001b[0;34m\"0\"\u001b[0m\u001b[0;34m]\u001b[0m\u001b[0;34m\u001b[0m\u001b[0;34m\u001b[0m\u001b[0m\n\u001b[0m",
            "\u001b[0;31mTypeError\u001b[0m: string indices must be integers"
          ]
        }
      ]
    },
    {
      "cell_type": "code",
      "metadata": {
        "id": "k1xpM95uD2e2",
        "colab": {
          "base_uri": "https://localhost:8080/",
          "height": 354
        },
        "outputId": "da900e0f-ecc8-44fd-9c47-ed86aa5d0f53"
      },
      "source": [
        "# https://medium.com/swlh/converting-nested-json-structures-to-pandas-dataframes-e8106c59976e\n",
        "\n",
        "FIELDS = [\"data\", \"fields.category_list\", \"fields.checkins\", \"fields.link\", \"fields.location.\"]\n",
        "df = pd.json_normalize(what)\n",
        "df[FIELDS]"
      ],
      "execution_count": null,
      "outputs": [
        {
          "output_type": "error",
          "ename": "AttributeError",
          "evalue": "ignored",
          "traceback": [
            "\u001b[0;31m---------------------------------------------------------------------------\u001b[0m",
            "\u001b[0;31mAttributeError\u001b[0m                            Traceback (most recent call last)",
            "\u001b[0;32m<ipython-input-52-e293e52ce289>\u001b[0m in \u001b[0;36m<module>\u001b[0;34m()\u001b[0m\n\u001b[1;32m      2\u001b[0m \u001b[0;34m\u001b[0m\u001b[0m\n\u001b[1;32m      3\u001b[0m \u001b[0mFIELDS\u001b[0m \u001b[0;34m=\u001b[0m \u001b[0;34m[\u001b[0m\u001b[0;34m\"data\"\u001b[0m\u001b[0;34m,\u001b[0m \u001b[0;34m\"fields.category_list\"\u001b[0m\u001b[0;34m,\u001b[0m \u001b[0;34m\"fields.checkins\"\u001b[0m\u001b[0;34m,\u001b[0m \u001b[0;34m\"fields.link\"\u001b[0m\u001b[0;34m,\u001b[0m \u001b[0;34m\"fields.location.\"\u001b[0m\u001b[0;34m]\u001b[0m\u001b[0;34m\u001b[0m\u001b[0;34m\u001b[0m\u001b[0m\n\u001b[0;32m----> 4\u001b[0;31m \u001b[0mdf\u001b[0m \u001b[0;34m=\u001b[0m \u001b[0mpd\u001b[0m\u001b[0;34m.\u001b[0m\u001b[0mjson_normalize\u001b[0m\u001b[0;34m(\u001b[0m\u001b[0mwhat\u001b[0m\u001b[0;34m)\u001b[0m\u001b[0;34m\u001b[0m\u001b[0;34m\u001b[0m\u001b[0m\n\u001b[0m\u001b[1;32m      5\u001b[0m \u001b[0mdf\u001b[0m\u001b[0;34m[\u001b[0m\u001b[0mFIELDS\u001b[0m\u001b[0;34m]\u001b[0m\u001b[0;34m\u001b[0m\u001b[0;34m\u001b[0m\u001b[0m\n",
            "\u001b[0;32m/usr/local/lib/python3.6/dist-packages/pandas/io/json/_normalize.py\u001b[0m in \u001b[0;36m_json_normalize\u001b[0;34m(data, record_path, meta, meta_prefix, record_prefix, errors, sep, max_level)\u001b[0m\n\u001b[1;32m    272\u001b[0m \u001b[0;34m\u001b[0m\u001b[0m\n\u001b[1;32m    273\u001b[0m     \u001b[0;32mif\u001b[0m \u001b[0mrecord_path\u001b[0m \u001b[0;32mis\u001b[0m \u001b[0;32mNone\u001b[0m\u001b[0;34m:\u001b[0m\u001b[0;34m\u001b[0m\u001b[0;34m\u001b[0m\u001b[0m\n\u001b[0;32m--> 274\u001b[0;31m         \u001b[0;32mif\u001b[0m \u001b[0many\u001b[0m\u001b[0;34m(\u001b[0m\u001b[0;34m[\u001b[0m\u001b[0misinstance\u001b[0m\u001b[0;34m(\u001b[0m\u001b[0mx\u001b[0m\u001b[0;34m,\u001b[0m \u001b[0mdict\u001b[0m\u001b[0;34m)\u001b[0m \u001b[0;32mfor\u001b[0m \u001b[0mx\u001b[0m \u001b[0;32min\u001b[0m \u001b[0my\u001b[0m\u001b[0;34m.\u001b[0m\u001b[0mvalues\u001b[0m\u001b[0;34m(\u001b[0m\u001b[0;34m)\u001b[0m\u001b[0;34m]\u001b[0m \u001b[0;32mfor\u001b[0m \u001b[0my\u001b[0m \u001b[0;32min\u001b[0m \u001b[0mdata\u001b[0m\u001b[0;34m)\u001b[0m\u001b[0;34m:\u001b[0m\u001b[0;34m\u001b[0m\u001b[0;34m\u001b[0m\u001b[0m\n\u001b[0m\u001b[1;32m    275\u001b[0m             \u001b[0;31m# naive normalization, this is idempotent for flat records\u001b[0m\u001b[0;34m\u001b[0m\u001b[0;34m\u001b[0m\u001b[0;34m\u001b[0m\u001b[0m\n\u001b[1;32m    276\u001b[0m             \u001b[0;31m# and potentially will inflate the data considerably for\u001b[0m\u001b[0;34m\u001b[0m\u001b[0;34m\u001b[0m\u001b[0;34m\u001b[0m\u001b[0m\n",
            "\u001b[0;32m/usr/local/lib/python3.6/dist-packages/pandas/io/json/_normalize.py\u001b[0m in \u001b[0;36m<genexpr>\u001b[0;34m(.0)\u001b[0m\n\u001b[1;32m    272\u001b[0m \u001b[0;34m\u001b[0m\u001b[0m\n\u001b[1;32m    273\u001b[0m     \u001b[0;32mif\u001b[0m \u001b[0mrecord_path\u001b[0m \u001b[0;32mis\u001b[0m \u001b[0;32mNone\u001b[0m\u001b[0;34m:\u001b[0m\u001b[0;34m\u001b[0m\u001b[0;34m\u001b[0m\u001b[0m\n\u001b[0;32m--> 274\u001b[0;31m         \u001b[0;32mif\u001b[0m \u001b[0many\u001b[0m\u001b[0;34m(\u001b[0m\u001b[0;34m[\u001b[0m\u001b[0misinstance\u001b[0m\u001b[0;34m(\u001b[0m\u001b[0mx\u001b[0m\u001b[0;34m,\u001b[0m \u001b[0mdict\u001b[0m\u001b[0;34m)\u001b[0m \u001b[0;32mfor\u001b[0m \u001b[0mx\u001b[0m \u001b[0;32min\u001b[0m \u001b[0my\u001b[0m\u001b[0;34m.\u001b[0m\u001b[0mvalues\u001b[0m\u001b[0;34m(\u001b[0m\u001b[0;34m)\u001b[0m\u001b[0;34m]\u001b[0m \u001b[0;32mfor\u001b[0m \u001b[0my\u001b[0m \u001b[0;32min\u001b[0m \u001b[0mdata\u001b[0m\u001b[0;34m)\u001b[0m\u001b[0;34m:\u001b[0m\u001b[0;34m\u001b[0m\u001b[0;34m\u001b[0m\u001b[0m\n\u001b[0m\u001b[1;32m    275\u001b[0m             \u001b[0;31m# naive normalization, this is idempotent for flat records\u001b[0m\u001b[0;34m\u001b[0m\u001b[0;34m\u001b[0m\u001b[0;34m\u001b[0m\u001b[0m\n\u001b[1;32m    276\u001b[0m             \u001b[0;31m# and potentially will inflate the data considerably for\u001b[0m\u001b[0;34m\u001b[0m\u001b[0;34m\u001b[0m\u001b[0;34m\u001b[0m\u001b[0m\n",
            "\u001b[0;31mAttributeError\u001b[0m: 'str' object has no attribute 'values'"
          ]
        }
      ]
    },
    {
      "cell_type": "code",
      "metadata": {
        "id": "0y9edlEBD4lE"
      },
      "source": [
        ""
      ],
      "execution_count": null,
      "outputs": []
    },
    {
      "cell_type": "code",
      "metadata": {
        "id": "AHSjTwJ8-AA2",
        "colab": {
          "base_uri": "https://localhost:8080/",
          "height": 238
        },
        "outputId": "2f87b1f9-47b8-463b-ea2e-a98dd20cee09"
      },
      "source": [
        "trial_data = src_df['place_name_q'][0]\n",
        "trial_data"
      ],
      "execution_count": null,
      "outputs": [
        {
          "output_type": "execute_result",
          "data": {
            "application/vnd.google.colaboratory.intrinsic+json": {
              "type": "string"
            },
            "text/plain": [
              "'{\\'data\\': [{\\'id\\': \\'937923869738268\\', \\'category_list\\': [{\\'id\\': \\'164243073639257\\', \\'name\\': \\'Hotel\\'}], \\'checkins\\': 74, \\'engagement\\': {\\'count\\': 9, \\'social_sentence\\': \\'9 people like this.\\'}, \\'link\\': \\'https://www.facebook.com/937923866404935\\', \\'location\\': {\\'city\\': \\'Bangui\\', \\'country\\': \\'Philippines\\', \\'latitude\\': 18.535397, \\'longitude\\': 120.771814}, \\'name\\': \\'Northwind Travellers Hotel\\', \\'rating_count\\': 0, \\'temporary_status\\': \\'no_data\\'}, {\\'id\\': \\'1648000865440411\\', \\'about\\': \\'Cebu Northwinds Hotel believe that our guests deserve only the highest standard of services. When you are with us; you surely feel \"A HOME AWAY FROM HOME\".\\', \\'category_list\\': [{\\'id\\': \\'164243073639257\\', \\'name\\': \\'Hotel\\'}], \\'checkins\\': 21095, \\'cover\\': {\\'cover_id\\': \\'2576549059252249\\', \\'offset_x\\': 49, \\'offset_y\\': 50, \\'source\\': \\'https://scontent.flux1-1.fna.fbcdn.net/v/t1.0-9/s720x720/83929541_2576549065918915_5959512632120573952_o.jpg?_nc_cat=110&_nc_sid=dd9801&_nc_ohc=Ec07AsQgZfoAX_8wz_K&_nc_ht=scontent.flux1-1.fna&tp=-7&oh=df128b97446a66642a60e9cbad1566ac&oe=5F6386FF\\', \\'id\\': \\'2576549059252249\\'}, \\'engagement\\': {\\'count\\': 3021, \\'social_sentence\\': \\'3K people like this.\\'}, \\'link\\': \\'https://www.facebook.com/1643831249190706\\', \\'location\\': {\\'city\\': \\'Cebu City\\', \\'country\\': \\'Philippines\\', \\'latitude\\': 10.328958386136, \\'longitude\\': 123.90230351733, \\'street\\': \\'Salinas Drive Lahug\\', \\'zip\\': \\'6000\\'}, \\'name\\': \\'Cebu Northwinds Hotel\\', \\'price_range\\': \\'$$\\', \\'rating_count\\': 31, \\'temporary_status\\': \\'operating_as_usual\\', \\'website\\': \\'http://www.cebunorthwinds.com\\'}, {\\'id\\': \\'370720949615395\\', \\'category_list\\': [{\\'id\\': \\'164243073639257\\', \\'name\\': \\'Hotel\\'}, {\\'id\\': \\'181803978524025\\', \\'name\\': \\'Inn\\'}], \\'checkins\\': 3729, \\'engagement\\': {\\'count\\': 588, \\'social_sentence\\': \\'588 people like this.\\'}, \\'link\\': \\'https://www.facebook.com/370720932948730\\', \\'location\\': {\\'city\\': \\'Batangas City\\', \\'country\\': \\'Philippines\\', \\'latitude\\': 13.757489864916, \\'longitude\\': 121.0517472373, \\'street\\': \\'New Access Road, Brgy. Sta Clara\\', \\'zip\\': \\'4200\\'}, \\'name\\': \"Travellers\\' Hotel Batangas\", \\'parking\\': {\\'lot\\': 0, \\'street\\': 0, \\'valet\\': 0}, \\'rating_count\\': 6, \\'temporary_status\\': \\'no_data\\'}, {\\'id\\': \\'1690076671280994\\', \\'category_list\\': [{\\'id\\': \\'164243073639257\\', \\'name\\': \\'Hotel\\'}], \\'checkins\\': 2, \\'engagement\\': {\\'count\\': 0, \\'social_sentence\\': \\'Be the first of your friends to like this.\\'}, \\'link\\': \\'https://www.facebook.com/1690076644614330\\', \\'location\\': {\\'city\\': \\'Ladysmith\\', \\'country\\': \\'Canada\\', \\'latitude\\': 48.992901, \\'longitude\\': -123.816585, \\'state\\': \\'BC\\', \\'street\\': \\'422 1st Ave\\', \\'zip\\': \\'V9G 1A9\\'}, \\'name\\': \\'Travellers Hotel\\', \\'price_range\\': \\'$$\\', \\'rating_count\\': 0, \\'temporary_status\\': \\'no_data\\'}, {\\'id\\': \\'178703922140374\\', \\'category_list\\': [{\\'id\\': \\'187686707929197\\', \\'name\\': \\'Hotel Resort\\'}], \\'checkins\\': 11822, \\'engagement\\': {\\'count\\': 184, \\'social_sentence\\': \\'184 people like this.\\'}, \\'link\\': \\'https://www.facebook.com/178703908807042\\', \\'location\\': {\\'city\\': \\'Bangkok\\', \\'country\\': \\'Thailand\\', \\'latitude\\': 13.797306576586, \\'longitude\\': 100.57430273755, \\'zip\\': \\'10400\\'}, \\'name\\': \\'The Travellers Hotel\\', \\'parking\\': {\\'lot\\': 0, \\'street\\': 0, \\'valet\\': 0}, \\'price_range\\': \\'$$\\', \\'rating_count\\': 22, \\'temporary_status\\': \\'no_data\\', \\'website\\': \\'http://www.travellerinnhotel.net/\\'}, {\\'id\\': \\'148144922011459\\', \\'category_list\\': [{\\'id\\': \\'2500\\', \\'name\\': \\'Local Business\\'}], \\'checkins\\': 195, \\'engagement\\': {\\'count\\': 2, \\'social_sentence\\': \\'2 people like this.\\'}, \\'link\\': \\'https://www.facebook.com/148144908678127\\', \\'location\\': {\\'city\\': \\'Olongapo\\', \\'country\\': \\'Philippines\\', \\'latitude\\': 14.821662704, \\'longitude\\': 120.274043965}, \\'name\\': \\'Travellers Hotel\\', \\'parking\\': {\\'lot\\': 0, \\'street\\': 0, \\'valet\\': 0}, \\'rating_count\\': 0, \\'temporary_status\\': \\'operating_as_usual\\'}, {\\'id\\': \\'645694045521758\\', \\'about\\': \\' Hotel Northwinds is located in the centre of Labasa town. The hotel has 12 spacious well equipped rooms that are fully air condition TV, Bar Fridge,\\', \\'category_list\\': [{\\'id\\': \\'164243073639257\\', \\'name\\': \\'Hotel\\'}], \\'checkins\\': 594, \\'cover\\': {\\'cover_id\\': \\'665284996895996\\', \\'offset_x\\': 51, \\'offset_y\\': 50, \\'source\\': \\'https://scontent.flux1-1.fna.fbcdn.net/v/t31.0-8/s720x720/10522374_665284996895996_1777591725987789979_o.jpg?_nc_cat=102&_nc_sid=dd9801&_nc_ohc=kyJJcAcuyo0AX_xDpZZ&_nc_ht=scontent.flux1-1.fna&tp=-7&oh=ac75ded58e0b48f2c2fb9d6f751ac077&oe=5F63B937\\', \\'id\\': \\'665284996895996\\'}, \\'engagement\\': {\\'count\\': 2928, \\'social_sentence\\': \\'2.9K people like this.\\'}, \\'link\\': \\'https://www.facebook.com/645693918855104\\', \\'location\\': {\\'city\\': \\'Labasa\\', \\'country\\': \\'Fiji\\', \\'latitude\\': -16.429187760398, \\'longitude\\': 179.37561575433, \\'street\\': \\'Main Street Labasa\\', \\'zip\\': \\'+679\\'}, \\'name\\': \\'Hotel Northwinds\\', \\'parking\\': {\\'lot\\': 0, \\'street\\': 0, \\'valet\\': 0}, \\'price_range\\': \\'$$$\\', \\'rating_count\\': 2, \\'temporary_status\\': \\'operating_as_usual\\'}, {\\'id\\': \\'529935650376143\\', \\'category_list\\': [{\\'id\\': \\'162914327091136\\', \\'name\\': \\'Travel Agency\\'}, {\\'id\\': \\'164243073639257\\', \\'name\\': \\'Hotel\\'}], \\'checkins\\': 3, \\'engagement\\': {\\'count\\': 0, \\'social_sentence\\': \\'Be the first of your friends to like this.\\'}, \\'link\\': \\'https://www.facebook.com/529935637042811\\', \\'location\\': {\\'city\\': \\'Cebu City\\', \\'country\\': \\'Philippines\\', \\'latitude\\': 10.3289804, \\'longitude\\': 123.9025189, \\'street\\': \\'Salinas Drive\\'}, \\'name\\': \\'Northwind Hotel\\', \\'parking\\': {\\'lot\\': 0, \\'street\\': 0, \\'valet\\': 0}, \\'rating_count\\': 0, \\'temporary_status\\': \\'no_data\\'}, {\\'id\\': \\'533272100063285\\', \\'category_list\\': [{\\'id\\': \\'162914327091136\\', \\'name\\': \\'Travel Agency\\'}, {\\'id\\': \\'164243073639257\\', \\'name\\': \\'Hotel\\'}], \\'checkins\\': 4, \\'engagement\\': {\\'count\\': 0, \\'social_sentence\\': \\'Be the first of your friends to like this.\\'}, \\'link\\': \\'https://www.facebook.com/533272086729953\\', \\'location\\': {\\'city\\': \\'Cebu City\\', \\'country\\': \\'Philippines\\', \\'latitude\\': 10.323565350649, \\'longitude\\': 123.90265298701}, \\'name\\': \\'Northwind Hotel\\', \\'parking\\': {\\'lot\\': 0, \\'street\\': 0, \\'valet\\': 0}, \\'rating_count\\': 0, \\'temporary_status\\': \\'operating_as_usual\\'}, {\\'id\\': \\'1400356910180773\\', \\'category_list\\': [{\\'id\\': \\'1562965077339698\\', \\'name\\': \\'Food & Beverage\\'}, {\\'id\\': \\'164243073639257\\', \\'name\\': \\'Hotel\\'}], \\'checkins\\': 1, \\'engagement\\': {\\'count\\': 0, \\'social_sentence\\': \\'Be the first of your friends to like this.\\'}, \\'link\\': \\'https://www.facebook.com/1400356896847441\\', \\'location\\': {\\'city\\': \\'Cebu City\\', \\'country\\': \\'Philippines\\', \\'latitude\\': 10.328938385, \\'longitude\\': 123.902280182, \\'street\\': \\'Salinas Drive\\'}, \\'name\\': \\'Northwind Hotel\\', \\'parking\\': {\\'lot\\': 0, \\'street\\': 0, \\'valet\\': 0}, \\'rating_count\\': 0, \\'temporary_status\\': \\'no_data\\'}, {\\'id\\': \\'926370511086937\\', \\'category_list\\': [{\\'id\\': \\'164243073639257\\', \\'name\\': \\'Hotel\\'}], \\'checkins\\': 32, \\'engagement\\': {\\'count\\': 0, \\'social_sentence\\': \\'Be the first of your friends to like this.\\'}, \\'link\\': \\'https://www.facebook.com/926370497753605\\', \\'location\\': {\\'city\\': \\'Ijebu Igbo\\', \\'country\\': \\'Nigeria\\', \\'latitude\\': 6.95909, \\'longitude\\': 4.00382}, \\'name\\': \"Traveller\\'s Hotel\", \\'rating_count\\': 0, \\'temporary_status\\': \\'no_data\\'}, {\\'id\\': \\'503389453163832\\', \\'about\\': \\'Is the luxurious International business Hotel in Makassar city, South sulawesi Island from Core Hotels \\', \\'category_list\\': [{\\'id\\': \\'164243073639257\\', \\'name\\': \\'Hotel\\'}], \\'checkins\\': 24154, \\'cover\\': {\\'cover_id\\': \\'517459398423504\\', \\'offset_x\\': 50, \\'offset_y\\': 29, \\'source\\': \\'https://scontent.flux1-1.fna.fbcdn.net/v/t31.0-0/p480x480/12308127_517459398423504_2257327276484059438_o.jpg?_nc_cat=111&_nc_sid=dd9801&_nc_ohc=J92MDT_3PUEAX_jRngM&_nc_ht=scontent.flux1-1.fna&_nc_tp=6&oh=416caa266247159ef6f03192637ca202&oe=5F63D420\\', \\'id\\': \\'517459398423504\\'}, \\'description\\': \\'TRAVELLERS HOTEL PHINISI is an International business Hotel in Makassar, South Sulawesi, managed by Core Hotels, offering unique adventure and unbelievable experience at Customerâ\\x80\\x99s choice. The Hotel is facilitated with comfortable room, affordable price and irresistible facilities, while â\\x80\\x9cItâ\\x80\\x99s The Extra Thought That Makes All The Differenceâ\\x80\\x9d is our mission in serving the guests.\\', \\'engagement\\': {\\'count\\': 1116, \\'social_sentence\\': \\'1.1K people like this.\\'}, \\'link\\': \\'https://www.facebook.com/503389423163835\\', \\'location\\': {\\'city\\': \\'Makassar\\', \\'country\\': \\'Indonesia\\', \\'latitude\\': -5.1493716, \\'longitude\\': 119.41100233571, \\'street\\': \\'Jl. Lamadukelleng Buntu No 59 Kelurahan Kunjung Mae Kecamatan Mariso Makassar\\', \\'zip\\': \\'90125\\'}, \\'name\\': \\'Travellers Hotel Phinisi\\', \\'parking\\': {\\'lot\\': 1, \\'street\\': 1, \\'valet\\': 0}, \\'price_range\\': \\'$\\', \\'rating_count\\': 60, \\'temporary_status\\': \\'operating_as_usual\\', \\'website\\': \\'http://www.travellersphinisi.com\\'}, {\\'id\\': \\'1563818160508527\\', \\'category_list\\': [{\\'id\\': \\'2500\\', \\'name\\': \\'Local Business\\'}], \\'checkins\\': 12, \\'description\\': \\'ToT \"Beban atau Biaya\" Huppssss....\\', \\'engagement\\': {\\'count\\': 5, \\'social_sentence\\': \\'5 people like this.\\'}, \\'link\\': \\'https://www.facebook.com/1563818127175197\\', \\'location\\': {\\'city\\': \\'Jakarta\\', \\'country\\': \\'Indonesia\\', \\'latitude\\': -6.1468374652518, \\'longitude\\': 106.83168711713}, \\'name\\': \\'Travellers Hotel\\', \\'rating_count\\': 0}, {\\'id\\': \\'109650900485193\\', \\'about\\': \\'BdBooking is one of the largest online hotel and resort booking engines in Bangladesh. Sign up and book hotel, motel, resorts by BdBooking.com\\', \\'category_list\\': [{\\'id\\': \\'187686707929197\\', \\'name\\': \\'Hotel Resort\\'}], \\'checkins\\': 0, \\'cover\\': {\\'cover_id\\': \\'272698310847117\\', \\'offset_x\\': 50, \\'offset_y\\': 50, \\'source\\': \\'https://scontent.flux1-1.fna.fbcdn.net/v/t1.0-9/s720x720/106777925_272698317513783_8223466405062670790_o.jpg?_nc_cat=105&_nc_sid=dd9801&_nc_ohc=zXHbqn62PvsAX-boZdR&_nc_ht=scontent.flux1-1.fna&tp=-7&oh=84e4c2574507e87dcd5f902d024f87c7&oe=5F64E33E\\', \\'id\\': \\'272698310847117\\'}, \\'engagement\\': {\\'count\\': 167, \\'social_sentence\\': \\'167 people like this.\\'}, \\'link\\': \\'https://www.facebook.com/109650690485214\\', \\'location\\': {\\'city\\': \\'Gazipur\\', \\'country\\': \\'Bangladesh\\', \\'latitude\\': 23.99709, \\'longitude\\': 90.41771, \\'street\\': \\'gazipur\\'}, \\'name\\': \\'Travellers Hotels at Gazipur, Dhaka\\', \\'price_range\\': \\'$$\\', \\'rating_count\\': 0, \\'temporary_status\\': \\'operating_as_usual\\', \\'website\\': \\'https://www.bdbooking.com\\'}, {\\'id\\': \\'119943151355719\\', \\'category_list\\': [{\\'id\\': \\'152050108191372\\', \\'name\\': \\'Motel\\'}, {\\'id\\': \\'199734546726648\\', \\'name\\': \\'Beach Resort\\'}], \\'checkins\\': 4471, \\'cover\\': {\\'cover_id\\': \\'1731633530186665\\', \\'offset_x\\': 50, \\'offset_y\\': 52, \\'source\\': \\'https://scontent.flux1-1.fna.fbcdn.net/v/t1.0-9/p720x720/19225121_1731633530186665_2934204586991618016_n.jpg?_nc_cat=104&_nc_sid=dd9801&_nc_ohc=CCMYzpMgZ9QAX-ELGHo&_nc_ht=scontent.flux1-1.fna&_nc_tp=6&oh=5bcd2fed7c65acfa6c1d598c0db91688&oe=5F64D532\\', \\'id\\': \\'1731633530186665\\'}, \\'engagement\\': {\\'count\\': 3177, \\'social_sentence\\': \\'3.1K people like this.\\'}, \\'link\\': \\'https://www.facebook.com/119943141355720\\', \\'location\\': {\\'city\\': \\'North Wildwood\\', \\'country\\': \\'United States\\', \\'latitude\\': 39.00135, \\'longitude\\': -74.78961, \\'state\\': \\'NJ\\', \\'street\\': \\'401 Ocean Ave\\', \\'zip\\': \\'08260-5858\\'}, \\'name\\': \\'Northwind Motel\\', \\'parking\\': {\\'lot\\': 0, \\'street\\': 0, \\'valet\\': 0}, \\'price_range\\': \\'$$\\', \\'rating_count\\': 89, \\'temporary_status\\': \\'operating_as_usual\\', \\'website\\': \\'http://www.northwindmotel.net\\'}, {\\'id\\': \\'204802423351913\\', \\'category_list\\': [{\\'id\\': \\'2500\\', \\'name\\': \\'Local Business\\'}], \\'checkins\\': 89, \\'engagement\\': {\\'count\\': 21, \\'social_sentence\\': \\'21 people like this.\\'}, \\'link\\': \\'https://www.facebook.com/204802416685247\\', \\'location\\': {\\'city\\': \\'Daet\\', \\'country\\': \\'Philippines\\', \\'latitude\\': 14.13288339, \\'longitude\\': 122.9813607}, \\'name\\': \"Traveller\\'s Hotel\", \\'rating_count\\': 0, \\'temporary_status\\': \\'operating_as_usual\\'}, {\\'id\\': \\'354084627961194\\', \\'category_list\\': [{\\'id\\': \\'2500\\', \\'name\\': \\'Local Business\\'}], \\'checkins\\': 45, \\'engagement\\': {\\'count\\': 4, \\'social_sentence\\': \\'4 people like this.\\'}, \\'link\\': \\'https://www.facebook.com/354084614627862\\', \\'location\\': {\\'city\\': \\'Quezon City\\', \\'country\\': \\'Philippines\\', \\'latitude\\': 14.632198278613, \\'longitude\\': 121.06913993374}, \\'name\\': \\'Travellers Hotel\\', \\'parking\\': {\\'lot\\': 0, \\'street\\': 0, \\'valet\\': 0}, \\'rating_count\\': 0, \\'temporary_status\\': \\'operating_as_usual\\'}, {\\'id\\': \\'618865091636209\\', \\'category_list\\': [{\\'id\\': \\'164243073639257\\', \\'name\\': \\'Hotel\\'}], \\'checkins\\': 104, \\'engagement\\': {\\'count\\': 20, \\'social_sentence\\': \\'20 people like this.\\'}, \\'link\\': \\'https://www.facebook.com/618865078302877\\', \\'location\\': {\\'city\\': \\'Mamburao\\', \\'country\\': \\'Philippines\\', \\'latitude\\': 13.219656830482, \\'longitude\\': 120.60078351452, \\'street\\': \\'National Rd.\\', \\'zip\\': \\'5106\\'}, \\'name\\': \"Traveller\\'s Hotel And Restaurant in Misamis Occidental\", \\'price_range\\': \\'$$\\', \\'rating_count\\': 0, \\'temporary_status\\': \\'no_data\\'}, {\\'id\\': \\'1655255001447173\\', \\'category_list\\': [{\\'id\\': \\'164243073639257\\', \\'name\\': \\'Hotel\\'}], \\'checkins\\': 12, \\'engagement\\': {\\'count\\': 1, \\'social_sentence\\': \\'One person likes this.\\'}, \\'link\\': \\'https://www.facebook.com/1655254994780507\\', \\'location\\': {\\'city\\': \\'Mamburao\\', \\'country\\': \\'Philippines\\', \\'latitude\\': 13.21954, \\'longitude\\': 120.60083, \\'street\\': \\'Mindoro West Coastal Rd\\', \\'zip\\': \\'5106\\'}, \\'name\\': \\'Travellers Hotel\\', \\'rating_count\\': 0, \\'temporary_status\\': \\'no_data\\'}, {\\'id\\': \\'211817745830927\\', \\'category_list\\': [{\\'id\\': \\'164243073639257\\', \\'name\\': \\'Hotel\\'}, {\\'id\\': \\'181216025249367\\', \\'name\\': \\'Apartment & Condo Building\\'}], \\'checkins\\': 474, \\'engagement\\': {\\'count\\': 58, \\'social_sentence\\': \\'58 people like this.\\'}, \\'link\\': \\'https://www.facebook.com/211817729164262\\', \\'location\\': {\\'city\\': \\'Dubai\\', \\'country\\': \\'United Arab Emirates\\', \\'latitude\\': 25.1101619, \\'longitude\\': 55.2031486, \\'street\\': \\'Travellers Hotel Apartment, Al Barsha 1\\'}, \\'name\\': \\'Travellers Hotel Apartment\\', \\'price_range\\': \\'$$$\\', \\'rating_count\\': 0, \\'temporary_status\\': \\'no_data\\'}, {\\'id\\': \\'232978153466057\\', \\'category_list\\': [{\\'id\\': \\'2500\\', \\'name\\': \\'Local Business\\'}], \\'checkins\\': 1, \\'engagement\\': {\\'count\\': 0, \\'social_sentence\\': \\'Be the first of your friends to like this.\\'}, \\'link\\': \\'https://www.facebook.com/232978136799392\\', \\'location\\': {\\'city\\': \\'Bangkok\\', \\'country\\': \\'Thailand\\', \\'latitude\\': 13.7970924, \\'longitude\\': 100.574243078}, \\'name\\': \\'Travellers Hotel\\', \\'parking\\': {\\'lot\\': 0, \\'street\\': 0, \\'valet\\': 0}, \\'rating_count\\': 0, \\'temporary_status\\': \\'operating_as_usual\\'}, {\\'id\\': \\'236588773114054\\', \\'category_list\\': [{\\'id\\': \\'2500\\', \\'name\\': \\'Local Business\\'}], \\'checkins\\': 2, \\'engagement\\': {\\'count\\': 0, \\'social_sentence\\': \\'Be the first of your friends to like this.\\'}, \\'link\\': \\'https://www.facebook.com/236588746447390\\', \\'location\\': {\\'city\\': \\'Mombasa\\', \\'country\\': \\'Kenya\\', \\'latitude\\': -3.99341237, \\'longitude\\': 39.735035}, \\'name\\': \\'Travellers Hotel\\', \\'parking\\': {\\'lot\\': 0, \\'street\\': 0, \\'valet\\': 0}, \\'rating_count\\': 0, \\'temporary_status\\': \\'operating_as_usual\\'}, {\\'id\\': \\'819064254831310\\', \\'about\\': \\'Fone 067 99978-0911 nando\\\\n\\\\nTel 67 34419319\\\\nCompra \\\\nVenda\\\\nTroca\\\\nConsignaÃ§Ã£o\\\\n\\\\nDeus acima de tudo!!! \\', \\'category_list\\': [{\\'id\\': \\'131962450204676\\', \\'name\\': \\'Car Dealership\\'}], \\'checkins\\': 12671, \\'cover\\': {\\'cover_id\\': \\'3925266410877730\\', \\'offset_x\\': 50, \\'offset_y\\': 0, \\'source\\': \\'https://scontent.flux1-1.fna.fbcdn.net/v/t1.0-9/s720x720/101743648_3925266414211063_1371622760459315195_o.jpg?_nc_cat=101&_nc_sid=dd9801&_nc_ohc=958LKbz-WA4AX8biyPg&_nc_ht=scontent.flux1-1.fna&tp=-7&oh=e99155a68a5c5fdb6c6e92cd0f37b83b&oe=5F62E1BB\\', \\'id\\': \\'3925266410877730\\'}, \\'engagement\\': {\\'count\\': 1927, \\'social_sentence\\': \\'1.9K people like this.\\'}, \\'link\\': \\'https://www.facebook.com/819064228164646\\', \\'location\\': {\\'city\\': \\'Nova Andradina\\', \\'country\\': \\'Brazil\\', \\'latitude\\': -22.24602884, \\'longitude\\': -53.346317750333, \\'state\\': \\'MS\\', \\'street\\': \\'av AntÃ³nio Joaquim de Moura Andrade n991\\', \\'zip\\': \\'79750000\\'}, \\'name\\': \\'MultiCar VeÃ\\xadculos\\', \\'parking\\': {\\'lot\\': 1, \\'street\\': 1, \\'valet\\': 0}, \\'price_range\\': \\'$$$\\', \\'rating_count\\': 4, \\'temporary_status\\': \\'operating_as_usual\\', \\'website\\': \\'www.multcarveiculos.net.br\\'}, {\\'id\\': \\'135241089835779\\', \\'category_list\\': [{\\'id\\': \\'164243073639257\\', \\'name\\': \\'Hotel\\'}, {\\'id\\': \\'152050108191372\\', \\'name\\': \\'Motel\\'}], \\'checkins\\': 242, \\'engagement\\': {\\'count\\': 7, \\'social_sentence\\': \\'7 people like this.\\'}, \\'link\\': \\'https://www.facebook.com/135241083169113\\', \\'location\\': {\\'city\\': \\'Parry Sound\\', \\'country\\': \\'Canada\\', \\'latitude\\': 45.34543, \\'longitude\\': -80.03618, \\'state\\': \\'ON\\', \\'street\\': \\'36 Mary St\\', \\'zip\\': \\'P2A 1E4\\'}, \\'name\\': \"Traveller\\'s Motor Hotel\", \\'parking\\': {\\'lot\\': 0, \\'street\\': 0, \\'valet\\': 0}, \\'price_range\\': \\'$\\', \\'rating_count\\': 2, \\'temporary_status\\': \\'no_data\\', \\'website\\': \\'http://travellershotel.org/\\'}, {\\'id\\': \\'428785617237469\\', \\'about\\': \\'Urban Travellers Hotel in Pasay City, Philippines offers cozy  guestrooms equipped with modern amenities. \\', \\'category_list\\': [{\\'id\\': \\'164243073639257\\', \\'name\\': \\'Hotel\\'}], \\'checkins\\': 25545, \\'cover\\': {\\'cover_id\\': \\'2039392026176812\\', \\'offset_x\\': 50, \\'offset_y\\': 52, \\'source\\': \\'https://scontent.flux1-1.fna.fbcdn.net/v/t1.0-0/p235x350/53026463_2039392032843478_3960587633691721728_o.jpg?_nc_cat=101&_nc_sid=dd9801&_nc_ohc=ZzdmVvtao7wAX8GHpJn&_nc_ht=scontent.flux1-1.fna&_nc_tp=6&oh=abe0781866089769122e8d013e1c673f&oe=5F636864\\', \\'id\\': \\'2039392026176812\\'}, \\'description\\': \\'Ideally located in the heart of the city, our hotel offers affordable accommodation for business and leisure travelers. Guests can enjoy staying in our uniquely designed rooms, equipped with a phone, Internet access, and private toilet and bath. They can also enjoy the fact that they are near business districts, commercial centers, and historical sites while here. Indeed, guests will say our hotel is the perfect accommodation choice in the metropolis. \\\\n\\\\n\\\\n3-5 minutes walk to MRT and LRT EDSA Stations\\\\n2 minute walk to Metropoint Mall\\\\n5-10 minute walk to Major City and Provincial Terminals (Victory Liner, Partas, Genesis, Five Star, Philtranco\\\\n10-15 minute drive to DFA, OWWA, Senate\\\\n10-15 minute drive to SM Mall of Asia, SMX World Trade Center, PICC, Star City, \\\\nAccessible to Public Transportation (Bus, Taxi, Jeeps)\\\\n15-20 minute drive to the Airport\\', \\'engagement\\': {\\'count\\': 8042, \\'social_sentence\\': \\'8K people like this.\\'}, \\'link\\': \\'https://www.facebook.com/101387896643911\\', \\'location\\': {\\'city\\': \\'Pasay City\\', \\'country\\': \\'Philippines\\', \\'latitude\\': 14.538182256522, \\'longitude\\': 121.00125934792, \\'street\\': \\'2867 Zamora Street\\', \\'zip\\': \\'1300\\'}, \\'name\\': \\'Urban Travellers Hotel\\', \\'parking\\': {\\'lot\\': 1, \\'street\\': 1, \\'valet\\': 0}, \\'price_range\\': \\'$$\\', \\'rating_count\\': 125, \\'temporary_status\\': \\'operating_as_usual\\', \\'website\\': \\'https://www.urbantravellershotel.com\\'}], \\'paging\\': {\\'cursors\\': {\\'after\\': \\'MjQZD\\'}, \\'next\\': \\'https://graph.facebook.com/v7.0/search?access_token=EAAQpDd2jJNIBAP3b8wvST5izVG482aTnBpIKwuzpwjHBrq1CZAADI3aeZCUt4kKYR02TZCgZBQZB1thmuW9FQ5XYyZB0a0F6osddFTDTqAKCuIOxoLZCokGeUBXU9omfdozgXIDDMfoZC754nSpIsZATIztanTBdBHMzsztqmSCv7qDF14QLhNuP0pExzxwlPoQh9vDWgIiMZBOZCPc8x0kTl5O&fields=id%2C+about%2C+category_list%2C+checkins%2C+cover%2C+description%2C+differently_open_offerings%2C+engagement%2C+link%2C+location%2C+name%2C+parking%2C+payment_options%2C+price_range%2C+rating_count%2C+restaurant_services%2C+restaurant_specialties%2C+temporary_status%2C+website&q=Northwind+Travellers%27+Hotel&type=place&limit=25&after=MjQZD\\'}}'"
            ]
          },
          "metadata": {
            "tags": []
          },
          "execution_count": 25
        }
      ]
    },
    {
      "cell_type": "code",
      "metadata": {
        "id": "SiVm4jZa_Xjs",
        "colab": {
          "base_uri": "https://localhost:8080/",
          "height": 320
        },
        "outputId": "5b01edb3-a69b-4600-8ba8-c7cc06fa414e"
      },
      "source": [
        "pd_trial = pd.read_json(trial_data)\n",
        "pd_trial"
      ],
      "execution_count": null,
      "outputs": [
        {
          "output_type": "error",
          "ename": "ValueError",
          "evalue": "ignored",
          "traceback": [
            "\u001b[0;31m---------------------------------------------------------------------------\u001b[0m",
            "\u001b[0;31mValueError\u001b[0m                                Traceback (most recent call last)",
            "\u001b[0;32m<ipython-input-26-f82758fc1f4f>\u001b[0m in \u001b[0;36m<module>\u001b[0;34m()\u001b[0m\n\u001b[0;32m----> 1\u001b[0;31m \u001b[0mpd_trial\u001b[0m \u001b[0;34m=\u001b[0m \u001b[0mpd\u001b[0m\u001b[0;34m.\u001b[0m\u001b[0mread_json\u001b[0m\u001b[0;34m(\u001b[0m\u001b[0mtrial_data\u001b[0m\u001b[0;34m)\u001b[0m\u001b[0;34m\u001b[0m\u001b[0;34m\u001b[0m\u001b[0m\n\u001b[0m\u001b[1;32m      2\u001b[0m \u001b[0mpd_trial\u001b[0m\u001b[0;34m\u001b[0m\u001b[0;34m\u001b[0m\u001b[0m\n",
            "\u001b[0;32m/usr/local/lib/python3.6/dist-packages/pandas/util/_decorators.py\u001b[0m in \u001b[0;36mwrapper\u001b[0;34m(*args, **kwargs)\u001b[0m\n\u001b[1;32m    212\u001b[0m                 \u001b[0;32melse\u001b[0m\u001b[0;34m:\u001b[0m\u001b[0;34m\u001b[0m\u001b[0;34m\u001b[0m\u001b[0m\n\u001b[1;32m    213\u001b[0m                     \u001b[0mkwargs\u001b[0m\u001b[0;34m[\u001b[0m\u001b[0mnew_arg_name\u001b[0m\u001b[0;34m]\u001b[0m \u001b[0;34m=\u001b[0m \u001b[0mnew_arg_value\u001b[0m\u001b[0;34m\u001b[0m\u001b[0;34m\u001b[0m\u001b[0m\n\u001b[0;32m--> 214\u001b[0;31m             \u001b[0;32mreturn\u001b[0m \u001b[0mfunc\u001b[0m\u001b[0;34m(\u001b[0m\u001b[0;34m*\u001b[0m\u001b[0margs\u001b[0m\u001b[0;34m,\u001b[0m \u001b[0;34m**\u001b[0m\u001b[0mkwargs\u001b[0m\u001b[0;34m)\u001b[0m\u001b[0;34m\u001b[0m\u001b[0;34m\u001b[0m\u001b[0m\n\u001b[0m\u001b[1;32m    215\u001b[0m \u001b[0;34m\u001b[0m\u001b[0m\n\u001b[1;32m    216\u001b[0m         \u001b[0;32mreturn\u001b[0m \u001b[0mcast\u001b[0m\u001b[0;34m(\u001b[0m\u001b[0mF\u001b[0m\u001b[0;34m,\u001b[0m \u001b[0mwrapper\u001b[0m\u001b[0;34m)\u001b[0m\u001b[0;34m\u001b[0m\u001b[0;34m\u001b[0m\u001b[0m\n",
            "\u001b[0;32m/usr/local/lib/python3.6/dist-packages/pandas/io/json/_json.py\u001b[0m in \u001b[0;36mread_json\u001b[0;34m(path_or_buf, orient, typ, dtype, convert_axes, convert_dates, keep_default_dates, numpy, precise_float, date_unit, encoding, lines, chunksize, compression)\u001b[0m\n\u001b[1;32m    606\u001b[0m         \u001b[0;32mreturn\u001b[0m \u001b[0mjson_reader\u001b[0m\u001b[0;34m\u001b[0m\u001b[0;34m\u001b[0m\u001b[0m\n\u001b[1;32m    607\u001b[0m \u001b[0;34m\u001b[0m\u001b[0m\n\u001b[0;32m--> 608\u001b[0;31m     \u001b[0mresult\u001b[0m \u001b[0;34m=\u001b[0m \u001b[0mjson_reader\u001b[0m\u001b[0;34m.\u001b[0m\u001b[0mread\u001b[0m\u001b[0;34m(\u001b[0m\u001b[0;34m)\u001b[0m\u001b[0;34m\u001b[0m\u001b[0;34m\u001b[0m\u001b[0m\n\u001b[0m\u001b[1;32m    609\u001b[0m     \u001b[0;32mif\u001b[0m \u001b[0mshould_close\u001b[0m\u001b[0;34m:\u001b[0m\u001b[0;34m\u001b[0m\u001b[0;34m\u001b[0m\u001b[0m\n\u001b[1;32m    610\u001b[0m         \u001b[0mfilepath_or_buffer\u001b[0m\u001b[0;34m.\u001b[0m\u001b[0mclose\u001b[0m\u001b[0;34m(\u001b[0m\u001b[0;34m)\u001b[0m\u001b[0;34m\u001b[0m\u001b[0;34m\u001b[0m\u001b[0m\n",
            "\u001b[0;32m/usr/local/lib/python3.6/dist-packages/pandas/io/json/_json.py\u001b[0m in \u001b[0;36mread\u001b[0;34m(self)\u001b[0m\n\u001b[1;32m    729\u001b[0m             \u001b[0mobj\u001b[0m \u001b[0;34m=\u001b[0m \u001b[0mself\u001b[0m\u001b[0;34m.\u001b[0m\u001b[0m_get_object_parser\u001b[0m\u001b[0;34m(\u001b[0m\u001b[0mself\u001b[0m\u001b[0;34m.\u001b[0m\u001b[0m_combine_lines\u001b[0m\u001b[0;34m(\u001b[0m\u001b[0mdata\u001b[0m\u001b[0;34m.\u001b[0m\u001b[0msplit\u001b[0m\u001b[0;34m(\u001b[0m\u001b[0;34m\"\\n\"\u001b[0m\u001b[0;34m)\u001b[0m\u001b[0;34m)\u001b[0m\u001b[0;34m)\u001b[0m\u001b[0;34m\u001b[0m\u001b[0;34m\u001b[0m\u001b[0m\n\u001b[1;32m    730\u001b[0m         \u001b[0;32melse\u001b[0m\u001b[0;34m:\u001b[0m\u001b[0;34m\u001b[0m\u001b[0;34m\u001b[0m\u001b[0m\n\u001b[0;32m--> 731\u001b[0;31m             \u001b[0mobj\u001b[0m \u001b[0;34m=\u001b[0m \u001b[0mself\u001b[0m\u001b[0;34m.\u001b[0m\u001b[0m_get_object_parser\u001b[0m\u001b[0;34m(\u001b[0m\u001b[0mself\u001b[0m\u001b[0;34m.\u001b[0m\u001b[0mdata\u001b[0m\u001b[0;34m)\u001b[0m\u001b[0;34m\u001b[0m\u001b[0;34m\u001b[0m\u001b[0m\n\u001b[0m\u001b[1;32m    732\u001b[0m         \u001b[0mself\u001b[0m\u001b[0;34m.\u001b[0m\u001b[0mclose\u001b[0m\u001b[0;34m(\u001b[0m\u001b[0;34m)\u001b[0m\u001b[0;34m\u001b[0m\u001b[0;34m\u001b[0m\u001b[0m\n\u001b[1;32m    733\u001b[0m         \u001b[0;32mreturn\u001b[0m \u001b[0mobj\u001b[0m\u001b[0;34m\u001b[0m\u001b[0;34m\u001b[0m\u001b[0m\n",
            "\u001b[0;32m/usr/local/lib/python3.6/dist-packages/pandas/io/json/_json.py\u001b[0m in \u001b[0;36m_get_object_parser\u001b[0;34m(self, json)\u001b[0m\n\u001b[1;32m    751\u001b[0m         \u001b[0mobj\u001b[0m \u001b[0;34m=\u001b[0m \u001b[0;32mNone\u001b[0m\u001b[0;34m\u001b[0m\u001b[0;34m\u001b[0m\u001b[0m\n\u001b[1;32m    752\u001b[0m         \u001b[0;32mif\u001b[0m \u001b[0mtyp\u001b[0m \u001b[0;34m==\u001b[0m \u001b[0;34m\"frame\"\u001b[0m\u001b[0;34m:\u001b[0m\u001b[0;34m\u001b[0m\u001b[0;34m\u001b[0m\u001b[0m\n\u001b[0;32m--> 753\u001b[0;31m             \u001b[0mobj\u001b[0m \u001b[0;34m=\u001b[0m \u001b[0mFrameParser\u001b[0m\u001b[0;34m(\u001b[0m\u001b[0mjson\u001b[0m\u001b[0;34m,\u001b[0m \u001b[0;34m**\u001b[0m\u001b[0mkwargs\u001b[0m\u001b[0;34m)\u001b[0m\u001b[0;34m.\u001b[0m\u001b[0mparse\u001b[0m\u001b[0;34m(\u001b[0m\u001b[0;34m)\u001b[0m\u001b[0;34m\u001b[0m\u001b[0;34m\u001b[0m\u001b[0m\n\u001b[0m\u001b[1;32m    754\u001b[0m \u001b[0;34m\u001b[0m\u001b[0m\n\u001b[1;32m    755\u001b[0m         \u001b[0;32mif\u001b[0m \u001b[0mtyp\u001b[0m \u001b[0;34m==\u001b[0m \u001b[0;34m\"series\"\u001b[0m \u001b[0;32mor\u001b[0m \u001b[0mobj\u001b[0m \u001b[0;32mis\u001b[0m \u001b[0;32mNone\u001b[0m\u001b[0;34m:\u001b[0m\u001b[0;34m\u001b[0m\u001b[0;34m\u001b[0m\u001b[0m\n",
            "\u001b[0;32m/usr/local/lib/python3.6/dist-packages/pandas/io/json/_json.py\u001b[0m in \u001b[0;36mparse\u001b[0;34m(self)\u001b[0m\n\u001b[1;32m    855\u001b[0m \u001b[0;34m\u001b[0m\u001b[0m\n\u001b[1;32m    856\u001b[0m         \u001b[0;32melse\u001b[0m\u001b[0;34m:\u001b[0m\u001b[0;34m\u001b[0m\u001b[0;34m\u001b[0m\u001b[0m\n\u001b[0;32m--> 857\u001b[0;31m             \u001b[0mself\u001b[0m\u001b[0;34m.\u001b[0m\u001b[0m_parse_no_numpy\u001b[0m\u001b[0;34m(\u001b[0m\u001b[0;34m)\u001b[0m\u001b[0;34m\u001b[0m\u001b[0;34m\u001b[0m\u001b[0m\n\u001b[0m\u001b[1;32m    858\u001b[0m \u001b[0;34m\u001b[0m\u001b[0m\n\u001b[1;32m    859\u001b[0m         \u001b[0;32mif\u001b[0m \u001b[0mself\u001b[0m\u001b[0;34m.\u001b[0m\u001b[0mobj\u001b[0m \u001b[0;32mis\u001b[0m \u001b[0;32mNone\u001b[0m\u001b[0;34m:\u001b[0m\u001b[0;34m\u001b[0m\u001b[0;34m\u001b[0m\u001b[0m\n",
            "\u001b[0;32m/usr/local/lib/python3.6/dist-packages/pandas/io/json/_json.py\u001b[0m in \u001b[0;36m_parse_no_numpy\u001b[0;34m(self)\u001b[0m\n\u001b[1;32m   1087\u001b[0m         \u001b[0;32mif\u001b[0m \u001b[0morient\u001b[0m \u001b[0;34m==\u001b[0m \u001b[0;34m\"columns\"\u001b[0m\u001b[0;34m:\u001b[0m\u001b[0;34m\u001b[0m\u001b[0;34m\u001b[0m\u001b[0m\n\u001b[1;32m   1088\u001b[0m             self.obj = DataFrame(\n\u001b[0;32m-> 1089\u001b[0;31m                 \u001b[0mloads\u001b[0m\u001b[0;34m(\u001b[0m\u001b[0mjson\u001b[0m\u001b[0;34m,\u001b[0m \u001b[0mprecise_float\u001b[0m\u001b[0;34m=\u001b[0m\u001b[0mself\u001b[0m\u001b[0;34m.\u001b[0m\u001b[0mprecise_float\u001b[0m\u001b[0;34m)\u001b[0m\u001b[0;34m,\u001b[0m \u001b[0mdtype\u001b[0m\u001b[0;34m=\u001b[0m\u001b[0;32mNone\u001b[0m\u001b[0;34m\u001b[0m\u001b[0;34m\u001b[0m\u001b[0m\n\u001b[0m\u001b[1;32m   1090\u001b[0m             )\n\u001b[1;32m   1091\u001b[0m         \u001b[0;32melif\u001b[0m \u001b[0morient\u001b[0m \u001b[0;34m==\u001b[0m \u001b[0;34m\"split\"\u001b[0m\u001b[0;34m:\u001b[0m\u001b[0;34m\u001b[0m\u001b[0;34m\u001b[0m\u001b[0m\n",
            "\u001b[0;31mValueError\u001b[0m: Expected object or value"
          ]
        }
      ]
    },
    {
      "cell_type": "markdown",
      "metadata": {
        "id": "KHAcOCjFAUUg"
      },
      "source": [
        "### replace with double quotes"
      ]
    },
    {
      "cell_type": "code",
      "metadata": {
        "id": "kSqu7TocAWUf"
      },
      "source": [
        " trial_data = trial_data.replace(\"'\", '\"')"
      ],
      "execution_count": null,
      "outputs": []
    },
    {
      "cell_type": "code",
      "metadata": {
        "id": "Ktagy4N5-HgQ"
      },
      "source": [
        "# # replace with double quotes\n",
        "# for r in ((\"'\", '\"'), (\"\\\\\", \"\")):\n",
        "#     trial_data = trial_data.replace(*r)\n",
        "\n",
        "# # trial_data = trial_data.split(\".\")[0]"
      ],
      "execution_count": null,
      "outputs": []
    },
    {
      "cell_type": "code",
      "metadata": {
        "id": "hn1Bofh8_fOt",
        "colab": {
          "base_uri": "https://localhost:8080/",
          "height": 337
        },
        "outputId": "40797acf-558e-4907-d8df-f719a567a80f"
      },
      "source": [
        "pd_trial = pd.read_json(trial_data)\n",
        "pd_trial"
      ],
      "execution_count": null,
      "outputs": [
        {
          "output_type": "error",
          "ename": "ValueError",
          "evalue": "ignored",
          "traceback": [
            "\u001b[0;31m---------------------------------------------------------------------------\u001b[0m",
            "\u001b[0;31mValueError\u001b[0m                                Traceback (most recent call last)",
            "\u001b[0;32m<ipython-input-23-f82758fc1f4f>\u001b[0m in \u001b[0;36m<module>\u001b[0;34m()\u001b[0m\n\u001b[0;32m----> 1\u001b[0;31m \u001b[0mpd_trial\u001b[0m \u001b[0;34m=\u001b[0m \u001b[0mpd\u001b[0m\u001b[0;34m.\u001b[0m\u001b[0mread_json\u001b[0m\u001b[0;34m(\u001b[0m\u001b[0mtrial_data\u001b[0m\u001b[0;34m)\u001b[0m\u001b[0;34m\u001b[0m\u001b[0;34m\u001b[0m\u001b[0m\n\u001b[0m\u001b[1;32m      2\u001b[0m \u001b[0mpd_trial\u001b[0m\u001b[0;34m\u001b[0m\u001b[0;34m\u001b[0m\u001b[0m\n",
            "\u001b[0;32m/usr/local/lib/python3.6/dist-packages/pandas/util/_decorators.py\u001b[0m in \u001b[0;36mwrapper\u001b[0;34m(*args, **kwargs)\u001b[0m\n\u001b[1;32m    212\u001b[0m                 \u001b[0;32melse\u001b[0m\u001b[0;34m:\u001b[0m\u001b[0;34m\u001b[0m\u001b[0;34m\u001b[0m\u001b[0m\n\u001b[1;32m    213\u001b[0m                     \u001b[0mkwargs\u001b[0m\u001b[0;34m[\u001b[0m\u001b[0mnew_arg_name\u001b[0m\u001b[0;34m]\u001b[0m \u001b[0;34m=\u001b[0m \u001b[0mnew_arg_value\u001b[0m\u001b[0;34m\u001b[0m\u001b[0;34m\u001b[0m\u001b[0m\n\u001b[0;32m--> 214\u001b[0;31m             \u001b[0;32mreturn\u001b[0m \u001b[0mfunc\u001b[0m\u001b[0;34m(\u001b[0m\u001b[0;34m*\u001b[0m\u001b[0margs\u001b[0m\u001b[0;34m,\u001b[0m \u001b[0;34m**\u001b[0m\u001b[0mkwargs\u001b[0m\u001b[0;34m)\u001b[0m\u001b[0;34m\u001b[0m\u001b[0;34m\u001b[0m\u001b[0m\n\u001b[0m\u001b[1;32m    215\u001b[0m \u001b[0;34m\u001b[0m\u001b[0m\n\u001b[1;32m    216\u001b[0m         \u001b[0;32mreturn\u001b[0m \u001b[0mcast\u001b[0m\u001b[0;34m(\u001b[0m\u001b[0mF\u001b[0m\u001b[0;34m,\u001b[0m \u001b[0mwrapper\u001b[0m\u001b[0;34m)\u001b[0m\u001b[0;34m\u001b[0m\u001b[0;34m\u001b[0m\u001b[0m\n",
            "\u001b[0;32m/usr/local/lib/python3.6/dist-packages/pandas/io/json/_json.py\u001b[0m in \u001b[0;36mread_json\u001b[0;34m(path_or_buf, orient, typ, dtype, convert_axes, convert_dates, keep_default_dates, numpy, precise_float, date_unit, encoding, lines, chunksize, compression)\u001b[0m\n\u001b[1;32m    606\u001b[0m         \u001b[0;32mreturn\u001b[0m \u001b[0mjson_reader\u001b[0m\u001b[0;34m\u001b[0m\u001b[0;34m\u001b[0m\u001b[0m\n\u001b[1;32m    607\u001b[0m \u001b[0;34m\u001b[0m\u001b[0m\n\u001b[0;32m--> 608\u001b[0;31m     \u001b[0mresult\u001b[0m \u001b[0;34m=\u001b[0m \u001b[0mjson_reader\u001b[0m\u001b[0;34m.\u001b[0m\u001b[0mread\u001b[0m\u001b[0;34m(\u001b[0m\u001b[0;34m)\u001b[0m\u001b[0;34m\u001b[0m\u001b[0;34m\u001b[0m\u001b[0m\n\u001b[0m\u001b[1;32m    609\u001b[0m     \u001b[0;32mif\u001b[0m \u001b[0mshould_close\u001b[0m\u001b[0;34m:\u001b[0m\u001b[0;34m\u001b[0m\u001b[0;34m\u001b[0m\u001b[0m\n\u001b[1;32m    610\u001b[0m         \u001b[0mfilepath_or_buffer\u001b[0m\u001b[0;34m.\u001b[0m\u001b[0mclose\u001b[0m\u001b[0;34m(\u001b[0m\u001b[0;34m)\u001b[0m\u001b[0;34m\u001b[0m\u001b[0;34m\u001b[0m\u001b[0m\n",
            "\u001b[0;32m/usr/local/lib/python3.6/dist-packages/pandas/io/json/_json.py\u001b[0m in \u001b[0;36mread\u001b[0;34m(self)\u001b[0m\n\u001b[1;32m    729\u001b[0m             \u001b[0mobj\u001b[0m \u001b[0;34m=\u001b[0m \u001b[0mself\u001b[0m\u001b[0;34m.\u001b[0m\u001b[0m_get_object_parser\u001b[0m\u001b[0;34m(\u001b[0m\u001b[0mself\u001b[0m\u001b[0;34m.\u001b[0m\u001b[0m_combine_lines\u001b[0m\u001b[0;34m(\u001b[0m\u001b[0mdata\u001b[0m\u001b[0;34m.\u001b[0m\u001b[0msplit\u001b[0m\u001b[0;34m(\u001b[0m\u001b[0;34m\"\\n\"\u001b[0m\u001b[0;34m)\u001b[0m\u001b[0;34m)\u001b[0m\u001b[0;34m)\u001b[0m\u001b[0;34m\u001b[0m\u001b[0;34m\u001b[0m\u001b[0m\n\u001b[1;32m    730\u001b[0m         \u001b[0;32melse\u001b[0m\u001b[0;34m:\u001b[0m\u001b[0;34m\u001b[0m\u001b[0;34m\u001b[0m\u001b[0m\n\u001b[0;32m--> 731\u001b[0;31m             \u001b[0mobj\u001b[0m \u001b[0;34m=\u001b[0m \u001b[0mself\u001b[0m\u001b[0;34m.\u001b[0m\u001b[0m_get_object_parser\u001b[0m\u001b[0;34m(\u001b[0m\u001b[0mself\u001b[0m\u001b[0;34m.\u001b[0m\u001b[0mdata\u001b[0m\u001b[0;34m)\u001b[0m\u001b[0;34m\u001b[0m\u001b[0;34m\u001b[0m\u001b[0m\n\u001b[0m\u001b[1;32m    732\u001b[0m         \u001b[0mself\u001b[0m\u001b[0;34m.\u001b[0m\u001b[0mclose\u001b[0m\u001b[0;34m(\u001b[0m\u001b[0;34m)\u001b[0m\u001b[0;34m\u001b[0m\u001b[0;34m\u001b[0m\u001b[0m\n\u001b[1;32m    733\u001b[0m         \u001b[0;32mreturn\u001b[0m \u001b[0mobj\u001b[0m\u001b[0;34m\u001b[0m\u001b[0;34m\u001b[0m\u001b[0m\n",
            "\u001b[0;32m/usr/local/lib/python3.6/dist-packages/pandas/io/json/_json.py\u001b[0m in \u001b[0;36m_get_object_parser\u001b[0;34m(self, json)\u001b[0m\n\u001b[1;32m    751\u001b[0m         \u001b[0mobj\u001b[0m \u001b[0;34m=\u001b[0m \u001b[0;32mNone\u001b[0m\u001b[0;34m\u001b[0m\u001b[0;34m\u001b[0m\u001b[0m\n\u001b[1;32m    752\u001b[0m         \u001b[0;32mif\u001b[0m \u001b[0mtyp\u001b[0m \u001b[0;34m==\u001b[0m \u001b[0;34m\"frame\"\u001b[0m\u001b[0;34m:\u001b[0m\u001b[0;34m\u001b[0m\u001b[0;34m\u001b[0m\u001b[0m\n\u001b[0;32m--> 753\u001b[0;31m             \u001b[0mobj\u001b[0m \u001b[0;34m=\u001b[0m \u001b[0mFrameParser\u001b[0m\u001b[0;34m(\u001b[0m\u001b[0mjson\u001b[0m\u001b[0;34m,\u001b[0m \u001b[0;34m**\u001b[0m\u001b[0mkwargs\u001b[0m\u001b[0;34m)\u001b[0m\u001b[0;34m.\u001b[0m\u001b[0mparse\u001b[0m\u001b[0;34m(\u001b[0m\u001b[0;34m)\u001b[0m\u001b[0;34m\u001b[0m\u001b[0;34m\u001b[0m\u001b[0m\n\u001b[0m\u001b[1;32m    754\u001b[0m \u001b[0;34m\u001b[0m\u001b[0m\n\u001b[1;32m    755\u001b[0m         \u001b[0;32mif\u001b[0m \u001b[0mtyp\u001b[0m \u001b[0;34m==\u001b[0m \u001b[0;34m\"series\"\u001b[0m \u001b[0;32mor\u001b[0m \u001b[0mobj\u001b[0m \u001b[0;32mis\u001b[0m \u001b[0;32mNone\u001b[0m\u001b[0;34m:\u001b[0m\u001b[0;34m\u001b[0m\u001b[0;34m\u001b[0m\u001b[0m\n",
            "\u001b[0;32m/usr/local/lib/python3.6/dist-packages/pandas/io/json/_json.py\u001b[0m in \u001b[0;36mparse\u001b[0;34m(self)\u001b[0m\n\u001b[1;32m    855\u001b[0m \u001b[0;34m\u001b[0m\u001b[0m\n\u001b[1;32m    856\u001b[0m         \u001b[0;32melse\u001b[0m\u001b[0;34m:\u001b[0m\u001b[0;34m\u001b[0m\u001b[0;34m\u001b[0m\u001b[0m\n\u001b[0;32m--> 857\u001b[0;31m             \u001b[0mself\u001b[0m\u001b[0;34m.\u001b[0m\u001b[0m_parse_no_numpy\u001b[0m\u001b[0;34m(\u001b[0m\u001b[0;34m)\u001b[0m\u001b[0;34m\u001b[0m\u001b[0;34m\u001b[0m\u001b[0m\n\u001b[0m\u001b[1;32m    858\u001b[0m \u001b[0;34m\u001b[0m\u001b[0m\n\u001b[1;32m    859\u001b[0m         \u001b[0;32mif\u001b[0m \u001b[0mself\u001b[0m\u001b[0;34m.\u001b[0m\u001b[0mobj\u001b[0m \u001b[0;32mis\u001b[0m \u001b[0;32mNone\u001b[0m\u001b[0;34m:\u001b[0m\u001b[0;34m\u001b[0m\u001b[0;34m\u001b[0m\u001b[0m\n",
            "\u001b[0;32m/usr/local/lib/python3.6/dist-packages/pandas/io/json/_json.py\u001b[0m in \u001b[0;36m_parse_no_numpy\u001b[0;34m(self)\u001b[0m\n\u001b[1;32m   1087\u001b[0m         \u001b[0;32mif\u001b[0m \u001b[0morient\u001b[0m \u001b[0;34m==\u001b[0m \u001b[0;34m\"columns\"\u001b[0m\u001b[0;34m:\u001b[0m\u001b[0;34m\u001b[0m\u001b[0;34m\u001b[0m\u001b[0m\n\u001b[1;32m   1088\u001b[0m             self.obj = DataFrame(\n\u001b[0;32m-> 1089\u001b[0;31m                 \u001b[0mloads\u001b[0m\u001b[0;34m(\u001b[0m\u001b[0mjson\u001b[0m\u001b[0;34m,\u001b[0m \u001b[0mprecise_float\u001b[0m\u001b[0;34m=\u001b[0m\u001b[0mself\u001b[0m\u001b[0;34m.\u001b[0m\u001b[0mprecise_float\u001b[0m\u001b[0;34m)\u001b[0m\u001b[0;34m,\u001b[0m \u001b[0mdtype\u001b[0m\u001b[0;34m=\u001b[0m\u001b[0;32mNone\u001b[0m\u001b[0;34m\u001b[0m\u001b[0;34m\u001b[0m\u001b[0m\n\u001b[0m\u001b[1;32m   1090\u001b[0m             )\n\u001b[1;32m   1091\u001b[0m         \u001b[0;32melif\u001b[0m \u001b[0morient\u001b[0m \u001b[0;34m==\u001b[0m \u001b[0;34m\"split\"\u001b[0m\u001b[0;34m:\u001b[0m\u001b[0;34m\u001b[0m\u001b[0;34m\u001b[0m\u001b[0m\n",
            "\u001b[0;31mValueError\u001b[0m: Unexpected character found when decoding object value"
          ]
        }
      ]
    },
    {
      "cell_type": "code",
      "metadata": {
        "id": "wBnh7mJ2-e0T",
        "colab": {
          "base_uri": "https://localhost:8080/",
          "height": 34
        },
        "outputId": "3a7a76b9-b695-48b9-968c-1f952d439ef3"
      },
      "source": [
        "# type(trial_data)\n",
        "trial_data"
      ],
      "execution_count": null,
      "outputs": [
        {
          "output_type": "execute_result",
          "data": {
            "text/plain": [
              "str"
            ]
          },
          "metadata": {
            "tags": []
          },
          "execution_count": 37
        }
      ]
    },
    {
      "cell_type": "code",
      "metadata": {
        "id": "lSWxYc-_CXrd"
      },
      "source": [
        "trial_data_json = json.dumps(trial_data)"
      ],
      "execution_count": null,
      "outputs": []
    },
    {
      "cell_type": "code",
      "metadata": {
        "id": "l26aoeTbCfQ_",
        "colab": {
          "base_uri": "https://localhost:8080/",
          "height": 238
        },
        "outputId": "72ea9d65-0c5f-4d5d-9c3b-9c2336017dc1"
      },
      "source": [
        "trial_data_json"
      ],
      "execution_count": null,
      "outputs": [
        {
          "output_type": "execute_result",
          "data": {
            "application/vnd.google.colaboratory.intrinsic+json": {
              "type": "string"
            },
            "text/plain": [
              "'\"{\\\\\"data\\\\\": [{\\\\\"id\\\\\": \\\\\"937923869738268\\\\\", \\\\\"category_list\\\\\": [{\\\\\"id\\\\\": \\\\\"164243073639257\\\\\", \\\\\"name\\\\\": \\\\\"Hotel\\\\\"}], \\\\\"checkins\\\\\": 74, \\\\\"engagement\\\\\": {\\\\\"count\\\\\": 9, \\\\\"social_sentence\\\\\": \\\\\"9 people like this.\\\\\"}, \\\\\"link\\\\\": \\\\\"https://www.facebook.com/937923866404935\\\\\", \\\\\"location\\\\\": {\\\\\"city\\\\\": \\\\\"Bangui\\\\\", \\\\\"country\\\\\": \\\\\"Philippines\\\\\", \\\\\"latitude\\\\\": 18.535397, \\\\\"longitude\\\\\": 120.771814}, \\\\\"name\\\\\": \\\\\"Northwind Travellers Hotel\\\\\", \\\\\"rating_count\\\\\": 0, \\\\\"temporary_status\\\\\": \\\\\"no_data\\\\\"}, {\\\\\"id\\\\\": \\\\\"1648000865440411\\\\\", \\\\\"about\\\\\": \\\\\"Cebu Northwinds Hotel believe that our guests deserve only the highest standard of services. When you are with us; you surely feel \\\\\"A HOME AWAY FROM HOME\\\\\".\\\\\", \\\\\"category_list\\\\\": [{\\\\\"id\\\\\": \\\\\"164243073639257\\\\\", \\\\\"name\\\\\": \\\\\"Hotel\\\\\"}], \\\\\"checkins\\\\\": 21095, \\\\\"cover\\\\\": {\\\\\"cover_id\\\\\": \\\\\"2576549059252249\\\\\", \\\\\"offset_x\\\\\": 49, \\\\\"offset_y\\\\\": 50, \\\\\"source\\\\\": \\\\\"https://scontent.flux1-1.fna.fbcdn.net/v/t1.0-9/s720x720/83929541_2576549065918915_5959512632120573952_o.jpg?_nc_cat=110&_nc_sid=dd9801&_nc_ohc=Ec07AsQgZfoAX_8wz_K&_nc_ht=scontent.flux1-1.fna&tp=-7&oh=df128b97446a66642a60e9cbad1566ac&oe=5F6386FF\\\\\", \\\\\"id\\\\\": \\\\\"2576549059252249\\\\\"}, \\\\\"engagement\\\\\": {\\\\\"count\\\\\": 3021, \\\\\"social_sentence\\\\\": \\\\\"3K people like this.\\\\\"}, \\\\\"link\\\\\": \\\\\"https://www.facebook.com/1643831249190706\\\\\", \\\\\"location\\\\\": {\\\\\"city\\\\\": \\\\\"Cebu City\\\\\", \\\\\"country\\\\\": \\\\\"Philippines\\\\\", \\\\\"latitude\\\\\": 10.328958386136, \\\\\"longitude\\\\\": 123.90230351733, \\\\\"street\\\\\": \\\\\"Salinas Drive Lahug\\\\\", \\\\\"zip\\\\\": \\\\\"6000\\\\\"}, \\\\\"name\\\\\": \\\\\"Cebu Northwinds Hotel\\\\\", \\\\\"price_range\\\\\": \\\\\"$$\\\\\", \\\\\"rating_count\\\\\": 31, \\\\\"temporary_status\\\\\": \\\\\"operating_as_usual\\\\\", \\\\\"website\\\\\": \\\\\"http://www.cebunorthwinds.com\\\\\"}, {\\\\\"id\\\\\": \\\\\"370720949615395\\\\\", \\\\\"category_list\\\\\": [{\\\\\"id\\\\\": \\\\\"164243073639257\\\\\", \\\\\"name\\\\\": \\\\\"Hotel\\\\\"}, {\\\\\"id\\\\\": \\\\\"181803978524025\\\\\", \\\\\"name\\\\\": \\\\\"Inn\\\\\"}], \\\\\"checkins\\\\\": 3729, \\\\\"engagement\\\\\": {\\\\\"count\\\\\": 588, \\\\\"social_sentence\\\\\": \\\\\"588 people like this.\\\\\"}, \\\\\"link\\\\\": \\\\\"https://www.facebook.com/370720932948730\\\\\", \\\\\"location\\\\\": {\\\\\"city\\\\\": \\\\\"Batangas City\\\\\", \\\\\"country\\\\\": \\\\\"Philippines\\\\\", \\\\\"latitude\\\\\": 13.757489864916, \\\\\"longitude\\\\\": 121.0517472373, \\\\\"street\\\\\": \\\\\"New Access Road, Brgy. Sta Clara\\\\\", \\\\\"zip\\\\\": \\\\\"4200\\\\\"}, \\\\\"name\\\\\": \\\\\"Travellers\\\\\" Hotel Batangas\\\\\", \\\\\"parking\\\\\": {\\\\\"lot\\\\\": 0, \\\\\"street\\\\\": 0, \\\\\"valet\\\\\": 0}, \\\\\"rating_count\\\\\": 6, \\\\\"temporary_status\\\\\": \\\\\"no_data\\\\\"}, {\\\\\"id\\\\\": \\\\\"1690076671280994\\\\\", \\\\\"category_list\\\\\": [{\\\\\"id\\\\\": \\\\\"164243073639257\\\\\", \\\\\"name\\\\\": \\\\\"Hotel\\\\\"}], \\\\\"checkins\\\\\": 2, \\\\\"engagement\\\\\": {\\\\\"count\\\\\": 0, \\\\\"social_sentence\\\\\": \\\\\"Be the first of your friends to like this.\\\\\"}, \\\\\"link\\\\\": \\\\\"https://www.facebook.com/1690076644614330\\\\\", \\\\\"location\\\\\": {\\\\\"city\\\\\": \\\\\"Ladysmith\\\\\", \\\\\"country\\\\\": \\\\\"Canada\\\\\", \\\\\"latitude\\\\\": 48.992901, \\\\\"longitude\\\\\": -123.816585, \\\\\"state\\\\\": \\\\\"BC\\\\\", \\\\\"street\\\\\": \\\\\"422 1st Ave\\\\\", \\\\\"zip\\\\\": \\\\\"V9G 1A9\\\\\"}, \\\\\"name\\\\\": \\\\\"Travellers Hotel\\\\\", \\\\\"price_range\\\\\": \\\\\"$$\\\\\", \\\\\"rating_count\\\\\": 0, \\\\\"temporary_status\\\\\": \\\\\"no_data\\\\\"}, {\\\\\"id\\\\\": \\\\\"178703922140374\\\\\", \\\\\"category_list\\\\\": [{\\\\\"id\\\\\": \\\\\"187686707929197\\\\\", \\\\\"name\\\\\": \\\\\"Hotel Resort\\\\\"}], \\\\\"checkins\\\\\": 11822, \\\\\"engagement\\\\\": {\\\\\"count\\\\\": 184, \\\\\"social_sentence\\\\\": \\\\\"184 people like this.\\\\\"}, \\\\\"link\\\\\": \\\\\"https://www.facebook.com/178703908807042\\\\\", \\\\\"location\\\\\": {\\\\\"city\\\\\": \\\\\"Bangkok\\\\\", \\\\\"country\\\\\": \\\\\"Thailand\\\\\", \\\\\"latitude\\\\\": 13.797306576586, \\\\\"longitude\\\\\": 100.57430273755, \\\\\"zip\\\\\": \\\\\"10400\\\\\"}, \\\\\"name\\\\\": \\\\\"The Travellers Hotel\\\\\", \\\\\"parking\\\\\": {\\\\\"lot\\\\\": 0, \\\\\"street\\\\\": 0, \\\\\"valet\\\\\": 0}, \\\\\"price_range\\\\\": \\\\\"$$\\\\\", \\\\\"rating_count\\\\\": 22, \\\\\"temporary_status\\\\\": \\\\\"no_data\\\\\", \\\\\"website\\\\\": \\\\\"http://www.travellerinnhotel.net/\\\\\"}, {\\\\\"id\\\\\": \\\\\"148144922011459\\\\\", \\\\\"category_list\\\\\": [{\\\\\"id\\\\\": \\\\\"2500\\\\\", \\\\\"name\\\\\": \\\\\"Local Business\\\\\"}], \\\\\"checkins\\\\\": 195, \\\\\"engagement\\\\\": {\\\\\"count\\\\\": 2, \\\\\"social_sentence\\\\\": \\\\\"2 people like this.\\\\\"}, \\\\\"link\\\\\": \\\\\"https://www.facebook.com/148144908678127\\\\\", \\\\\"location\\\\\": {\\\\\"city\\\\\": \\\\\"Olongapo\\\\\", \\\\\"country\\\\\": \\\\\"Philippines\\\\\", \\\\\"latitude\\\\\": 14.821662704, \\\\\"longitude\\\\\": 120.274043965}, \\\\\"name\\\\\": \\\\\"Travellers Hotel\\\\\", \\\\\"parking\\\\\": {\\\\\"lot\\\\\": 0, \\\\\"street\\\\\": 0, \\\\\"valet\\\\\": 0}, \\\\\"rating_count\\\\\": 0, \\\\\"temporary_status\\\\\": \\\\\"operating_as_usual\\\\\"}, {\\\\\"id\\\\\": \\\\\"645694045521758\\\\\", \\\\\"about\\\\\": \\\\\" Hotel Northwinds is located in the centre of Labasa town. The hotel has 12 spacious well equipped rooms that are fully air condition TV, Bar Fridge,\\\\\", \\\\\"category_list\\\\\": [{\\\\\"id\\\\\": \\\\\"164243073639257\\\\\", \\\\\"name\\\\\": \\\\\"Hotel\\\\\"}], \\\\\"checkins\\\\\": 594, \\\\\"cover\\\\\": {\\\\\"cover_id\\\\\": \\\\\"665284996895996\\\\\", \\\\\"offset_x\\\\\": 51, \\\\\"offset_y\\\\\": 50, \\\\\"source\\\\\": \\\\\"https://scontent.flux1-1.fna.fbcdn.net/v/t31.0-8/s720x720/10522374_665284996895996_1777591725987789979_o.jpg?_nc_cat=102&_nc_sid=dd9801&_nc_ohc=kyJJcAcuyo0AX_xDpZZ&_nc_ht=scontent.flux1-1.fna&tp=-7&oh=ac75ded58e0b48f2c2fb9d6f751ac077&oe=5F63B937\\\\\", \\\\\"id\\\\\": \\\\\"665284996895996\\\\\"}, \\\\\"engagement\\\\\": {\\\\\"count\\\\\": 2928, \\\\\"social_sentence\\\\\": \\\\\"2.9K people like this.\\\\\"}, \\\\\"link\\\\\": \\\\\"https://www.facebook.com/645693918855104\\\\\", \\\\\"location\\\\\": {\\\\\"city\\\\\": \\\\\"Labasa\\\\\", \\\\\"country\\\\\": \\\\\"Fiji\\\\\", \\\\\"latitude\\\\\": -16.429187760398, \\\\\"longitude\\\\\": 179.37561575433, \\\\\"street\\\\\": \\\\\"Main Street Labasa\\\\\", \\\\\"zip\\\\\": \\\\\"+679\\\\\"}, \\\\\"name\\\\\": \\\\\"Hotel Northwinds\\\\\", \\\\\"parking\\\\\": {\\\\\"lot\\\\\": 0, \\\\\"street\\\\\": 0, \\\\\"valet\\\\\": 0}, \\\\\"price_range\\\\\": \\\\\"$$$\\\\\", \\\\\"rating_count\\\\\": 2, \\\\\"temporary_status\\\\\": \\\\\"operating_as_usual\\\\\"}, {\\\\\"id\\\\\": \\\\\"529935650376143\\\\\", \\\\\"category_list\\\\\": [{\\\\\"id\\\\\": \\\\\"162914327091136\\\\\", \\\\\"name\\\\\": \\\\\"Travel Agency\\\\\"}, {\\\\\"id\\\\\": \\\\\"164243073639257\\\\\", \\\\\"name\\\\\": \\\\\"Hotel\\\\\"}], \\\\\"checkins\\\\\": 3, \\\\\"engagement\\\\\": {\\\\\"count\\\\\": 0, \\\\\"social_sentence\\\\\": \\\\\"Be the first of your friends to like this.\\\\\"}, \\\\\"link\\\\\": \\\\\"https://www.facebook.com/529935637042811\\\\\", \\\\\"location\\\\\": {\\\\\"city\\\\\": \\\\\"Cebu City\\\\\", \\\\\"country\\\\\": \\\\\"Philippines\\\\\", \\\\\"latitude\\\\\": 10.3289804, \\\\\"longitude\\\\\": 123.9025189, \\\\\"street\\\\\": \\\\\"Salinas Drive\\\\\"}, \\\\\"name\\\\\": \\\\\"Northwind Hotel\\\\\", \\\\\"parking\\\\\": {\\\\\"lot\\\\\": 0, \\\\\"street\\\\\": 0, \\\\\"valet\\\\\": 0}, \\\\\"rating_count\\\\\": 0, \\\\\"temporary_status\\\\\": \\\\\"no_data\\\\\"}, {\\\\\"id\\\\\": \\\\\"533272100063285\\\\\", \\\\\"category_list\\\\\": [{\\\\\"id\\\\\": \\\\\"162914327091136\\\\\", \\\\\"name\\\\\": \\\\\"Travel Agency\\\\\"}, {\\\\\"id\\\\\": \\\\\"164243073639257\\\\\", \\\\\"name\\\\\": \\\\\"Hotel\\\\\"}], \\\\\"checkins\\\\\": 4, \\\\\"engagement\\\\\": {\\\\\"count\\\\\": 0, \\\\\"social_sentence\\\\\": \\\\\"Be the first of your friends to like this.\\\\\"}, \\\\\"link\\\\\": \\\\\"https://www.facebook.com/533272086729953\\\\\", \\\\\"location\\\\\": {\\\\\"city\\\\\": \\\\\"Cebu City\\\\\", \\\\\"country\\\\\": \\\\\"Philippines\\\\\", \\\\\"latitude\\\\\": 10.323565350649, \\\\\"longitude\\\\\": 123.90265298701}, \\\\\"name\\\\\": \\\\\"Northwind Hotel\\\\\", \\\\\"parking\\\\\": {\\\\\"lot\\\\\": 0, \\\\\"street\\\\\": 0, \\\\\"valet\\\\\": 0}, \\\\\"rating_count\\\\\": 0, \\\\\"temporary_status\\\\\": \\\\\"operating_as_usual\\\\\"}, {\\\\\"id\\\\\": \\\\\"1400356910180773\\\\\", \\\\\"category_list\\\\\": [{\\\\\"id\\\\\": \\\\\"1562965077339698\\\\\", \\\\\"name\\\\\": \\\\\"Food & Beverage\\\\\"}, {\\\\\"id\\\\\": \\\\\"164243073639257\\\\\", \\\\\"name\\\\\": \\\\\"Hotel\\\\\"}], \\\\\"checkins\\\\\": 1, \\\\\"engagement\\\\\": {\\\\\"count\\\\\": 0, \\\\\"social_sentence\\\\\": \\\\\"Be the first of your friends to like this.\\\\\"}, \\\\\"link\\\\\": \\\\\"https://www.facebook.com/1400356896847441\\\\\", \\\\\"location\\\\\": {\\\\\"city\\\\\": \\\\\"Cebu City\\\\\", \\\\\"country\\\\\": \\\\\"Philippines\\\\\", \\\\\"latitude\\\\\": 10.328938385, \\\\\"longitude\\\\\": 123.902280182, \\\\\"street\\\\\": \\\\\"Salinas Drive\\\\\"}, \\\\\"name\\\\\": \\\\\"Northwind Hotel\\\\\", \\\\\"parking\\\\\": {\\\\\"lot\\\\\": 0, \\\\\"street\\\\\": 0, \\\\\"valet\\\\\": 0}, \\\\\"rating_count\\\\\": 0, \\\\\"temporary_status\\\\\": \\\\\"no_data\\\\\"}, {\\\\\"id\\\\\": \\\\\"926370511086937\\\\\", \\\\\"category_list\\\\\": [{\\\\\"id\\\\\": \\\\\"164243073639257\\\\\", \\\\\"name\\\\\": \\\\\"Hotel\\\\\"}], \\\\\"checkins\\\\\": 32, \\\\\"engagement\\\\\": {\\\\\"count\\\\\": 0, \\\\\"social_sentence\\\\\": \\\\\"Be the first of your friends to like this.\\\\\"}, \\\\\"link\\\\\": \\\\\"https://www.facebook.com/926370497753605\\\\\", \\\\\"location\\\\\": {\\\\\"city\\\\\": \\\\\"Ijebu Igbo\\\\\", \\\\\"country\\\\\": \\\\\"Nigeria\\\\\", \\\\\"latitude\\\\\": 6.95909, \\\\\"longitude\\\\\": 4.00382}, \\\\\"name\\\\\": \\\\\"Traveller\\\\\"s Hotel\\\\\", \\\\\"rating_count\\\\\": 0, \\\\\"temporary_status\\\\\": \\\\\"no_data\\\\\"}, {\\\\\"id\\\\\": \\\\\"503389453163832\\\\\", \\\\\"about\\\\\": \\\\\"Is the luxurious International business Hotel in Makassar city, South sulawesi Island from Core Hotels \\\\\", \\\\\"category_list\\\\\": [{\\\\\"id\\\\\": \\\\\"164243073639257\\\\\", \\\\\"name\\\\\": \\\\\"Hotel\\\\\"}], \\\\\"checkins\\\\\": 24154, \\\\\"cover\\\\\": {\\\\\"cover_id\\\\\": \\\\\"517459398423504\\\\\", \\\\\"offset_x\\\\\": 50, \\\\\"offset_y\\\\\": 29, \\\\\"source\\\\\": \\\\\"https://scontent.flux1-1.fna.fbcdn.net/v/t31.0-0/p480x480/12308127_517459398423504_2257327276484059438_o.jpg?_nc_cat=111&_nc_sid=dd9801&_nc_ohc=J92MDT_3PUEAX_jRngM&_nc_ht=scontent.flux1-1.fna&_nc_tp=6&oh=416caa266247159ef6f03192637ca202&oe=5F63D420\\\\\", \\\\\"id\\\\\": \\\\\"517459398423504\\\\\"}, \\\\\"description\\\\\": \\\\\"TRAVELLERS HOTEL PHINISI is an International business Hotel in Makassar, South Sulawesi, managed by Core Hotels, offering unique adventure and unbelievable experience at Customer\\\\u00e2\\\\u0080\\\\u0099s choice. The Hotel is facilitated with comfortable room, affordable price and irresistible facilities, while \\\\u00e2\\\\u0080\\\\u009cIt\\\\u00e2\\\\u0080\\\\u0099s The Extra Thought That Makes All The Difference\\\\u00e2\\\\u0080\\\\u009d is our mission in serving the guests.\\\\\", \\\\\"engagement\\\\\": {\\\\\"count\\\\\": 1116, \\\\\"social_sentence\\\\\": \\\\\"1.1K people like this.\\\\\"}, \\\\\"link\\\\\": \\\\\"https://www.facebook.com/503389423163835\\\\\", \\\\\"location\\\\\": {\\\\\"city\\\\\": \\\\\"Makassar\\\\\", \\\\\"country\\\\\": \\\\\"Indonesia\\\\\", \\\\\"latitude\\\\\": -5.1493716, \\\\\"longitude\\\\\": 119.41100233571, \\\\\"street\\\\\": \\\\\"Jl. Lamadukelleng Buntu No 59 Kelurahan Kunjung Mae Kecamatan Mariso Makassar\\\\\", \\\\\"zip\\\\\": \\\\\"90125\\\\\"}, \\\\\"name\\\\\": \\\\\"Travellers Hotel Phinisi\\\\\", \\\\\"parking\\\\\": {\\\\\"lot\\\\\": 1, \\\\\"street\\\\\": 1, \\\\\"valet\\\\\": 0}, \\\\\"price_range\\\\\": \\\\\"$\\\\\", \\\\\"rating_count\\\\\": 60, \\\\\"temporary_status\\\\\": \\\\\"operating_as_usual\\\\\", \\\\\"website\\\\\": \\\\\"http://www.travellersphinisi.com\\\\\"}, {\\\\\"id\\\\\": \\\\\"1563818160508527\\\\\", \\\\\"category_list\\\\\": [{\\\\\"id\\\\\": \\\\\"2500\\\\\", \\\\\"name\\\\\": \\\\\"Local Business\\\\\"}], \\\\\"checkins\\\\\": 12, \\\\\"description\\\\\": \\\\\"ToT \\\\\"Beban atau Biaya\\\\\" Huppssss....\\\\\", \\\\\"engagement\\\\\": {\\\\\"count\\\\\": 5, \\\\\"social_sentence\\\\\": \\\\\"5 people like this.\\\\\"}, \\\\\"link\\\\\": \\\\\"https://www.facebook.com/1563818127175197\\\\\", \\\\\"location\\\\\": {\\\\\"city\\\\\": \\\\\"Jakarta\\\\\", \\\\\"country\\\\\": \\\\\"Indonesia\\\\\", \\\\\"latitude\\\\\": -6.1468374652518, \\\\\"longitude\\\\\": 106.83168711713}, \\\\\"name\\\\\": \\\\\"Travellers Hotel\\\\\", \\\\\"rating_count\\\\\": 0}, {\\\\\"id\\\\\": \\\\\"109650900485193\\\\\", \\\\\"about\\\\\": \\\\\"BdBooking is one of the largest online hotel and resort booking engines in Bangladesh. Sign up and book hotel, motel, resorts by BdBooking.com\\\\\", \\\\\"category_list\\\\\": [{\\\\\"id\\\\\": \\\\\"187686707929197\\\\\", \\\\\"name\\\\\": \\\\\"Hotel Resort\\\\\"}], \\\\\"checkins\\\\\": 0, \\\\\"cover\\\\\": {\\\\\"cover_id\\\\\": \\\\\"272698310847117\\\\\", \\\\\"offset_x\\\\\": 50, \\\\\"offset_y\\\\\": 50, \\\\\"source\\\\\": \\\\\"https://scontent.flux1-1.fna.fbcdn.net/v/t1.0-9/s720x720/106777925_272698317513783_8223466405062670790_o.jpg?_nc_cat=105&_nc_sid=dd9801&_nc_ohc=zXHbqn62PvsAX-boZdR&_nc_ht=scontent.flux1-1.fna&tp=-7&oh=84e4c2574507e87dcd5f902d024f87c7&oe=5F64E33E\\\\\", \\\\\"id\\\\\": \\\\\"272698310847117\\\\\"}, \\\\\"engagement\\\\\": {\\\\\"count\\\\\": 167, \\\\\"social_sentence\\\\\": \\\\\"167 people like this.\\\\\"}, \\\\\"link\\\\\": \\\\\"https://www.facebook.com/109650690485214\\\\\", \\\\\"location\\\\\": {\\\\\"city\\\\\": \\\\\"Gazipur\\\\\", \\\\\"country\\\\\": \\\\\"Bangladesh\\\\\", \\\\\"latitude\\\\\": 23.99709, \\\\\"longitude\\\\\": 90.41771, \\\\\"street\\\\\": \\\\\"gazipur\\\\\"}, \\\\\"name\\\\\": \\\\\"Travellers Hotels at Gazipur, Dhaka\\\\\", \\\\\"price_range\\\\\": \\\\\"$$\\\\\", \\\\\"rating_count\\\\\": 0, \\\\\"temporary_status\\\\\": \\\\\"operating_as_usual\\\\\", \\\\\"website\\\\\": \\\\\"https://www.bdbooking.com\\\\\"}, {\\\\\"id\\\\\": \\\\\"119943151355719\\\\\", \\\\\"category_list\\\\\": [{\\\\\"id\\\\\": \\\\\"152050108191372\\\\\", \\\\\"name\\\\\": \\\\\"Motel\\\\\"}, {\\\\\"id\\\\\": \\\\\"199734546726648\\\\\", \\\\\"name\\\\\": \\\\\"Beach Resort\\\\\"}], \\\\\"checkins\\\\\": 4471, \\\\\"cover\\\\\": {\\\\\"cover_id\\\\\": \\\\\"1731633530186665\\\\\", \\\\\"offset_x\\\\\": 50, \\\\\"offset_y\\\\\": 52, \\\\\"source\\\\\": \\\\\"https://scontent.flux1-1.fna.fbcdn.net/v/t1.0-9/p720x720/19225121_1731633530186665_2934204586991618016_n.jpg?_nc_cat=104&_nc_sid=dd9801&_nc_ohc=CCMYzpMgZ9QAX-ELGHo&_nc_ht=scontent.flux1-1.fna&_nc_tp=6&oh=5bcd2fed7c65acfa6c1d598c0db91688&oe=5F64D532\\\\\", \\\\\"id\\\\\": \\\\\"1731633530186665\\\\\"}, \\\\\"engagement\\\\\": {\\\\\"count\\\\\": 3177, \\\\\"social_sentence\\\\\": \\\\\"3.1K people like this.\\\\\"}, \\\\\"link\\\\\": \\\\\"https://www.facebook.com/119943141355720\\\\\", \\\\\"location\\\\\": {\\\\\"city\\\\\": \\\\\"North Wildwood\\\\\", \\\\\"country\\\\\": \\\\\"United States\\\\\", \\\\\"latitude\\\\\": 39.00135, \\\\\"longitude\\\\\": -74.78961, \\\\\"state\\\\\": \\\\\"NJ\\\\\", \\\\\"street\\\\\": \\\\\"401 Ocean Ave\\\\\", \\\\\"zip\\\\\": \\\\\"08260-5858\\\\\"}, \\\\\"name\\\\\": \\\\\"Northwind Motel\\\\\", \\\\\"parking\\\\\": {\\\\\"lot\\\\\": 0, \\\\\"street\\\\\": 0, \\\\\"valet\\\\\": 0}, \\\\\"price_range\\\\\": \\\\\"$$\\\\\", \\\\\"rating_count\\\\\": 89, \\\\\"temporary_status\\\\\": \\\\\"operating_as_usual\\\\\", \\\\\"website\\\\\": \\\\\"http://www.northwindmotel.net\\\\\"}, {\\\\\"id\\\\\": \\\\\"204802423351913\\\\\", \\\\\"category_list\\\\\": [{\\\\\"id\\\\\": \\\\\"2500\\\\\", \\\\\"name\\\\\": \\\\\"Local Business\\\\\"}], \\\\\"checkins\\\\\": 89, \\\\\"engagement\\\\\": {\\\\\"count\\\\\": 21, \\\\\"social_sentence\\\\\": \\\\\"21 people like this.\\\\\"}, \\\\\"link\\\\\": \\\\\"https://www.facebook.com/204802416685247\\\\\", \\\\\"location\\\\\": {\\\\\"city\\\\\": \\\\\"Daet\\\\\", \\\\\"country\\\\\": \\\\\"Philippines\\\\\", \\\\\"latitude\\\\\": 14.13288339, \\\\\"longitude\\\\\": 122.9813607}, \\\\\"name\\\\\": \\\\\"Traveller\\\\\"s Hotel\\\\\", \\\\\"rating_count\\\\\": 0, \\\\\"temporary_status\\\\\": \\\\\"operating_as_usual\\\\\"}, {\\\\\"id\\\\\": \\\\\"354084627961194\\\\\", \\\\\"category_list\\\\\": [{\\\\\"id\\\\\": \\\\\"2500\\\\\", \\\\\"name\\\\\": \\\\\"Local Business\\\\\"}], \\\\\"checkins\\\\\": 45, \\\\\"engagement\\\\\": {\\\\\"count\\\\\": 4, \\\\\"social_sentence\\\\\": \\\\\"4 people like this.\\\\\"}, \\\\\"link\\\\\": \\\\\"https://www.facebook.com/354084614627862\\\\\", \\\\\"location\\\\\": {\\\\\"city\\\\\": \\\\\"Quezon City\\\\\", \\\\\"country\\\\\": \\\\\"Philippines\\\\\", \\\\\"latitude\\\\\": 14.632198278613, \\\\\"longitude\\\\\": 121.06913993374}, \\\\\"name\\\\\": \\\\\"Travellers Hotel\\\\\", \\\\\"parking\\\\\": {\\\\\"lot\\\\\": 0, \\\\\"street\\\\\": 0, \\\\\"valet\\\\\": 0}, \\\\\"rating_count\\\\\": 0, \\\\\"temporary_status\\\\\": \\\\\"operating_as_usual\\\\\"}, {\\\\\"id\\\\\": \\\\\"618865091636209\\\\\", \\\\\"category_list\\\\\": [{\\\\\"id\\\\\": \\\\\"164243073639257\\\\\", \\\\\"name\\\\\": \\\\\"Hotel\\\\\"}], \\\\\"checkins\\\\\": 104, \\\\\"engagement\\\\\": {\\\\\"count\\\\\": 20, \\\\\"social_sentence\\\\\": \\\\\"20 people like this.\\\\\"}, \\\\\"link\\\\\": \\\\\"https://www.facebook.com/618865078302877\\\\\", \\\\\"location\\\\\": {\\\\\"city\\\\\": \\\\\"Mamburao\\\\\", \\\\\"country\\\\\": \\\\\"Philippines\\\\\", \\\\\"latitude\\\\\": 13.219656830482, \\\\\"longitude\\\\\": 120.60078351452, \\\\\"street\\\\\": \\\\\"National Rd.\\\\\", \\\\\"zip\\\\\": \\\\\"5106\\\\\"}, \\\\\"name\\\\\": \\\\\"Traveller\\\\\"s Hotel And Restaurant in Misamis Occidental\\\\\", \\\\\"price_range\\\\\": \\\\\"$$\\\\\", \\\\\"rating_count\\\\\": 0, \\\\\"temporary_status\\\\\": \\\\\"no_data\\\\\"}, {\\\\\"id\\\\\": \\\\\"1655255001447173\\\\\", \\\\\"category_list\\\\\": [{\\\\\"id\\\\\": \\\\\"164243073639257\\\\\", \\\\\"name\\\\\": \\\\\"Hotel\\\\\"}], \\\\\"checkins\\\\\": 12, \\\\\"engagement\\\\\": {\\\\\"count\\\\\": 1, \\\\\"social_sentence\\\\\": \\\\\"One person likes this.\\\\\"}, \\\\\"link\\\\\": \\\\\"https://www.facebook.com/1655254994780507\\\\\", \\\\\"location\\\\\": {\\\\\"city\\\\\": \\\\\"Mamburao\\\\\", \\\\\"country\\\\\": \\\\\"Philippines\\\\\", \\\\\"latitude\\\\\": 13.21954, \\\\\"longitude\\\\\": 120.60083, \\\\\"street\\\\\": \\\\\"Mindoro West Coastal Rd\\\\\", \\\\\"zip\\\\\": \\\\\"5106\\\\\"}, \\\\\"name\\\\\": \\\\\"Travellers Hotel\\\\\", \\\\\"rating_count\\\\\": 0, \\\\\"temporary_status\\\\\": \\\\\"no_data\\\\\"}, {\\\\\"id\\\\\": \\\\\"211817745830927\\\\\", \\\\\"category_list\\\\\": [{\\\\\"id\\\\\": \\\\\"164243073639257\\\\\", \\\\\"name\\\\\": \\\\\"Hotel\\\\\"}, {\\\\\"id\\\\\": \\\\\"181216025249367\\\\\", \\\\\"name\\\\\": \\\\\"Apartment & Condo Building\\\\\"}], \\\\\"checkins\\\\\": 474, \\\\\"engagement\\\\\": {\\\\\"count\\\\\": 58, \\\\\"social_sentence\\\\\": \\\\\"58 people like this.\\\\\"}, \\\\\"link\\\\\": \\\\\"https://www.facebook.com/211817729164262\\\\\", \\\\\"location\\\\\": {\\\\\"city\\\\\": \\\\\"Dubai\\\\\", \\\\\"country\\\\\": \\\\\"United Arab Emirates\\\\\", \\\\\"latitude\\\\\": 25.1101619, \\\\\"longitude\\\\\": 55.2031486, \\\\\"street\\\\\": \\\\\"Travellers Hotel Apartment, Al Barsha 1\\\\\"}, \\\\\"name\\\\\": \\\\\"Travellers Hotel Apartment\\\\\", \\\\\"price_range\\\\\": \\\\\"$$$\\\\\", \\\\\"rating_count\\\\\": 0, \\\\\"temporary_status\\\\\": \\\\\"no_data\\\\\"}, {\\\\\"id\\\\\": \\\\\"232978153466057\\\\\", \\\\\"category_list\\\\\": [{\\\\\"id\\\\\": \\\\\"2500\\\\\", \\\\\"name\\\\\": \\\\\"Local Business\\\\\"}], \\\\\"checkins\\\\\": 1, \\\\\"engagement\\\\\": {\\\\\"count\\\\\": 0, \\\\\"social_sentence\\\\\": \\\\\"Be the first of your friends to like this.\\\\\"}, \\\\\"link\\\\\": \\\\\"https://www.facebook.com/232978136799392\\\\\", \\\\\"location\\\\\": {\\\\\"city\\\\\": \\\\\"Bangkok\\\\\", \\\\\"country\\\\\": \\\\\"Thailand\\\\\", \\\\\"latitude\\\\\": 13.7970924, \\\\\"longitude\\\\\": 100.574243078}, \\\\\"name\\\\\": \\\\\"Travellers Hotel\\\\\", \\\\\"parking\\\\\": {\\\\\"lot\\\\\": 0, \\\\\"street\\\\\": 0, \\\\\"valet\\\\\": 0}, \\\\\"rating_count\\\\\": 0, \\\\\"temporary_status\\\\\": \\\\\"operating_as_usual\\\\\"}, {\\\\\"id\\\\\": \\\\\"236588773114054\\\\\", \\\\\"category_list\\\\\": [{\\\\\"id\\\\\": \\\\\"2500\\\\\", \\\\\"name\\\\\": \\\\\"Local Business\\\\\"}], \\\\\"checkins\\\\\": 2, \\\\\"engagement\\\\\": {\\\\\"count\\\\\": 0, \\\\\"social_sentence\\\\\": \\\\\"Be the first of your friends to like this.\\\\\"}, \\\\\"link\\\\\": \\\\\"https://www.facebook.com/236588746447390\\\\\", \\\\\"location\\\\\": {\\\\\"city\\\\\": \\\\\"Mombasa\\\\\", \\\\\"country\\\\\": \\\\\"Kenya\\\\\", \\\\\"latitude\\\\\": -3.99341237, \\\\\"longitude\\\\\": 39.735035}, \\\\\"name\\\\\": \\\\\"Travellers Hotel\\\\\", \\\\\"parking\\\\\": {\\\\\"lot\\\\\": 0, \\\\\"street\\\\\": 0, \\\\\"valet\\\\\": 0}, \\\\\"rating_count\\\\\": 0, \\\\\"temporary_status\\\\\": \\\\\"operating_as_usual\\\\\"}, {\\\\\"id\\\\\": \\\\\"819064254831310\\\\\", \\\\\"about\\\\\": \\\\\"Fone 067 99978-0911 nando\\\\\\\\n\\\\\\\\nTel 67 34419319\\\\\\\\nCompra \\\\\\\\nVenda\\\\\\\\nTroca\\\\\\\\nConsigna\\\\u00c3\\\\u00a7\\\\u00c3\\\\u00a3o\\\\\\\\n\\\\\\\\nDeus acima de tudo!!! \\\\\", \\\\\"category_list\\\\\": [{\\\\\"id\\\\\": \\\\\"131962450204676\\\\\", \\\\\"name\\\\\": \\\\\"Car Dealership\\\\\"}], \\\\\"checkins\\\\\": 12671, \\\\\"cover\\\\\": {\\\\\"cover_id\\\\\": \\\\\"3925266410877730\\\\\", \\\\\"offset_x\\\\\": 50, \\\\\"offset_y\\\\\": 0, \\\\\"source\\\\\": \\\\\"https://scontent.flux1-1.fna.fbcdn.net/v/t1.0-9/s720x720/101743648_3925266414211063_1371622760459315195_o.jpg?_nc_cat=101&_nc_sid=dd9801&_nc_ohc=958LKbz-WA4AX8biyPg&_nc_ht=scontent.flux1-1.fna&tp=-7&oh=e99155a68a5c5fdb6c6e92cd0f37b83b&oe=5F62E1BB\\\\\", \\\\\"id\\\\\": \\\\\"3925266410877730\\\\\"}, \\\\\"engagement\\\\\": {\\\\\"count\\\\\": 1927, \\\\\"social_sentence\\\\\": \\\\\"1.9K people like this.\\\\\"}, \\\\\"link\\\\\": \\\\\"https://www.facebook.com/819064228164646\\\\\", \\\\\"location\\\\\": {\\\\\"city\\\\\": \\\\\"Nova Andradina\\\\\", \\\\\"country\\\\\": \\\\\"Brazil\\\\\", \\\\\"latitude\\\\\": -22.24602884, \\\\\"longitude\\\\\": -53.346317750333, \\\\\"state\\\\\": \\\\\"MS\\\\\", \\\\\"street\\\\\": \\\\\"av Ant\\\\u00c3\\\\u00b3nio Joaquim de Moura Andrade n991\\\\\", \\\\\"zip\\\\\": \\\\\"79750000\\\\\"}, \\\\\"name\\\\\": \\\\\"MultiCar Ve\\\\u00c3\\\\u00adculos\\\\\", \\\\\"parking\\\\\": {\\\\\"lot\\\\\": 1, \\\\\"street\\\\\": 1, \\\\\"valet\\\\\": 0}, \\\\\"price_range\\\\\": \\\\\"$$$\\\\\", \\\\\"rating_count\\\\\": 4, \\\\\"temporary_status\\\\\": \\\\\"operating_as_usual\\\\\", \\\\\"website\\\\\": \\\\\"www.multcarveiculos.net.br\\\\\"}, {\\\\\"id\\\\\": \\\\\"135241089835779\\\\\", \\\\\"category_list\\\\\": [{\\\\\"id\\\\\": \\\\\"164243073639257\\\\\", \\\\\"name\\\\\": \\\\\"Hotel\\\\\"}, {\\\\\"id\\\\\": \\\\\"152050108191372\\\\\", \\\\\"name\\\\\": \\\\\"Motel\\\\\"}], \\\\\"checkins\\\\\": 242, \\\\\"engagement\\\\\": {\\\\\"count\\\\\": 7, \\\\\"social_sentence\\\\\": \\\\\"7 people like this.\\\\\"}, \\\\\"link\\\\\": \\\\\"https://www.facebook.com/135241083169113\\\\\", \\\\\"location\\\\\": {\\\\\"city\\\\\": \\\\\"Parry Sound\\\\\", \\\\\"country\\\\\": \\\\\"Canada\\\\\", \\\\\"latitude\\\\\": 45.34543, \\\\\"longitude\\\\\": -80.03618, \\\\\"state\\\\\": \\\\\"ON\\\\\", \\\\\"street\\\\\": \\\\\"36 Mary St\\\\\", \\\\\"zip\\\\\": \\\\\"P2A 1E4\\\\\"}, \\\\\"name\\\\\": \\\\\"Traveller\\\\\"s Motor Hotel\\\\\", \\\\\"parking\\\\\": {\\\\\"lot\\\\\": 0, \\\\\"street\\\\\": 0, \\\\\"valet\\\\\": 0}, \\\\\"price_range\\\\\": \\\\\"$\\\\\", \\\\\"rating_count\\\\\": 2, \\\\\"temporary_status\\\\\": \\\\\"no_data\\\\\", \\\\\"website\\\\\": \\\\\"http://travellershotel.org/\\\\\"}, {\\\\\"id\\\\\": \\\\\"428785617237469\\\\\", \\\\\"about\\\\\": \\\\\"Urban Travellers Hotel in Pasay City, Philippines offers cozy  guestrooms equipped with modern amenities. \\\\\", \\\\\"category_list\\\\\": [{\\\\\"id\\\\\": \\\\\"164243073639257\\\\\", \\\\\"name\\\\\": \\\\\"Hotel\\\\\"}], \\\\\"checkins\\\\\": 25545, \\\\\"cover\\\\\": {\\\\\"cover_id\\\\\": \\\\\"2039392026176812\\\\\", \\\\\"offset_x\\\\\": 50, \\\\\"offset_y\\\\\": 52, \\\\\"source\\\\\": \\\\\"https://scontent.flux1-1.fna.fbcdn.net/v/t1.0-0/p235x350/53026463_2039392032843478_3960587633691721728_o.jpg?_nc_cat=101&_nc_sid=dd9801&_nc_ohc=ZzdmVvtao7wAX8GHpJn&_nc_ht=scontent.flux1-1.fna&_nc_tp=6&oh=abe0781866089769122e8d013e1c673f&oe=5F636864\\\\\", \\\\\"id\\\\\": \\\\\"2039392026176812\\\\\"}, \\\\\"description\\\\\": \\\\\"Ideally located in the heart of the city, our hotel offers affordable accommodation for business and leisure travelers. Guests can enjoy staying in our uniquely designed rooms, equipped with a phone, Internet access, and private toilet and bath. They can also enjoy the fact that they are near business districts, commercial centers, and historical sites while here. Indeed, guests will say our hotel is the perfect accommodation choice in the metropolis. \\\\\\\\n\\\\\\\\n\\\\\\\\n3-5 minutes walk to MRT and LRT EDSA Stations\\\\\\\\n2 minute walk to Metropoint Mall\\\\\\\\n5-10 minute walk to Major City and Provincial Terminals (Victory Liner, Partas, Genesis, Five Star, Philtranco\\\\\\\\n10-15 minute drive to DFA, OWWA, Senate\\\\\\\\n10-15 minute drive to SM Mall of Asia, SMX World Trade Center, PICC, Star City, \\\\\\\\nAccessible to Public Transportation (Bus, Taxi, Jeeps)\\\\\\\\n15-20 minute drive to the Airport\\\\\", \\\\\"engagement\\\\\": {\\\\\"count\\\\\": 8042, \\\\\"social_sentence\\\\\": \\\\\"8K people like this.\\\\\"}, \\\\\"link\\\\\": \\\\\"https://www.facebook.com/101387896643911\\\\\", \\\\\"location\\\\\": {\\\\\"city\\\\\": \\\\\"Pasay City\\\\\", \\\\\"country\\\\\": \\\\\"Philippines\\\\\", \\\\\"latitude\\\\\": 14.538182256522, \\\\\"longitude\\\\\": 121.00125934792, \\\\\"street\\\\\": \\\\\"2867 Zamora Street\\\\\", \\\\\"zip\\\\\": \\\\\"1300\\\\\"}, \\\\\"name\\\\\": \\\\\"Urban Travellers Hotel\\\\\", \\\\\"parking\\\\\": {\\\\\"lot\\\\\": 1, \\\\\"street\\\\\": 1, \\\\\"valet\\\\\": 0}, \\\\\"price_range\\\\\": \\\\\"$$\\\\\", \\\\\"rating_count\\\\\": 125, \\\\\"temporary_status\\\\\": \\\\\"operating_as_usual\\\\\", \\\\\"website\\\\\": \\\\\"https://www.urbantravellershotel.com\\\\\"}], \\\\\"paging\\\\\": {\\\\\"cursors\\\\\": {\\\\\"after\\\\\": \\\\\"MjQZD\\\\\"}, \\\\\"next\\\\\": \\\\\"https://graph.facebook.com/v7.0/search?access_token=EAAQpDd2jJNIBAP3b8wvST5izVG482aTnBpIKwuzpwjHBrq1CZAADI3aeZCUt4kKYR02TZCgZBQZB1thmuW9FQ5XYyZB0a0F6osddFTDTqAKCuIOxoLZCokGeUBXU9omfdozgXIDDMfoZC754nSpIsZATIztanTBdBHMzsztqmSCv7qDF14QLhNuP0pExzxwlPoQh9vDWgIiMZBOZCPc8x0kTl5O&fields=id%2C+about%2C+category_list%2C+checkins%2C+cover%2C+description%2C+differently_open_offerings%2C+engagement%2C+link%2C+location%2C+name%2C+parking%2C+payment_options%2C+price_range%2C+rating_count%2C+restaurant_services%2C+restaurant_specialties%2C+temporary_status%2C+website&q=Northwind+Travellers%27+Hotel&type=place&limit=25&after=MjQZD\\\\\"}}\"'"
            ]
          },
          "metadata": {
            "tags": []
          },
          "execution_count": 39
        }
      ]
    },
    {
      "cell_type": "code",
      "metadata": {
        "id": "M9B_h0NS9ZDE"
      },
      "source": [
        "json_trial = json.loads(trial_data_json)"
      ],
      "execution_count": null,
      "outputs": []
    },
    {
      "cell_type": "code",
      "metadata": {
        "id": "tkRoFmxnCwbu",
        "colab": {
          "base_uri": "https://localhost:8080/",
          "height": 162
        },
        "outputId": "1f350fc7-9bf1-42a7-efb4-2e28cd112858"
      },
      "source": [
        "asdasd = pd.to_json(json_trial)"
      ],
      "execution_count": null,
      "outputs": [
        {
          "output_type": "error",
          "ename": "AttributeError",
          "evalue": "ignored",
          "traceback": [
            "\u001b[0;31m---------------------------------------------------------------------------\u001b[0m",
            "\u001b[0;31mAttributeError\u001b[0m                            Traceback (most recent call last)",
            "\u001b[0;32m<ipython-input-47-ab57a4835bc0>\u001b[0m in \u001b[0;36m<module>\u001b[0;34m()\u001b[0m\n\u001b[0;32m----> 1\u001b[0;31m \u001b[0masdasd\u001b[0m \u001b[0;34m=\u001b[0m \u001b[0mpd\u001b[0m\u001b[0;34m.\u001b[0m\u001b[0mto_json\u001b[0m\u001b[0;34m(\u001b[0m\u001b[0mjson_trial\u001b[0m\u001b[0;34m)\u001b[0m\u001b[0;34m\u001b[0m\u001b[0;34m\u001b[0m\u001b[0m\n\u001b[0m",
            "\u001b[0;31mAttributeError\u001b[0m: module 'pandas' has no attribute 'to_json'"
          ]
        }
      ]
    },
    {
      "cell_type": "code",
      "metadata": {
        "id": "mVuXmOpuCjkI",
        "colab": {
          "base_uri": "https://localhost:8080/",
          "height": 320
        },
        "outputId": "afd31ab0-033c-4a32-ec76-034a1b3bca4c"
      },
      "source": [
        "json_trial = json.loads(json_trial)"
      ],
      "execution_count": null,
      "outputs": [
        {
          "output_type": "error",
          "ename": "JSONDecodeError",
          "evalue": "ignored",
          "traceback": [
            "\u001b[0;31m---------------------------------------------------------------------------\u001b[0m",
            "\u001b[0;31mJSONDecodeError\u001b[0m                           Traceback (most recent call last)",
            "\u001b[0;32m<ipython-input-45-6d8bcbe52598>\u001b[0m in \u001b[0;36m<module>\u001b[0;34m()\u001b[0m\n\u001b[0;32m----> 1\u001b[0;31m \u001b[0mjson_trial\u001b[0m \u001b[0;34m=\u001b[0m \u001b[0mjson\u001b[0m\u001b[0;34m.\u001b[0m\u001b[0mloads\u001b[0m\u001b[0;34m(\u001b[0m\u001b[0mjson_trial\u001b[0m\u001b[0;34m)\u001b[0m\u001b[0;34m\u001b[0m\u001b[0;34m\u001b[0m\u001b[0m\n\u001b[0m",
            "\u001b[0;32m/usr/lib/python3.6/json/__init__.py\u001b[0m in \u001b[0;36mloads\u001b[0;34m(s, encoding, cls, object_hook, parse_float, parse_int, parse_constant, object_pairs_hook, **kw)\u001b[0m\n\u001b[1;32m    352\u001b[0m             \u001b[0mparse_int\u001b[0m \u001b[0;32mis\u001b[0m \u001b[0;32mNone\u001b[0m \u001b[0;32mand\u001b[0m \u001b[0mparse_float\u001b[0m \u001b[0;32mis\u001b[0m \u001b[0;32mNone\u001b[0m \u001b[0;32mand\u001b[0m\u001b[0;34m\u001b[0m\u001b[0;34m\u001b[0m\u001b[0m\n\u001b[1;32m    353\u001b[0m             parse_constant is None and object_pairs_hook is None and not kw):\n\u001b[0;32m--> 354\u001b[0;31m         \u001b[0;32mreturn\u001b[0m \u001b[0m_default_decoder\u001b[0m\u001b[0;34m.\u001b[0m\u001b[0mdecode\u001b[0m\u001b[0;34m(\u001b[0m\u001b[0ms\u001b[0m\u001b[0;34m)\u001b[0m\u001b[0;34m\u001b[0m\u001b[0;34m\u001b[0m\u001b[0m\n\u001b[0m\u001b[1;32m    355\u001b[0m     \u001b[0;32mif\u001b[0m \u001b[0mcls\u001b[0m \u001b[0;32mis\u001b[0m \u001b[0;32mNone\u001b[0m\u001b[0;34m:\u001b[0m\u001b[0;34m\u001b[0m\u001b[0;34m\u001b[0m\u001b[0m\n\u001b[1;32m    356\u001b[0m         \u001b[0mcls\u001b[0m \u001b[0;34m=\u001b[0m \u001b[0mJSONDecoder\u001b[0m\u001b[0;34m\u001b[0m\u001b[0;34m\u001b[0m\u001b[0m\n",
            "\u001b[0;32m/usr/lib/python3.6/json/decoder.py\u001b[0m in \u001b[0;36mdecode\u001b[0;34m(self, s, _w)\u001b[0m\n\u001b[1;32m    337\u001b[0m \u001b[0;34m\u001b[0m\u001b[0m\n\u001b[1;32m    338\u001b[0m         \"\"\"\n\u001b[0;32m--> 339\u001b[0;31m         \u001b[0mobj\u001b[0m\u001b[0;34m,\u001b[0m \u001b[0mend\u001b[0m \u001b[0;34m=\u001b[0m \u001b[0mself\u001b[0m\u001b[0;34m.\u001b[0m\u001b[0mraw_decode\u001b[0m\u001b[0;34m(\u001b[0m\u001b[0ms\u001b[0m\u001b[0;34m,\u001b[0m \u001b[0midx\u001b[0m\u001b[0;34m=\u001b[0m\u001b[0m_w\u001b[0m\u001b[0;34m(\u001b[0m\u001b[0ms\u001b[0m\u001b[0;34m,\u001b[0m \u001b[0;36m0\u001b[0m\u001b[0;34m)\u001b[0m\u001b[0;34m.\u001b[0m\u001b[0mend\u001b[0m\u001b[0;34m(\u001b[0m\u001b[0;34m)\u001b[0m\u001b[0;34m)\u001b[0m\u001b[0;34m\u001b[0m\u001b[0;34m\u001b[0m\u001b[0m\n\u001b[0m\u001b[1;32m    340\u001b[0m         \u001b[0mend\u001b[0m \u001b[0;34m=\u001b[0m \u001b[0m_w\u001b[0m\u001b[0;34m(\u001b[0m\u001b[0ms\u001b[0m\u001b[0;34m,\u001b[0m \u001b[0mend\u001b[0m\u001b[0;34m)\u001b[0m\u001b[0;34m.\u001b[0m\u001b[0mend\u001b[0m\u001b[0;34m(\u001b[0m\u001b[0;34m)\u001b[0m\u001b[0;34m\u001b[0m\u001b[0;34m\u001b[0m\u001b[0m\n\u001b[1;32m    341\u001b[0m         \u001b[0;32mif\u001b[0m \u001b[0mend\u001b[0m \u001b[0;34m!=\u001b[0m \u001b[0mlen\u001b[0m\u001b[0;34m(\u001b[0m\u001b[0ms\u001b[0m\u001b[0;34m)\u001b[0m\u001b[0;34m:\u001b[0m\u001b[0;34m\u001b[0m\u001b[0;34m\u001b[0m\u001b[0m\n",
            "\u001b[0;32m/usr/lib/python3.6/json/decoder.py\u001b[0m in \u001b[0;36mraw_decode\u001b[0;34m(self, s, idx)\u001b[0m\n\u001b[1;32m    353\u001b[0m         \"\"\"\n\u001b[1;32m    354\u001b[0m         \u001b[0;32mtry\u001b[0m\u001b[0;34m:\u001b[0m\u001b[0;34m\u001b[0m\u001b[0;34m\u001b[0m\u001b[0m\n\u001b[0;32m--> 355\u001b[0;31m             \u001b[0mobj\u001b[0m\u001b[0;34m,\u001b[0m \u001b[0mend\u001b[0m \u001b[0;34m=\u001b[0m \u001b[0mself\u001b[0m\u001b[0;34m.\u001b[0m\u001b[0mscan_once\u001b[0m\u001b[0;34m(\u001b[0m\u001b[0ms\u001b[0m\u001b[0;34m,\u001b[0m \u001b[0midx\u001b[0m\u001b[0;34m)\u001b[0m\u001b[0;34m\u001b[0m\u001b[0;34m\u001b[0m\u001b[0m\n\u001b[0m\u001b[1;32m    356\u001b[0m         \u001b[0;32mexcept\u001b[0m \u001b[0mStopIteration\u001b[0m \u001b[0;32mas\u001b[0m \u001b[0merr\u001b[0m\u001b[0;34m:\u001b[0m\u001b[0;34m\u001b[0m\u001b[0;34m\u001b[0m\u001b[0m\n\u001b[1;32m    357\u001b[0m             \u001b[0;32mraise\u001b[0m \u001b[0mJSONDecodeError\u001b[0m\u001b[0;34m(\u001b[0m\u001b[0;34m\"Expecting value\"\u001b[0m\u001b[0;34m,\u001b[0m \u001b[0ms\u001b[0m\u001b[0;34m,\u001b[0m \u001b[0merr\u001b[0m\u001b[0;34m.\u001b[0m\u001b[0mvalue\u001b[0m\u001b[0;34m)\u001b[0m \u001b[0;32mfrom\u001b[0m \u001b[0;32mNone\u001b[0m\u001b[0;34m\u001b[0m\u001b[0;34m\u001b[0m\u001b[0m\n",
            "\u001b[0;31mJSONDecodeError\u001b[0m: Expecting ',' delimiter: line 1 column 602 (char 601)"
          ]
        }
      ]
    },
    {
      "cell_type": "code",
      "metadata": {
        "id": "Ld5jJw-oCKpr"
      },
      "source": [
        "\"\"\"Extract nested values from a JSON tree.\"\"\"\n",
        "\n",
        "\n",
        "def json_extract(obj, key):\n",
        "    \"\"\"Recursively fetch values from nested JSON.\"\"\"\n",
        "    arr = []\n",
        "\n",
        "    def extract(obj, arr, key):\n",
        "        \"\"\"Recursively search for values of key in JSON tree.\"\"\"\n",
        "        if isinstance(obj, dict):\n",
        "            for k, v in obj.items():\n",
        "                if isinstance(v, (dict, list)):\n",
        "                    extract(v, arr, key)\n",
        "                elif k == key:\n",
        "                    arr.append(v)\n",
        "        elif isinstance(obj, list):\n",
        "            for item in obj:\n",
        "                extract(item, arr, key)\n",
        "        return arr\n",
        "\n",
        "    values = extract(obj, arr, key)\n",
        "    return values"
      ],
      "execution_count": null,
      "outputs": []
    },
    {
      "cell_type": "code",
      "metadata": {
        "id": "z2aZ3KcPIFk6",
        "colab": {
          "base_uri": "https://localhost:8080/",
          "height": 238
        },
        "outputId": "b5a5fd9d-5ce8-44e1-a915-3a3b23e64bbc"
      },
      "source": [
        "!pip install fuzzywuzzy\n",
        "!pip install python-Levenshtein"
      ],
      "execution_count": null,
      "outputs": [
        {
          "output_type": "stream",
          "text": [
            "Requirement already satisfied: fuzzywuzzy in /usr/local/lib/python3.6/dist-packages (0.18.0)\n",
            "Collecting python-Levenshtein\n",
            "\u001b[?25l  Downloading https://files.pythonhosted.org/packages/42/a9/d1785c85ebf9b7dfacd08938dd028209c34a0ea3b1bcdb895208bd40a67d/python-Levenshtein-0.12.0.tar.gz (48kB)\n",
            "\u001b[K     |████████████████████████████████| 51kB 2.3MB/s \n",
            "\u001b[?25hRequirement already satisfied: setuptools in /usr/local/lib/python3.6/dist-packages (from python-Levenshtein) (49.2.0)\n",
            "Building wheels for collected packages: python-Levenshtein\n",
            "  Building wheel for python-Levenshtein (setup.py) ... \u001b[?25l\u001b[?25hdone\n",
            "  Created wheel for python-Levenshtein: filename=python_Levenshtein-0.12.0-cp36-cp36m-linux_x86_64.whl size=144798 sha256=6963c578f84e721d5671fdb5555972e25ab69a5d2de9c7f75efb07924cd4235a\n",
            "  Stored in directory: /root/.cache/pip/wheels/de/c2/93/660fd5f7559049268ad2dc6d81c4e39e9e36518766eaf7e342\n",
            "Successfully built python-Levenshtein\n",
            "Installing collected packages: python-Levenshtein\n",
            "Successfully installed python-Levenshtein-0.12.0\n"
          ],
          "name": "stdout"
        }
      ]
    },
    {
      "cell_type": "markdown",
      "metadata": {
        "id": "esWl6Q25ID1C"
      },
      "source": [
        "Fuzzy Searcg"
      ]
    },
    {
      "cell_type": "code",
      "metadata": {
        "id": "OF0-2BvQIGf0",
        "colab": {
          "base_uri": "https://localhost:8080/",
          "height": 34
        },
        "outputId": "c1add92e-76a9-4b56-e230-713bfbfc1212"
      },
      "source": [
        "from fuzzywuzzy import fuzz\n",
        "# Str1 = \"Apple Inc.\"\n",
        "# Str2 = \"apple Inc\"\n",
        "Str1 = \"Northwind Travellers' Hotel\"\n",
        "# Str2 = \"Northwind Travellers Hoctel\"\n",
        "Str2 = \"Northwind Travellers Hotel\"\n",
        "\n",
        "\n",
        "# Str2 = \"Northwind Travellers Hotel\"\n",
        "\n",
        "Ratio = fuzz.ratio(Str1,Str2.upper())\n",
        "print(Ratio)"
      ],
      "execution_count": null,
      "outputs": [
        {
          "output_type": "stream",
          "text": [
            "19\n"
          ],
          "name": "stdout"
        }
      ]
    }
  ]
}